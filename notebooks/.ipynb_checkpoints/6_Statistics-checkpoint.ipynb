{
 "cells": [
  {
   "cell_type": "code",
   "execution_count": 46,
   "id": "d7eb3e77-ecd7-4d50-92a9-b66088490bfb",
   "metadata": {},
   "outputs": [
    {
     "name": "stderr",
     "output_type": "stream",
     "text": [
      "\u001b[32m\u001b[1m   Resolving\u001b[22m\u001b[39m package versions...\n",
      "\u001b[32m\u001b[1m   Installed\u001b[22m\u001b[39m Distributions ─ v0.25.112\n",
      "\u001b[32m\u001b[1m    Updating\u001b[22m\u001b[39m `C:\\Users\\herol\\julia\\GlacierHydroFieldcourse.jl\\Project.toml`\n",
      "  \u001b[90m[31c24e10] \u001b[39m\u001b[92m+ Distributions v0.25.112\u001b[39m\n",
      "\u001b[32m\u001b[1m    Updating\u001b[22m\u001b[39m `C:\\Users\\herol\\julia\\GlacierHydroFieldcourse.jl\\Manifest.toml`\n",
      "  \u001b[90m[31c24e10] \u001b[39m\u001b[93m↑ Distributions v0.25.111 ⇒ v0.25.112\u001b[39m\n",
      "\u001b[32m\u001b[1mPrecompiling\u001b[22m\u001b[39m project...\n",
      "\u001b[33m  ✓ \u001b[39mDistributions\n",
      "\u001b[33m  ✓ \u001b[39m\u001b[90mDistributions → DistributionsChainRulesCoreExt\u001b[39m\n",
      "\u001b[32m  ✓ \u001b[39m\u001b[90mDistributions → DistributionsTestExt\u001b[39m\n",
      "  3 dependencies successfully precompiled in 9 seconds. 297 already precompiled.\n",
      "  \u001b[33m2\u001b[39m dependencies precompiled but different versions are currently loaded. Restart julia to access the new versions\n"
     ]
    }
   ],
   "source": [
    "import Pkg; Pkg.add(\"Distributions\")"
   ]
  },
  {
   "cell_type": "code",
   "execution_count": 48,
   "id": "b69503df-f897-4a98-bda9-59085e36b394",
   "metadata": {},
   "outputs": [
    {
     "data": {
      "text/html": [
       "<div><div style = \"float: left;\"><span>15×5 DataFrame</span></div><div style = \"clear: both;\"></div></div><div class = \"data-frame\" style = \"overflow-x: scroll;\"><table class = \"data-frame\" style = \"margin-bottom: 6px;\"><thead><tr class = \"header\"><th class = \"rowNumber\" style = \"font-weight: bold; text-align: right;\">Row</th><th style = \"text-align: left;\">id</th><th style = \"text-align: left;\">Name</th><th style = \"text-align: left;\">Area</th><th style = \"text-align: left;\">Perimeter</th><th style = \"text-align: left;\">MaxDist</th></tr><tr class = \"subheader headerLastRow\"><th class = \"rowNumber\" style = \"font-weight: bold; text-align: right;\"></th><th title = \"Float64\" style = \"text-align: left;\">Float64</th><th title = \"String15\" style = \"text-align: left;\">String15</th><th title = \"Float64\" style = \"text-align: left;\">Float64</th><th title = \"Float64\" style = \"text-align: left;\">Float64</th><th title = \"Float64\" style = \"text-align: left;\">Float64</th></tr></thead><tbody><tr><td class = \"rowNumber\" style = \"font-weight: bold; text-align: right;\">1</td><td style = \"text-align: right;\">1.0</td><td style = \"text-align: left;\">01InjCTD</td><td style = \"text-align: right;\">216.642</td><td style = \"text-align: right;\">269.978</td><td style = \"text-align: right;\">123.679</td></tr><tr><td class = \"rowNumber\" style = \"font-weight: bold; text-align: right;\">2</td><td style = \"text-align: right;\">1.1</td><td style = \"text-align: left;\">01InjWTW</td><td style = \"text-align: right;\">92.0273</td><td style = \"text-align: right;\">132.29</td><td style = \"text-align: right;\">63.7152</td></tr><tr><td class = \"rowNumber\" style = \"font-weight: bold; text-align: right;\">3</td><td style = \"text-align: right;\">1.2</td><td style = \"text-align: left;\">01WTWCTD</td><td style = \"text-align: right;\">124.615</td><td style = \"text-align: right;\">140.818</td><td style = \"text-align: right;\">63.1737</td></tr><tr><td class = \"rowNumber\" style = \"font-weight: bold; text-align: right;\">4</td><td style = \"text-align: right;\">2.0</td><td style = \"text-align: left;\">02InjCTD</td><td style = \"text-align: right;\">306.059</td><td style = \"text-align: right;\">649.573</td><td style = \"text-align: right;\">289.085</td></tr><tr><td class = \"rowNumber\" style = \"font-weight: bold; text-align: right;\">5</td><td style = \"text-align: right;\">2.1</td><td style = \"text-align: left;\">02InjWTW</td><td style = \"text-align: right;\">192.417</td><td style = \"text-align: right;\">450.904</td><td style = \"text-align: right;\">206.98</td></tr><tr><td class = \"rowNumber\" style = \"font-weight: bold; text-align: right;\">6</td><td style = \"text-align: right;\">2.2</td><td style = \"text-align: left;\">02WTWCTD</td><td style = \"text-align: right;\">113.642</td><td style = \"text-align: right;\">200.328</td><td style = \"text-align: right;\">83.4826</td></tr><tr><td class = \"rowNumber\" style = \"font-weight: bold; text-align: right;\">7</td><td style = \"text-align: right;\">3.0</td><td style = \"text-align: left;\">03InjCTD</td><td style = \"text-align: right;\">129.12</td><td style = \"text-align: right;\">255.365</td><td style = \"text-align: right;\">120.142</td></tr><tr><td class = \"rowNumber\" style = \"font-weight: bold; text-align: right;\">8</td><td style = \"text-align: right;\">3.1</td><td style = \"text-align: left;\">03InjWTW</td><td style = \"text-align: right;\">57.7855</td><td style = \"text-align: right;\">114.642</td><td style = \"text-align: right;\">52.7038</td></tr><tr><td class = \"rowNumber\" style = \"font-weight: bold; text-align: right;\">9</td><td style = \"text-align: right;\">3.2</td><td style = \"text-align: left;\">03WTWCTD</td><td style = \"text-align: right;\">71.3055</td><td style = \"text-align: right;\">142.939</td><td style = \"text-align: right;\">67.5699</td></tr><tr><td class = \"rowNumber\" style = \"font-weight: bold; text-align: right;\">10</td><td style = \"text-align: right;\">4.0</td><td style = \"text-align: left;\">04InjCTD</td><td style = \"text-align: right;\">140.742</td><td style = \"text-align: right;\">244.13</td><td style = \"text-align: right;\">98.3774</td></tr><tr><td class = \"rowNumber\" style = \"font-weight: bold; text-align: right;\">11</td><td style = \"text-align: right;\">4.1</td><td style = \"text-align: left;\">04InjWTW</td><td style = \"text-align: right;\">34.37</td><td style = \"text-align: right;\">58.6392</td><td style = \"text-align: right;\">24.5612</td></tr><tr><td class = \"rowNumber\" style = \"font-weight: bold; text-align: right;\">12</td><td style = \"text-align: right;\">4.2</td><td style = \"text-align: left;\">04WTWCTD</td><td style = \"text-align: right;\">106.355</td><td style = \"text-align: right;\">187.576</td><td style = \"text-align: right;\">75.049</td></tr><tr><td class = \"rowNumber\" style = \"font-weight: bold; text-align: right;\">13</td><td style = \"text-align: right;\">5.0</td><td style = \"text-align: left;\">1upperInjCTD</td><td style = \"text-align: right;\">75.8892</td><td style = \"text-align: right;\">170.497</td><td style = \"text-align: right;\">76.3337</td></tr><tr><td class = \"rowNumber\" style = \"font-weight: bold; text-align: right;\">14</td><td style = \"text-align: right;\">5.1</td><td style = \"text-align: left;\">1upperInjWTW</td><td style = \"text-align: right;\">55.9841</td><td style = \"text-align: right;\">116.507</td><td style = \"text-align: right;\">52.2114</td></tr><tr><td class = \"rowNumber\" style = \"font-weight: bold; text-align: right;\">15</td><td style = \"text-align: right;\">5.2</td><td style = \"text-align: left;\">1upperWTWCTD</td><td style = \"text-align: right;\">19.8828</td><td style = \"text-align: right;\">56.1903</td><td style = \"text-align: right;\">26.8196</td></tr></tbody></table></div>"
      ],
      "text/latex": [
       "\\begin{tabular}{r|ccccc}\n",
       "\t& id & Name & Area & Perimeter & MaxDist\\\\\n",
       "\t\\hline\n",
       "\t& Float64 & String15 & Float64 & Float64 & Float64\\\\\n",
       "\t\\hline\n",
       "\t1 & 1.0 & 01InjCTD & 216.642 & 269.978 & 123.679 \\\\\n",
       "\t2 & 1.1 & 01InjWTW & 92.0273 & 132.29 & 63.7152 \\\\\n",
       "\t3 & 1.2 & 01WTWCTD & 124.615 & 140.818 & 63.1737 \\\\\n",
       "\t4 & 2.0 & 02InjCTD & 306.059 & 649.573 & 289.085 \\\\\n",
       "\t5 & 2.1 & 02InjWTW & 192.417 & 450.904 & 206.98 \\\\\n",
       "\t6 & 2.2 & 02WTWCTD & 113.642 & 200.328 & 83.4826 \\\\\n",
       "\t7 & 3.0 & 03InjCTD & 129.12 & 255.365 & 120.142 \\\\\n",
       "\t8 & 3.1 & 03InjWTW & 57.7855 & 114.642 & 52.7038 \\\\\n",
       "\t9 & 3.2 & 03WTWCTD & 71.3055 & 142.939 & 67.5699 \\\\\n",
       "\t10 & 4.0 & 04InjCTD & 140.742 & 244.13 & 98.3774 \\\\\n",
       "\t11 & 4.1 & 04InjWTW & 34.37 & 58.6392 & 24.5612 \\\\\n",
       "\t12 & 4.2 & 04WTWCTD & 106.355 & 187.576 & 75.049 \\\\\n",
       "\t13 & 5.0 & 1upperInjCTD & 75.8892 & 170.497 & 76.3337 \\\\\n",
       "\t14 & 5.1 & 1upperInjWTW & 55.9841 & 116.507 & 52.2114 \\\\\n",
       "\t15 & 5.2 & 1upperWTWCTD & 19.8828 & 56.1903 & 26.8196 \\\\\n",
       "\\end{tabular}\n"
      ],
      "text/plain": [
       "\u001b[1m15×5 DataFrame\u001b[0m\n",
       "\u001b[1m Row \u001b[0m│\u001b[1m id      \u001b[0m\u001b[1m Name         \u001b[0m\u001b[1m Area     \u001b[0m\u001b[1m Perimeter \u001b[0m\u001b[1m MaxDist  \u001b[0m\n",
       "     │\u001b[90m Float64 \u001b[0m\u001b[90m String15     \u001b[0m\u001b[90m Float64  \u001b[0m\u001b[90m Float64   \u001b[0m\u001b[90m Float64  \u001b[0m\n",
       "─────┼──────────────────────────────────────────────────────\n",
       "   1 │     1.0  01InjCTD      216.642    269.978   123.679\n",
       "   2 │     1.1  01InjWTW       92.0273   132.29     63.7152\n",
       "   3 │     1.2  01WTWCTD      124.615    140.818    63.1737\n",
       "   4 │     2.0  02InjCTD      306.059    649.573   289.085\n",
       "   5 │     2.1  02InjWTW      192.417    450.904   206.98\n",
       "   6 │     2.2  02WTWCTD      113.642    200.328    83.4826\n",
       "   7 │     3.0  03InjCTD      129.12     255.365   120.142\n",
       "   8 │     3.1  03InjWTW       57.7855   114.642    52.7038\n",
       "   9 │     3.2  03WTWCTD       71.3055   142.939    67.5699\n",
       "  10 │     4.0  04InjCTD      140.742    244.13     98.3774\n",
       "  11 │     4.1  04InjWTW       34.37      58.6392   24.5612\n",
       "  12 │     4.2  04WTWCTD      106.355    187.576    75.049\n",
       "  13 │     5.0  1upperInjCTD   75.8892   170.497    76.3337\n",
       "  14 │     5.1  1upperInjWTW   55.9841   116.507    52.2114\n",
       "  15 │     5.2  1upperWTWCTD   19.8828    56.1903   26.8196"
      ]
     },
     "execution_count": 48,
     "metadata": {},
     "output_type": "execute_result"
    }
   ],
   "source": [
    "using CSV, DataFrames\n",
    "using GLMakie\n",
    "using MonteCarloMeasurements, Distributions"
   ]
  },
  {
   "cell_type": "code",
   "execution_count": 84,
   "id": "e7c66d5f-ede3-474b-8070-0a2a49bc0695",
   "metadata": {},
   "outputs": [
    {
     "data": {
      "text/html": [
       "<div><div style = \"float: left;\"><span>15×5 DataFrame</span></div><div style = \"clear: both;\"></div></div><div class = \"data-frame\" style = \"overflow-x: scroll;\"><table class = \"data-frame\" style = \"margin-bottom: 6px;\"><thead><tr class = \"header\"><th class = \"rowNumber\" style = \"font-weight: bold; text-align: right;\">Row</th><th style = \"text-align: left;\">id</th><th style = \"text-align: left;\">Name</th><th style = \"text-align: left;\">Area</th><th style = \"text-align: left;\">Perimeter</th><th style = \"text-align: left;\">MaxDist</th></tr><tr class = \"subheader headerLastRow\"><th class = \"rowNumber\" style = \"font-weight: bold; text-align: right;\"></th><th title = \"Float64\" style = \"text-align: left;\">Float64</th><th title = \"String15\" style = \"text-align: left;\">String15</th><th title = \"Particles{Float64, 2000}\" style = \"text-align: left;\">Particle…</th><th title = \"Particles{Float64, 2000}\" style = \"text-align: left;\">Particle…</th><th title = \"Particles{Float64, 2000}\" style = \"text-align: left;\">Particle…</th></tr></thead><tbody><tr><td class = \"rowNumber\" style = \"font-weight: bold; text-align: right;\">1</td><td style = \"text-align: right;\">1.0</td><td style = \"text-align: left;\">01InjCTD</td><td style = \"text-align: right;\">215.0 ± 21.0</td><td style = \"text-align: right;\">270.0 ± 5.4</td><td style = \"text-align: right;\">124.0 ± 0.51</td></tr><tr><td class = \"rowNumber\" style = \"font-weight: bold; text-align: right;\">2</td><td style = \"text-align: right;\">1.1</td><td style = \"text-align: left;\">01InjWTW</td><td style = \"text-align: right;\">91.7 ± 9.1</td><td style = \"text-align: right;\">132.0 ± 2.6</td><td style = \"text-align: right;\">63.7 ± 0.5</td></tr><tr><td class = \"rowNumber\" style = \"font-weight: bold; text-align: right;\">3</td><td style = \"text-align: right;\">1.2</td><td style = \"text-align: left;\">01WTWCTD</td><td style = \"text-align: right;\">125.0 ± 12.0</td><td style = \"text-align: right;\">141.0 ± 2.8</td><td style = \"text-align: right;\">63.2 ± 0.51</td></tr><tr><td class = \"rowNumber\" style = \"font-weight: bold; text-align: right;\">4</td><td style = \"text-align: right;\">2.0</td><td style = \"text-align: left;\">02InjCTD</td><td style = \"text-align: right;\">306.0 ± 31.0</td><td style = \"text-align: right;\">650.0 ± 13.0</td><td style = \"text-align: right;\">289.0 ± 0.5</td></tr><tr><td class = \"rowNumber\" style = \"font-weight: bold; text-align: right;\">5</td><td style = \"text-align: right;\">2.1</td><td style = \"text-align: left;\">02InjWTW</td><td style = \"text-align: right;\">193.0 ± 19.0</td><td style = \"text-align: right;\">451.0 ± 8.8</td><td style = \"text-align: right;\">207.0 ± 0.5</td></tr><tr><td class = \"rowNumber\" style = \"font-weight: bold; text-align: right;\">6</td><td style = \"text-align: right;\">2.2</td><td style = \"text-align: left;\">02WTWCTD</td><td style = \"text-align: right;\">113.0 ± 11.0</td><td style = \"text-align: right;\">200.0 ± 4.1</td><td style = \"text-align: right;\">83.5 ± 0.5</td></tr><tr><td class = \"rowNumber\" style = \"font-weight: bold; text-align: right;\">7</td><td style = \"text-align: right;\">3.0</td><td style = \"text-align: left;\">03InjCTD</td><td style = \"text-align: right;\">129.0 ± 13.0</td><td style = \"text-align: right;\">255.0 ± 5.0</td><td style = \"text-align: right;\">120.0 ± 0.5</td></tr><tr><td class = \"rowNumber\" style = \"font-weight: bold; text-align: right;\">8</td><td style = \"text-align: right;\">3.1</td><td style = \"text-align: left;\">03InjWTW</td><td style = \"text-align: right;\">57.8 ± 5.7</td><td style = \"text-align: right;\">115.0 ± 2.4</td><td style = \"text-align: right;\">52.7 ± 0.51</td></tr><tr><td class = \"rowNumber\" style = \"font-weight: bold; text-align: right;\">9</td><td style = \"text-align: right;\">3.2</td><td style = \"text-align: left;\">03WTWCTD</td><td style = \"text-align: right;\">71.3 ± 7.0</td><td style = \"text-align: right;\">143.0 ± 2.8</td><td style = \"text-align: right;\">67.6 ± 0.5</td></tr><tr><td class = \"rowNumber\" style = \"font-weight: bold; text-align: right;\">10</td><td style = \"text-align: right;\">4.0</td><td style = \"text-align: left;\">04InjCTD</td><td style = \"text-align: right;\">140.0 ± 14.0</td><td style = \"text-align: right;\">244.0 ± 4.9</td><td style = \"text-align: right;\">98.4 ± 0.51</td></tr><tr><td class = \"rowNumber\" style = \"font-weight: bold; text-align: right;\">11</td><td style = \"text-align: right;\">4.1</td><td style = \"text-align: left;\">04InjWTW</td><td style = \"text-align: right;\">34.4 ± 3.4</td><td style = \"text-align: right;\">58.6 ± 1.2</td><td style = \"text-align: right;\">24.6 ± 0.5</td></tr><tr><td class = \"rowNumber\" style = \"font-weight: bold; text-align: right;\">12</td><td style = \"text-align: right;\">4.2</td><td style = \"text-align: left;\">04WTWCTD</td><td style = \"text-align: right;\">107.0 ± 10.0</td><td style = \"text-align: right;\">188.0 ± 3.7</td><td style = \"text-align: right;\">75.1 ± 0.5</td></tr><tr><td class = \"rowNumber\" style = \"font-weight: bold; text-align: right;\">13</td><td style = \"text-align: right;\">5.0</td><td style = \"text-align: left;\">1upperInjCTD</td><td style = \"text-align: right;\">75.8 ± 7.7</td><td style = \"text-align: right;\">170.0 ± 3.3</td><td style = \"text-align: right;\">76.3 ± 0.51</td></tr><tr><td class = \"rowNumber\" style = \"font-weight: bold; text-align: right;\">14</td><td style = \"text-align: right;\">5.1</td><td style = \"text-align: left;\">1upperInjWTW</td><td style = \"text-align: right;\">56.2 ± 5.7</td><td style = \"text-align: right;\">116.0 ± 2.3</td><td style = \"text-align: right;\">52.2 ± 0.51</td></tr><tr><td class = \"rowNumber\" style = \"font-weight: bold; text-align: right;\">15</td><td style = \"text-align: right;\">5.2</td><td style = \"text-align: left;\">1upperWTWCTD</td><td style = \"text-align: right;\">19.9 ± 1.9</td><td style = \"text-align: right;\">56.2 ± 1.1</td><td style = \"text-align: right;\">26.8 ± 0.5</td></tr></tbody></table></div>"
      ],
      "text/latex": [
       "\\begin{tabular}{r|ccccc}\n",
       "\t& id & Name & Area & Perimeter & MaxDist\\\\\n",
       "\t\\hline\n",
       "\t& Float64 & String15 & Particle… & Particle… & Particle…\\\\\n",
       "\t\\hline\n",
       "\t1 & 1.0 & 01InjCTD & 215.0 ± 21.0 & 270.0 ± 5.4 & 124.0 ± 0.51 \\\\\n",
       "\t2 & 1.1 & 01InjWTW & 91.7 ± 9.1 & 132.0 ± 2.6 & 63.7 ± 0.5 \\\\\n",
       "\t3 & 1.2 & 01WTWCTD & 125.0 ± 12.0 & 141.0 ± 2.8 & 63.2 ± 0.51 \\\\\n",
       "\t4 & 2.0 & 02InjCTD & 306.0 ± 31.0 & 650.0 ± 13.0 & 289.0 ± 0.5 \\\\\n",
       "\t5 & 2.1 & 02InjWTW & 193.0 ± 19.0 & 451.0 ± 8.8 & 207.0 ± 0.5 \\\\\n",
       "\t6 & 2.2 & 02WTWCTD & 113.0 ± 11.0 & 200.0 ± 4.1 & 83.5 ± 0.5 \\\\\n",
       "\t7 & 3.0 & 03InjCTD & 129.0 ± 13.0 & 255.0 ± 5.0 & 120.0 ± 0.5 \\\\\n",
       "\t8 & 3.1 & 03InjWTW & 57.8 ± 5.7 & 115.0 ± 2.4 & 52.7 ± 0.51 \\\\\n",
       "\t9 & 3.2 & 03WTWCTD & 71.3 ± 7.0 & 143.0 ± 2.8 & 67.6 ± 0.5 \\\\\n",
       "\t10 & 4.0 & 04InjCTD & 140.0 ± 14.0 & 244.0 ± 4.9 & 98.4 ± 0.51 \\\\\n",
       "\t11 & 4.1 & 04InjWTW & 34.4 ± 3.4 & 58.6 ± 1.2 & 24.6 ± 0.5 \\\\\n",
       "\t12 & 4.2 & 04WTWCTD & 107.0 ± 10.0 & 188.0 ± 3.7 & 75.1 ± 0.5 \\\\\n",
       "\t13 & 5.0 & 1upperInjCTD & 75.8 ± 7.7 & 170.0 ± 3.3 & 76.3 ± 0.51 \\\\\n",
       "\t14 & 5.1 & 1upperInjWTW & 56.2 ± 5.7 & 116.0 ± 2.3 & 52.2 ± 0.51 \\\\\n",
       "\t15 & 5.2 & 1upperWTWCTD & 19.9 ± 1.9 & 56.2 ± 1.1 & 26.8 ± 0.5 \\\\\n",
       "\\end{tabular}\n"
      ],
      "text/plain": [
       "\u001b[1m15×5 DataFrame\u001b[0m\n",
       "\u001b[1m Row \u001b[0m│\u001b[1m id      \u001b[0m\u001b[1m Name         \u001b[0m\u001b[1m Area         \u001b[0m\u001b[1m Perimeter    \u001b[0m\u001b[1m MaxDist      \u001b[0m\n",
       "     │\u001b[90m Float64 \u001b[0m\u001b[90m String15     \u001b[0m\u001b[90m Particle…    \u001b[0m\u001b[90m Particle…    \u001b[0m\u001b[90m Particle…    \u001b[0m\n",
       "─────┼─────────────────────────────────────────────────────────────────\n",
       "   1 │     1.0  01InjCTD      215.0 ± 21.0  270.0 ± 5.4   124.0 ± 0.51\n",
       "   2 │     1.1  01InjWTW       91.7 ± 9.1   132.0 ± 2.6    63.7 ± 0.5\n",
       "   3 │     1.2  01WTWCTD      125.0 ± 12.0  141.0 ± 2.8    63.2 ± 0.51\n",
       "   4 │     2.0  02InjCTD      306.0 ± 31.0  650.0 ± 13.0  289.0 ± 0.5\n",
       "   5 │     2.1  02InjWTW      193.0 ± 19.0  451.0 ± 8.8   207.0 ± 0.5\n",
       "   6 │     2.2  02WTWCTD      113.0 ± 11.0  200.0 ± 4.1    83.5 ± 0.5\n",
       "   7 │     3.0  03InjCTD      129.0 ± 13.0  255.0 ± 5.0   120.0 ± 0.5\n",
       "   8 │     3.1  03InjWTW       57.8 ± 5.7   115.0 ± 2.4    52.7 ± 0.51\n",
       "   9 │     3.2  03WTWCTD       71.3 ± 7.0   143.0 ± 2.8    67.6 ± 0.5\n",
       "  10 │     4.0  04InjCTD      140.0 ± 14.0  244.0 ± 4.9    98.4 ± 0.51\n",
       "  11 │     4.1  04InjWTW       34.4 ± 3.4    58.6 ± 1.2    24.6 ± 0.5\n",
       "  12 │     4.2  04WTWCTD      107.0 ± 10.0  188.0 ± 3.7    75.1 ± 0.5\n",
       "  13 │     5.0  1upperInjCTD   75.8 ± 7.7   170.0 ± 3.3    76.3 ± 0.51\n",
       "  14 │     5.1  1upperInjWTW   56.2 ± 5.7   116.0 ± 2.3    52.2 ± 0.51\n",
       "  15 │     5.2  1upperWTWCTD   19.9 ± 1.9    56.2 ± 1.1    26.8 ± 0.5"
      ]
     },
     "execution_count": 84,
     "metadata": {},
     "output_type": "execute_result"
    }
   ],
   "source": [
    "poly = CSV.read(\"../data/raw/GISData_raw.csv\", DataFrame)\n",
    "poly.Area = poly.Area ± 0.1.*poly.Area\n",
    "poly.Perimeter = poly.Perimeter ± 0.02.*poly.Perimeter\n",
    "poly.MaxDist = poly.MaxDist ± 0.5"
   ]
  },
  {
   "cell_type": "code",
   "execution_count": 4,
   "id": "5925053e-1b25-40ae-811a-40bddc2b8bd7",
   "metadata": {},
   "outputs": [
    {
     "name": "stderr",
     "output_type": "stream",
     "text": [
      "\u001b[33m\u001b[1m┌ \u001b[22m\u001b[39m\u001b[33m\u001b[1mWarning: \u001b[22m\u001b[39mFound `resolution` in the theme when creating a `Scene`. The `resolution` keyword for `Scene`s and `Figure`s has been deprecated. Use `Figure(; size = ...` or `Scene(; size = ...)` instead, which better reflects that this is a unitless size and not a pixel resolution. The key could also come from `set_theme!` calls or related theming functions.\n",
      "\u001b[33m\u001b[1m└ \u001b[22m\u001b[39m\u001b[90m@ Makie C:\\Users\\herol\\.julia\\packages\\Makie\\8h0bl\\src\\scenes.jl:227\u001b[39m\n"
     ]
    },
    {
     "data": {
      "text/plain": [
       "GLMakie.Screen(...)"
      ]
     },
     "execution_count": 4,
     "metadata": {},
     "output_type": "execute_result"
    }
   ],
   "source": [
    "#plot Sinuosity, Width_avg, Grad_Flow and Grad_straight against each other\n",
    "\"\"\"\n",
    "GISData_temp = GISData[:, [7, 8, 10, 11]]\n",
    "\n",
    "Makie.inline!(false)\n",
    "# Get column names\n",
    "columns = names(GISData_temp)\n",
    "\n",
    "# Create a figure with subplots\n",
    "n = length(columns)\n",
    "fig = Figure(resolution = (600, 600))\n",
    "\n",
    "# Loop through pairs of columns to create scatter plots\n",
    "for i in 1:n\n",
    "    for j in 1:n\n",
    "        ax = Axis(fig[i, j])\n",
    "        scatter!(ax, GISData_temp[:, columns[i]], GISData_temp[:, columns[j]])\n",
    "        \n",
    "        # Set x and y labels for the last row and first column respectively\n",
    "        if i == n\n",
    "            ax.xlabel = columns[j]  # Set x label\n",
    "        end\n",
    "        if j == 1\n",
    "            ax.ylabel = columns[i]  # Set y label\n",
    "        end\n",
    "    end\n",
    "end\n",
    "\n",
    "# Display the figure\n",
    "display(fig)\n",
    "\"\"\""
   ]
  },
  {
   "cell_type": "code",
   "execution_count": 52,
   "id": "53898554-8c32-42cc-9bd5-74e2a4c1e922",
   "metadata": {},
   "outputs": [
    {
     "data": {
      "text/html": [
       "<div><div style = \"float: left;\"><span>45×8 DataFrame</span></div><div style = \"float: right;\"><span style = \"font-style: italic;\">20 rows omitted</span></div><div style = \"clear: both;\"></div></div><div class = \"data-frame\" style = \"overflow-x: scroll;\"><table class = \"data-frame\" style = \"margin-bottom: 6px;\"><thead><tr class = \"header\"><th class = \"rowNumber\" style = \"font-weight: bold; text-align: right;\">Row</th><th style = \"text-align: left;\">Stream</th><th style = \"text-align: left;\">StreamSection</th><th style = \"text-align: left;\">Order</th><th style = \"text-align: left;\">Ellh_corr</th><th style = \"text-align: left;\">Width</th><th style = \"text-align: left;\">Depth1</th><th style = \"text-align: left;\">Depth2</th><th style = \"text-align: left;\">Depth3</th></tr><tr class = \"subheader headerLastRow\"><th class = \"rowNumber\" style = \"font-weight: bold; text-align: right;\"></th><th title = \"Int64\" style = \"text-align: left;\">Int64</th><th title = \"Int64\" style = \"text-align: left;\">Int64</th><th title = \"Int64\" style = \"text-align: left;\">Int64</th><th title = \"Particles{Float64, 2000}\" style = \"text-align: left;\">Particle…</th><th title = \"Particles{Float64, 2000}\" style = \"text-align: left;\">Particle…</th><th title = \"Particles{Float64, 2000}\" style = \"text-align: left;\">Particle…</th><th title = \"Particles{Float64, 2000}\" style = \"text-align: left;\">Particle…</th><th title = \"Particles{Float64, 2000}\" style = \"text-align: left;\">Particle…</th></tr></thead><tbody><tr><td class = \"rowNumber\" style = \"font-weight: bold; text-align: right;\">1</td><td style = \"text-align: right;\">2</td><td style = \"text-align: right;\">1</td><td style = \"text-align: right;\">1</td><td style = \"text-align: right;\">2710.0 ± 0.015</td><td style = \"text-align: right;\">70.0 ± 0.05</td><td style = \"text-align: right;\">25.0 ± 0.02</td><td style = \"text-align: right;\">28.0 ± 0.02</td><td style = \"text-align: right;\">28.0 ± 0.019</td></tr><tr><td class = \"rowNumber\" style = \"font-weight: bold; text-align: right;\">2</td><td style = \"text-align: right;\">2</td><td style = \"text-align: right;\">2</td><td style = \"text-align: right;\">2</td><td style = \"text-align: right;\">2710.0 ± 0.012</td><td style = \"text-align: right;\">110.0 ± 0.049</td><td style = \"text-align: right;\">20.0 ± 0.02</td><td style = \"text-align: right;\">25.0 ± 0.02</td><td style = \"text-align: right;\">22.0 ± 0.02</td></tr><tr><td class = \"rowNumber\" style = \"font-weight: bold; text-align: right;\">3</td><td style = \"text-align: right;\">2</td><td style = \"text-align: right;\">3</td><td style = \"text-align: right;\">3</td><td style = \"text-align: right;\">2710.0 ± 0.019</td><td style = \"text-align: right;\">110.0 ± 0.049</td><td style = \"text-align: right;\">15.0 ± 0.02</td><td style = \"text-align: right;\">17.0 ± 0.02</td><td style = \"text-align: right;\">25.0 ± 0.02</td></tr><tr><td class = \"rowNumber\" style = \"font-weight: bold; text-align: right;\">4</td><td style = \"text-align: right;\">2</td><td style = \"text-align: right;\">4</td><td style = \"text-align: right;\">3</td><td style = \"text-align: right;\">2710.0 ± 0.0099</td><td style = \"text-align: right;\">110.0 ± 0.049</td><td style = \"text-align: right;\">15.0 ± 0.02</td><td style = \"text-align: right;\">17.0 ± 0.02</td><td style = \"text-align: right;\">25.0 ± 0.02</td></tr><tr><td class = \"rowNumber\" style = \"font-weight: bold; text-align: right;\">5</td><td style = \"text-align: right;\">2</td><td style = \"text-align: right;\">4</td><td style = \"text-align: right;\">4</td><td style = \"text-align: right;\">2710.0 ± 0.012</td><td style = \"text-align: right;\">80.0 ± 0.05</td><td style = \"text-align: right;\">20.0 ± 0.021</td><td style = \"text-align: right;\">25.0 ± 0.02</td><td style = \"text-align: right;\">22.0 ± 0.019</td></tr><tr><td class = \"rowNumber\" style = \"font-weight: bold; text-align: right;\">6</td><td style = \"text-align: right;\">2</td><td style = \"text-align: right;\">4</td><td style = \"text-align: right;\">5</td><td style = \"text-align: right;\">2710.0 ± 0.016</td><td style = \"text-align: right;\">140.0 ± 0.05</td><td style = \"text-align: right;\">27.0 ± 0.02</td><td style = \"text-align: right;\">23.0 ± 0.02</td><td style = \"text-align: right;\">21.0 ± 0.02</td></tr><tr><td class = \"rowNumber\" style = \"font-weight: bold; text-align: right;\">7</td><td style = \"text-align: right;\">2</td><td style = \"text-align: right;\">4</td><td style = \"text-align: right;\">6</td><td style = \"text-align: right;\">2710.0 ± 0.014</td><td style = \"text-align: right;\">80.0 ± 0.051</td><td style = \"text-align: right;\">20.0 ± 0.02</td><td style = \"text-align: right;\">25.0 ± 0.02</td><td style = \"text-align: right;\">22.0 ± 0.02</td></tr><tr><td class = \"rowNumber\" style = \"font-weight: bold; text-align: right;\">8</td><td style = \"text-align: right;\">2</td><td style = \"text-align: right;\">5</td><td style = \"text-align: right;\">7</td><td style = \"text-align: right;\">2710.0 ± 0.019</td><td style = \"text-align: right;\">100.0 ± 0.05</td><td style = \"text-align: right;\">30.0 ± 0.02</td><td style = \"text-align: right;\">30.0 ± 0.019</td><td style = \"text-align: right;\">21.0 ± 0.02</td></tr><tr><td class = \"rowNumber\" style = \"font-weight: bold; text-align: right;\">9</td><td style = \"text-align: right;\">3</td><td style = \"text-align: right;\">0</td><td style = \"text-align: right;\">1</td><td style = \"text-align: right;\">2710.0 ± 0.024</td><td style = \"text-align: right;\">145.0 ± 0.048</td><td style = \"text-align: right;\">23.0 ± 0.02</td><td style = \"text-align: right;\">28.0 ± 0.02</td><td style = \"text-align: right;\">25.0 ± 0.02</td></tr><tr><td class = \"rowNumber\" style = \"font-weight: bold; text-align: right;\">10</td><td style = \"text-align: right;\">3</td><td style = \"text-align: right;\">1</td><td style = \"text-align: right;\">2</td><td style = \"text-align: right;\">2710.0 ± 0.022</td><td style = \"text-align: right;\">105.0 ± 0.049</td><td style = \"text-align: right;\">26.0 ± 0.02</td><td style = \"text-align: right;\">26.0 ± 0.02</td><td style = \"text-align: right;\">29.0 ± 0.02</td></tr><tr><td class = \"rowNumber\" style = \"font-weight: bold; text-align: right;\">11</td><td style = \"text-align: right;\">3</td><td style = \"text-align: right;\">2</td><td style = \"text-align: right;\">3</td><td style = \"text-align: right;\">2710.0 ± 0.017</td><td style = \"text-align: right;\">80.0 ± 0.05</td><td style = \"text-align: right;\">23.0 ± 0.021</td><td style = \"text-align: right;\">26.0 ± 0.02</td><td style = \"text-align: right;\">25.0 ± 0.02</td></tr><tr><td class = \"rowNumber\" style = \"font-weight: bold; text-align: right;\">12</td><td style = \"text-align: right;\">3</td><td style = \"text-align: right;\">2</td><td style = \"text-align: right;\">4</td><td style = \"text-align: right;\">2710.0 ± 0.014</td><td style = \"text-align: right;\">70.0 ± 0.049</td><td style = \"text-align: right;\">28.0 ± 0.02</td><td style = \"text-align: right;\">31.0 ± 0.02</td><td style = \"text-align: right;\">25.0 ± 0.021</td></tr><tr><td class = \"rowNumber\" style = \"font-weight: bold; text-align: right;\">13</td><td style = \"text-align: right;\">3</td><td style = \"text-align: right;\">3</td><td style = \"text-align: right;\">5</td><td style = \"text-align: right;\">2710.0 ± 0.012</td><td style = \"text-align: right;\">95.0 ± 0.05</td><td style = \"text-align: right;\">28.0 ± 0.021</td><td style = \"text-align: right;\">25.0 ± 0.02</td><td style = \"text-align: right;\">30.0 ± 0.02</td></tr><tr><td style = \"text-align: right;\">&vellip;</td><td style = \"text-align: right;\">&vellip;</td><td style = \"text-align: right;\">&vellip;</td><td style = \"text-align: right;\">&vellip;</td><td style = \"text-align: right;\">&vellip;</td><td style = \"text-align: right;\">&vellip;</td><td style = \"text-align: right;\">&vellip;</td><td style = \"text-align: right;\">&vellip;</td><td style = \"text-align: right;\">&vellip;</td></tr><tr><td class = \"rowNumber\" style = \"font-weight: bold; text-align: right;\">34</td><td style = \"text-align: right;\">1</td><td style = \"text-align: right;\">4</td><td style = \"text-align: right;\">8</td><td style = \"text-align: right;\">2700.0 ± 0.021</td><td style = \"text-align: right;\">210.0 ± 0.049</td><td style = \"text-align: right;\">30.0 ± 0.02</td><td style = \"text-align: right;\">33.0 ± 0.02</td><td style = \"text-align: right;\">33.0 ± 0.02</td></tr><tr><td class = \"rowNumber\" style = \"font-weight: bold; text-align: right;\">35</td><td style = \"text-align: right;\">1</td><td style = \"text-align: right;\">5</td><td style = \"text-align: right;\">9</td><td style = \"text-align: right;\">2700.0 ± 0.014</td><td style = \"text-align: right;\">210.0 ± 0.05</td><td style = \"text-align: right;\">25.0 ± 0.019</td><td style = \"text-align: right;\">33.0 ± 0.02</td><td style = \"text-align: right;\">38.0 ± 0.02</td></tr><tr><td class = \"rowNumber\" style = \"font-weight: bold; text-align: right;\">36</td><td style = \"text-align: right;\">1</td><td style = \"text-align: right;\">6</td><td style = \"text-align: right;\">10</td><td style = \"text-align: right;\">2700.0 ± 0.018</td><td style = \"text-align: right;\">170.0 ± 0.052</td><td style = \"text-align: right;\">50.0 ± 0.02</td><td style = \"text-align: right;\">55.0 ± 0.02</td><td style = \"text-align: right;\">50.0 ± 0.02</td></tr><tr><td class = \"rowNumber\" style = \"font-weight: bold; text-align: right;\">37</td><td style = \"text-align: right;\">5</td><td style = \"text-align: right;\">0</td><td style = \"text-align: right;\">1</td><td style = \"text-align: right;\">2720.0 ± 0.017</td><td style = \"text-align: right;\">70.0 ± 0.052</td><td style = \"text-align: right;\">25.0 ± 0.02</td><td style = \"text-align: right;\">20.0 ± 0.02</td><td style = \"text-align: right;\">22.0 ± 0.02</td></tr><tr><td class = \"rowNumber\" style = \"font-weight: bold; text-align: right;\">38</td><td style = \"text-align: right;\">5</td><td style = \"text-align: right;\">0</td><td style = \"text-align: right;\">2</td><td style = \"text-align: right;\">2720.0 ± 0.02</td><td style = \"text-align: right;\">80.0 ± 0.049</td><td style = \"text-align: right;\">20.0 ± 0.02</td><td style = \"text-align: right;\">22.0 ± 0.02</td><td style = \"text-align: right;\">24.0 ± 0.02</td></tr><tr><td class = \"rowNumber\" style = \"font-weight: bold; text-align: right;\">39</td><td style = \"text-align: right;\">5</td><td style = \"text-align: right;\">0</td><td style = \"text-align: right;\">3</td><td style = \"text-align: right;\">2720.0 ± 0.019</td><td style = \"text-align: right;\">99.0 ± 0.05</td><td style = \"text-align: right;\">34.0 ± 0.02</td><td style = \"text-align: right;\">31.0 ± 0.02</td><td style = \"text-align: right;\">30.0 ± 0.02</td></tr><tr><td class = \"rowNumber\" style = \"font-weight: bold; text-align: right;\">40</td><td style = \"text-align: right;\">5</td><td style = \"text-align: right;\">1</td><td style = \"text-align: right;\">4</td><td style = \"text-align: right;\">2720.0 ± 0.017</td><td style = \"text-align: right;\">65.0 ± 0.05</td><td style = \"text-align: right;\">33.0 ± 0.02</td><td style = \"text-align: right;\">40.0 ± 0.02</td><td style = \"text-align: right;\">38.0 ± 0.02</td></tr><tr><td class = \"rowNumber\" style = \"font-weight: bold; text-align: right;\">41</td><td style = \"text-align: right;\">5</td><td style = \"text-align: right;\">2</td><td style = \"text-align: right;\">5</td><td style = \"text-align: right;\">2710.0 ± 0.014</td><td style = \"text-align: right;\">55.0 ± 0.051</td><td style = \"text-align: right;\">18.0 ± 0.02</td><td style = \"text-align: right;\">30.0 ± 0.02</td><td style = \"text-align: right;\">28.0 ± 0.02</td></tr><tr><td class = \"rowNumber\" style = \"font-weight: bold; text-align: right;\">42</td><td style = \"text-align: right;\">5</td><td style = \"text-align: right;\">2</td><td style = \"text-align: right;\">6</td><td style = \"text-align: right;\">2710.0 ± 0.014</td><td style = \"text-align: right;\">70.0 ± 0.05</td><td style = \"text-align: right;\">23.0 ± 0.02</td><td style = \"text-align: right;\">28.0 ± 0.02</td><td style = \"text-align: right;\">30.0 ± 0.02</td></tr><tr><td class = \"rowNumber\" style = \"font-weight: bold; text-align: right;\">43</td><td style = \"text-align: right;\">5</td><td style = \"text-align: right;\">3</td><td style = \"text-align: right;\">7</td><td style = \"text-align: right;\">2710.0 ± 0.019</td><td style = \"text-align: right;\">105.0 ± 0.049</td><td style = \"text-align: right;\">33.0 ± 0.02</td><td style = \"text-align: right;\">38.0 ± 0.02</td><td style = \"text-align: right;\">40.0 ± 0.02</td></tr><tr><td class = \"rowNumber\" style = \"font-weight: bold; text-align: right;\">44</td><td style = \"text-align: right;\">5</td><td style = \"text-align: right;\">4</td><td style = \"text-align: right;\">8</td><td style = \"text-align: right;\">2710.0 ± 0.012</td><td style = \"text-align: right;\">65.0 ± 0.048</td><td style = \"text-align: right;\">25.0 ± 0.02</td><td style = \"text-align: right;\">25.0 ± 0.02</td><td style = \"text-align: right;\">25.0 ± 0.02</td></tr><tr><td class = \"rowNumber\" style = \"font-weight: bold; text-align: right;\">45</td><td style = \"text-align: right;\">5</td><td style = \"text-align: right;\">5</td><td style = \"text-align: right;\">9</td><td style = \"text-align: right;\">2710.0 ± 0.013</td><td style = \"text-align: right;\">75.0 ± 0.051</td><td style = \"text-align: right;\">20.0 ± 0.02</td><td style = \"text-align: right;\">30.0 ± 0.02</td><td style = \"text-align: right;\">27.0 ± 0.021</td></tr></tbody></table></div>"
      ],
      "text/latex": [
       "\\begin{tabular}{r|cccccccc}\n",
       "\t& Stream & StreamSection & Order & Ellh\\_corr & Width & Depth1 & Depth2 & \\\\\n",
       "\t\\hline\n",
       "\t& Int64 & Int64 & Int64 & Particle… & Particle… & Particle… & Particle… & \\\\\n",
       "\t\\hline\n",
       "\t1 & 2 & 1 & 1 & 2710.0 ± 0.015 & 70.0 ± 0.05 & 25.0 ± 0.02 & 28.0 ± 0.02 & $\\dots$ \\\\\n",
       "\t2 & 2 & 2 & 2 & 2710.0 ± 0.012 & 110.0 ± 0.049 & 20.0 ± 0.02 & 25.0 ± 0.02 & $\\dots$ \\\\\n",
       "\t3 & 2 & 3 & 3 & 2710.0 ± 0.019 & 110.0 ± 0.049 & 15.0 ± 0.02 & 17.0 ± 0.02 & $\\dots$ \\\\\n",
       "\t4 & 2 & 4 & 3 & 2710.0 ± 0.0099 & 110.0 ± 0.049 & 15.0 ± 0.02 & 17.0 ± 0.02 & $\\dots$ \\\\\n",
       "\t5 & 2 & 4 & 4 & 2710.0 ± 0.012 & 80.0 ± 0.05 & 20.0 ± 0.021 & 25.0 ± 0.02 & $\\dots$ \\\\\n",
       "\t6 & 2 & 4 & 5 & 2710.0 ± 0.016 & 140.0 ± 0.05 & 27.0 ± 0.02 & 23.0 ± 0.02 & $\\dots$ \\\\\n",
       "\t7 & 2 & 4 & 6 & 2710.0 ± 0.014 & 80.0 ± 0.051 & 20.0 ± 0.02 & 25.0 ± 0.02 & $\\dots$ \\\\\n",
       "\t8 & 2 & 5 & 7 & 2710.0 ± 0.019 & 100.0 ± 0.05 & 30.0 ± 0.02 & 30.0 ± 0.019 & $\\dots$ \\\\\n",
       "\t9 & 3 & 0 & 1 & 2710.0 ± 0.024 & 145.0 ± 0.048 & 23.0 ± 0.02 & 28.0 ± 0.02 & $\\dots$ \\\\\n",
       "\t10 & 3 & 1 & 2 & 2710.0 ± 0.022 & 105.0 ± 0.049 & 26.0 ± 0.02 & 26.0 ± 0.02 & $\\dots$ \\\\\n",
       "\t11 & 3 & 2 & 3 & 2710.0 ± 0.017 & 80.0 ± 0.05 & 23.0 ± 0.021 & 26.0 ± 0.02 & $\\dots$ \\\\\n",
       "\t12 & 3 & 2 & 4 & 2710.0 ± 0.014 & 70.0 ± 0.049 & 28.0 ± 0.02 & 31.0 ± 0.02 & $\\dots$ \\\\\n",
       "\t13 & 3 & 3 & 5 & 2710.0 ± 0.012 & 95.0 ± 0.05 & 28.0 ± 0.021 & 25.0 ± 0.02 & $\\dots$ \\\\\n",
       "\t14 & 3 & 4 & 6 & 2710.0 ± 0.013 & 105.0 ± 0.05 & 34.0 ± 0.02 & 25.0 ± 0.02 & $\\dots$ \\\\\n",
       "\t15 & 3 & 4 & 7 & 2710.0 ± 0.014 & 80.0 ± 0.051 & 20.0 ± 0.02 & 24.0 ± 0.02 & $\\dots$ \\\\\n",
       "\t16 & 3 & 4 & 8 & 2710.0 ± 0.014 & 80.0 ± 0.051 & 25.0 ± 0.02 & 30.0 ± 0.02 & $\\dots$ \\\\\n",
       "\t17 & 3 & 5 & 9 & 2710.0 ± 0.017 & 110.0 ± 0.05 & 15.0 ± 0.02 & 38.0 ± 0.021 & $\\dots$ \\\\\n",
       "\t18 & 4 & 1 & 1 & 2710.0 ± 0.014 & 140.0 ± 0.05 & 20.0 ± 0.02 & 18.0 ± 0.02 & $\\dots$ \\\\\n",
       "\t19 & 4 & 3 & 2 & 2710.0 ± 0.021 & 130.0 ± 0.05 & 15.0 ± 0.02 & 18.0 ± 0.02 & $\\dots$ \\\\\n",
       "\t20 & 4 & 4 & 3 & 2710.0 ± 0.016 & 120.0 ± 0.05 & 15.0 ± 0.02 & 28.0 ± 0.019 & $\\dots$ \\\\\n",
       "\t21 & 4 & 4 & 4 & 2710.0 ± 0.015 & 130.0 ± 0.049 & 6.0 ± 0.02 & 18.0 ± 0.02 & $\\dots$ \\\\\n",
       "\t22 & 4 & 4 & 5 & 2710.0 ± 0.013 & 95.0 ± 0.05 & 18.0 ± 0.02 & 18.0 ± 0.021 & $\\dots$ \\\\\n",
       "\t23 & 4 & 5 & 6 & 2710.0 ± 0.014 & 115.0 ± 0.05 & 30.0 ± 0.02 & 25.0 ± 0.02 & $\\dots$ \\\\\n",
       "\t24 & 4 & 6 & 7 & 2710.0 ± 0.016 & 120.0 ± 0.05 & 20.0 ± 0.02 & 18.0 ± 0.02 & $\\dots$ \\\\\n",
       "\t25 & 4 & 6 & 8 & 2710.0 ± 0.014 & 150.0 ± 0.051 & 20.0 ± 0.02 & 18.0 ± 0.02 & $\\dots$ \\\\\n",
       "\t26 & 1 & 1 & 1 & 2710.0 ± 0.016 & 150.0 ± 0.05 & 50.0 ± 0.02 & 30.0 ± 0.02 & $\\dots$ \\\\\n",
       "\t27 & 1 & 2 & 2 & 2710.0 ± 0.014 & 130.0 ± 0.049 & 50.0 ± 0.02 & 28.0 ± 0.02 & $\\dots$ \\\\\n",
       "\t28 & 1 & 2 & 3 & 2710.0 ± 0.021 & 145.0 ± 0.049 & 45.0 ± 0.02 & 40.0 ± 0.02 & $\\dots$ \\\\\n",
       "\t29 & 1 & 2 & 4 & 2710.0 ± 0.013 & 155.0 ± 0.051 & 30.0 ± 0.02 & 28.0 ± 0.02 & $\\dots$ \\\\\n",
       "\t30 & 1 & 3 & 5 & 2710.0 ± 0.017 & 150.0 ± 0.05 & 30.0 ± 0.02 & 40.0 ± 0.019 & $\\dots$ \\\\\n",
       "\t$\\dots$ & $\\dots$ & $\\dots$ & $\\dots$ & $\\dots$ & $\\dots$ & $\\dots$ & $\\dots$ &  \\\\\n",
       "\\end{tabular}\n"
      ],
      "text/plain": [
       "\u001b[1m45×8 DataFrame\u001b[0m\n",
       "\u001b[1m Row \u001b[0m│\u001b[1m Stream \u001b[0m\u001b[1m StreamSection \u001b[0m\u001b[1m Order \u001b[0m\u001b[1m Ellh_corr       \u001b[0m\u001b[1m Width         \u001b[0m\u001b[1m Depth1   \u001b[0m ⋯\n",
       "     │\u001b[90m Int64  \u001b[0m\u001b[90m Int64         \u001b[0m\u001b[90m Int64 \u001b[0m\u001b[90m Particle…       \u001b[0m\u001b[90m Particle…     \u001b[0m\u001b[90m Particle…\u001b[0m ⋯\n",
       "─────┼──────────────────────────────────────────────────────────────────────────\n",
       "   1 │      2              1      1  2710.0 ± 0.015    70.0 ± 0.05   25.0 ± 0. ⋯\n",
       "   2 │      2              2      2  2710.0 ± 0.012   110.0 ± 0.049  20.0 ± 0.\n",
       "   3 │      2              3      3  2710.0 ± 0.019   110.0 ± 0.049  15.0 ± 0.\n",
       "   4 │      2              4      3  2710.0 ± 0.0099  110.0 ± 0.049  15.0 ± 0.\n",
       "   5 │      2              4      4  2710.0 ± 0.012    80.0 ± 0.05   20.0 ± 0. ⋯\n",
       "   6 │      2              4      5  2710.0 ± 0.016   140.0 ± 0.05   27.0 ± 0.\n",
       "   7 │      2              4      6  2710.0 ± 0.014    80.0 ± 0.051  20.0 ± 0.\n",
       "   8 │      2              5      7  2710.0 ± 0.019   100.0 ± 0.05   30.0 ± 0.\n",
       "   9 │      3              0      1  2710.0 ± 0.024   145.0 ± 0.048  23.0 ± 0. ⋯\n",
       "  10 │      3              1      2  2710.0 ± 0.022   105.0 ± 0.049  26.0 ± 0.\n",
       "  11 │      3              2      3  2710.0 ± 0.017    80.0 ± 0.05   23.0 ± 0.\n",
       "  ⋮  │   ⋮           ⋮          ⋮           ⋮               ⋮             ⋮    ⋱\n",
       "  36 │      1              6     10  2700.0 ± 0.018   170.0 ± 0.052  50.0 ± 0.\n",
       "  37 │      5              0      1  2720.0 ± 0.017    70.0 ± 0.052  25.0 ± 0. ⋯\n",
       "  38 │      5              0      2  2720.0 ± 0.02     80.0 ± 0.049  20.0 ± 0.\n",
       "  39 │      5              0      3  2720.0 ± 0.019    99.0 ± 0.05   34.0 ± 0.\n",
       "  40 │      5              1      4  2720.0 ± 0.017    65.0 ± 0.05   33.0 ± 0.\n",
       "  41 │      5              2      5  2710.0 ± 0.014    55.0 ± 0.051  18.0 ± 0. ⋯\n",
       "  42 │      5              2      6  2710.0 ± 0.014    70.0 ± 0.05   23.0 ± 0.\n",
       "  43 │      5              3      7  2710.0 ± 0.019   105.0 ± 0.049  33.0 ± 0.\n",
       "  44 │      5              4      8  2710.0 ± 0.012    65.0 ± 0.048  25.0 ± 0.\n",
       "  45 │      5              5      9  2710.0 ± 0.013    75.0 ± 0.051  20.0 ± 0. ⋯\n",
       "\u001b[36m                                                   3 columns and 24 rows omitted\u001b[0m"
      ]
     },
     "execution_count": 52,
     "metadata": {},
     "output_type": "execute_result"
    }
   ],
   "source": [
    "StreamSurvey_full = CSV.read(\"../data/raw/streams_corr.csv\", DataFrame)\n",
    "StreamSurvey = StreamSurvey_full[:, [\"Stream\", \"StreamSection\", \"Order\", \"Ellh_corr\", \"Width\", \"Depth1\", \"Depth2\", \"Depth3\"]]\n",
    "StreamSurvey_full.\"Elevation RMS\"\n",
    "StreamSurvey.Ellh_corr = StreamSurvey.Ellh_corr ± StreamSurvey_full.\"Elevation RMS\"\n",
    "StreamSurvey.Width = StreamSurvey.Width ± 0.05 \n",
    "StreamSurvey.Depth1 = StreamSurvey.Depth1 ± 0.02\n",
    "StreamSurvey.Depth2 = StreamSurvey.Depth2 ± 0.02\n",
    "StreamSurvey.Depth3 = StreamSurvey.Depth3 ± 0.02\n",
    "StreamSurvey"
   ]
  },
  {
   "cell_type": "code",
   "execution_count": 152,
   "id": "68b67789-45c5-4b4b-9ae9-15cd244984bd",
   "metadata": {},
   "outputs": [
    {
     "data": {
      "text/html": [
       "<div><div style = \"float: left;\"><span>45×8 DataFrame</span></div><div style = \"float: right;\"><span style = \"font-style: italic;\">20 rows omitted</span></div><div style = \"clear: both;\"></div></div><div class = \"data-frame\" style = \"overflow-x: scroll;\"><table class = \"data-frame\" style = \"margin-bottom: 6px;\"><thead><tr class = \"header\"><th class = \"rowNumber\" style = \"font-weight: bold; text-align: right;\">Row</th><th style = \"text-align: left;\">Stream</th><th style = \"text-align: left;\">StreamPart</th><th style = \"text-align: left;\">Order</th><th style = \"text-align: left;\">Width</th><th style = \"text-align: left;\">Depth1</th><th style = \"text-align: left;\">Depth2</th><th style = \"text-align: left;\">Depth3</th><th style = \"text-align: left;\">Depth_avg</th></tr><tr class = \"subheader headerLastRow\"><th class = \"rowNumber\" style = \"font-weight: bold; text-align: right;\"></th><th title = \"Int64\" style = \"text-align: left;\">Int64</th><th title = \"Int64\" style = \"text-align: left;\">Int64</th><th title = \"Int64\" style = \"text-align: left;\">Int64</th><th title = \"Int64\" style = \"text-align: left;\">Int64</th><th title = \"Int64\" style = \"text-align: left;\">Int64</th><th title = \"Int64\" style = \"text-align: left;\">Int64</th><th title = \"Int64\" style = \"text-align: left;\">Int64</th><th title = \"Float64\" style = \"text-align: left;\">Float64</th></tr></thead><tbody><tr><td class = \"rowNumber\" style = \"font-weight: bold; text-align: right;\">1</td><td style = \"text-align: right;\">2</td><td style = \"text-align: right;\">1</td><td style = \"text-align: right;\">1</td><td style = \"text-align: right;\">70</td><td style = \"text-align: right;\">25</td><td style = \"text-align: right;\">28</td><td style = \"text-align: right;\">28</td><td style = \"text-align: right;\">27.0</td></tr><tr><td class = \"rowNumber\" style = \"font-weight: bold; text-align: right;\">2</td><td style = \"text-align: right;\">2</td><td style = \"text-align: right;\">2</td><td style = \"text-align: right;\">2</td><td style = \"text-align: right;\">110</td><td style = \"text-align: right;\">20</td><td style = \"text-align: right;\">25</td><td style = \"text-align: right;\">22</td><td style = \"text-align: right;\">22.3333</td></tr><tr><td class = \"rowNumber\" style = \"font-weight: bold; text-align: right;\">3</td><td style = \"text-align: right;\">2</td><td style = \"text-align: right;\">3</td><td style = \"text-align: right;\">3</td><td style = \"text-align: right;\">110</td><td style = \"text-align: right;\">15</td><td style = \"text-align: right;\">17</td><td style = \"text-align: right;\">25</td><td style = \"text-align: right;\">19.0</td></tr><tr><td class = \"rowNumber\" style = \"font-weight: bold; text-align: right;\">4</td><td style = \"text-align: right;\">2</td><td style = \"text-align: right;\">4</td><td style = \"text-align: right;\">3</td><td style = \"text-align: right;\">110</td><td style = \"text-align: right;\">15</td><td style = \"text-align: right;\">17</td><td style = \"text-align: right;\">25</td><td style = \"text-align: right;\">19.0</td></tr><tr><td class = \"rowNumber\" style = \"font-weight: bold; text-align: right;\">5</td><td style = \"text-align: right;\">2</td><td style = \"text-align: right;\">4</td><td style = \"text-align: right;\">4</td><td style = \"text-align: right;\">80</td><td style = \"text-align: right;\">20</td><td style = \"text-align: right;\">25</td><td style = \"text-align: right;\">22</td><td style = \"text-align: right;\">22.3333</td></tr><tr><td class = \"rowNumber\" style = \"font-weight: bold; text-align: right;\">6</td><td style = \"text-align: right;\">2</td><td style = \"text-align: right;\">4</td><td style = \"text-align: right;\">5</td><td style = \"text-align: right;\">140</td><td style = \"text-align: right;\">27</td><td style = \"text-align: right;\">23</td><td style = \"text-align: right;\">21</td><td style = \"text-align: right;\">23.6667</td></tr><tr><td class = \"rowNumber\" style = \"font-weight: bold; text-align: right;\">7</td><td style = \"text-align: right;\">2</td><td style = \"text-align: right;\">4</td><td style = \"text-align: right;\">6</td><td style = \"text-align: right;\">80</td><td style = \"text-align: right;\">20</td><td style = \"text-align: right;\">25</td><td style = \"text-align: right;\">22</td><td style = \"text-align: right;\">22.3333</td></tr><tr><td class = \"rowNumber\" style = \"font-weight: bold; text-align: right;\">8</td><td style = \"text-align: right;\">2</td><td style = \"text-align: right;\">5</td><td style = \"text-align: right;\">7</td><td style = \"text-align: right;\">100</td><td style = \"text-align: right;\">30</td><td style = \"text-align: right;\">30</td><td style = \"text-align: right;\">21</td><td style = \"text-align: right;\">27.0</td></tr><tr><td class = \"rowNumber\" style = \"font-weight: bold; text-align: right;\">9</td><td style = \"text-align: right;\">3</td><td style = \"text-align: right;\">0</td><td style = \"text-align: right;\">1</td><td style = \"text-align: right;\">145</td><td style = \"text-align: right;\">23</td><td style = \"text-align: right;\">28</td><td style = \"text-align: right;\">25</td><td style = \"text-align: right;\">25.3333</td></tr><tr><td class = \"rowNumber\" style = \"font-weight: bold; text-align: right;\">10</td><td style = \"text-align: right;\">3</td><td style = \"text-align: right;\">1</td><td style = \"text-align: right;\">2</td><td style = \"text-align: right;\">105</td><td style = \"text-align: right;\">26</td><td style = \"text-align: right;\">26</td><td style = \"text-align: right;\">29</td><td style = \"text-align: right;\">27.0</td></tr><tr><td class = \"rowNumber\" style = \"font-weight: bold; text-align: right;\">11</td><td style = \"text-align: right;\">3</td><td style = \"text-align: right;\">2</td><td style = \"text-align: right;\">3</td><td style = \"text-align: right;\">80</td><td style = \"text-align: right;\">23</td><td style = \"text-align: right;\">26</td><td style = \"text-align: right;\">25</td><td style = \"text-align: right;\">24.6667</td></tr><tr><td class = \"rowNumber\" style = \"font-weight: bold; text-align: right;\">12</td><td style = \"text-align: right;\">3</td><td style = \"text-align: right;\">2</td><td style = \"text-align: right;\">4</td><td style = \"text-align: right;\">70</td><td style = \"text-align: right;\">28</td><td style = \"text-align: right;\">31</td><td style = \"text-align: right;\">25</td><td style = \"text-align: right;\">28.0</td></tr><tr><td class = \"rowNumber\" style = \"font-weight: bold; text-align: right;\">13</td><td style = \"text-align: right;\">3</td><td style = \"text-align: right;\">3</td><td style = \"text-align: right;\">5</td><td style = \"text-align: right;\">95</td><td style = \"text-align: right;\">28</td><td style = \"text-align: right;\">25</td><td style = \"text-align: right;\">30</td><td style = \"text-align: right;\">27.6667</td></tr><tr><td style = \"text-align: right;\">&vellip;</td><td style = \"text-align: right;\">&vellip;</td><td style = \"text-align: right;\">&vellip;</td><td style = \"text-align: right;\">&vellip;</td><td style = \"text-align: right;\">&vellip;</td><td style = \"text-align: right;\">&vellip;</td><td style = \"text-align: right;\">&vellip;</td><td style = \"text-align: right;\">&vellip;</td><td style = \"text-align: right;\">&vellip;</td></tr><tr><td class = \"rowNumber\" style = \"font-weight: bold; text-align: right;\">34</td><td style = \"text-align: right;\">1</td><td style = \"text-align: right;\">4</td><td style = \"text-align: right;\">8</td><td style = \"text-align: right;\">210</td><td style = \"text-align: right;\">30</td><td style = \"text-align: right;\">33</td><td style = \"text-align: right;\">33</td><td style = \"text-align: right;\">32.0</td></tr><tr><td class = \"rowNumber\" style = \"font-weight: bold; text-align: right;\">35</td><td style = \"text-align: right;\">1</td><td style = \"text-align: right;\">5</td><td style = \"text-align: right;\">9</td><td style = \"text-align: right;\">210</td><td style = \"text-align: right;\">25</td><td style = \"text-align: right;\">33</td><td style = \"text-align: right;\">38</td><td style = \"text-align: right;\">32.0</td></tr><tr><td class = \"rowNumber\" style = \"font-weight: bold; text-align: right;\">36</td><td style = \"text-align: right;\">1</td><td style = \"text-align: right;\">6</td><td style = \"text-align: right;\">10</td><td style = \"text-align: right;\">170</td><td style = \"text-align: right;\">50</td><td style = \"text-align: right;\">55</td><td style = \"text-align: right;\">50</td><td style = \"text-align: right;\">51.6667</td></tr><tr><td class = \"rowNumber\" style = \"font-weight: bold; text-align: right;\">37</td><td style = \"text-align: right;\">5</td><td style = \"text-align: right;\">0</td><td style = \"text-align: right;\">1</td><td style = \"text-align: right;\">70</td><td style = \"text-align: right;\">25</td><td style = \"text-align: right;\">20</td><td style = \"text-align: right;\">22</td><td style = \"text-align: right;\">22.3333</td></tr><tr><td class = \"rowNumber\" style = \"font-weight: bold; text-align: right;\">38</td><td style = \"text-align: right;\">5</td><td style = \"text-align: right;\">0</td><td style = \"text-align: right;\">2</td><td style = \"text-align: right;\">80</td><td style = \"text-align: right;\">20</td><td style = \"text-align: right;\">22</td><td style = \"text-align: right;\">24</td><td style = \"text-align: right;\">22.0</td></tr><tr><td class = \"rowNumber\" style = \"font-weight: bold; text-align: right;\">39</td><td style = \"text-align: right;\">5</td><td style = \"text-align: right;\">0</td><td style = \"text-align: right;\">3</td><td style = \"text-align: right;\">99</td><td style = \"text-align: right;\">34</td><td style = \"text-align: right;\">31</td><td style = \"text-align: right;\">30</td><td style = \"text-align: right;\">31.6667</td></tr><tr><td class = \"rowNumber\" style = \"font-weight: bold; text-align: right;\">40</td><td style = \"text-align: right;\">5</td><td style = \"text-align: right;\">1</td><td style = \"text-align: right;\">4</td><td style = \"text-align: right;\">65</td><td style = \"text-align: right;\">33</td><td style = \"text-align: right;\">40</td><td style = \"text-align: right;\">38</td><td style = \"text-align: right;\">37.0</td></tr><tr><td class = \"rowNumber\" style = \"font-weight: bold; text-align: right;\">41</td><td style = \"text-align: right;\">5</td><td style = \"text-align: right;\">2</td><td style = \"text-align: right;\">5</td><td style = \"text-align: right;\">55</td><td style = \"text-align: right;\">18</td><td style = \"text-align: right;\">30</td><td style = \"text-align: right;\">28</td><td style = \"text-align: right;\">25.3333</td></tr><tr><td class = \"rowNumber\" style = \"font-weight: bold; text-align: right;\">42</td><td style = \"text-align: right;\">5</td><td style = \"text-align: right;\">2</td><td style = \"text-align: right;\">6</td><td style = \"text-align: right;\">70</td><td style = \"text-align: right;\">23</td><td style = \"text-align: right;\">28</td><td style = \"text-align: right;\">30</td><td style = \"text-align: right;\">27.0</td></tr><tr><td class = \"rowNumber\" style = \"font-weight: bold; text-align: right;\">43</td><td style = \"text-align: right;\">5</td><td style = \"text-align: right;\">3</td><td style = \"text-align: right;\">7</td><td style = \"text-align: right;\">105</td><td style = \"text-align: right;\">33</td><td style = \"text-align: right;\">38</td><td style = \"text-align: right;\">40</td><td style = \"text-align: right;\">37.0</td></tr><tr><td class = \"rowNumber\" style = \"font-weight: bold; text-align: right;\">44</td><td style = \"text-align: right;\">5</td><td style = \"text-align: right;\">4</td><td style = \"text-align: right;\">8</td><td style = \"text-align: right;\">65</td><td style = \"text-align: right;\">25</td><td style = \"text-align: right;\">25</td><td style = \"text-align: right;\">25</td><td style = \"text-align: right;\">25.0</td></tr><tr><td class = \"rowNumber\" style = \"font-weight: bold; text-align: right;\">45</td><td style = \"text-align: right;\">5</td><td style = \"text-align: right;\">5</td><td style = \"text-align: right;\">9</td><td style = \"text-align: right;\">75</td><td style = \"text-align: right;\">20</td><td style = \"text-align: right;\">30</td><td style = \"text-align: right;\">27</td><td style = \"text-align: right;\">25.6667</td></tr></tbody></table></div>"
      ],
      "text/latex": [
       "\\begin{tabular}{r|cccccccc}\n",
       "\t& Stream & StreamPart & Order & Width & Depth1 & Depth2 & Depth3 & Depth\\_avg\\\\\n",
       "\t\\hline\n",
       "\t& Int64 & Int64 & Int64 & Int64 & Int64 & Int64 & Int64 & Float64\\\\\n",
       "\t\\hline\n",
       "\t1 & 2 & 1 & 1 & 70 & 25 & 28 & 28 & 27.0 \\\\\n",
       "\t2 & 2 & 2 & 2 & 110 & 20 & 25 & 22 & 22.3333 \\\\\n",
       "\t3 & 2 & 3 & 3 & 110 & 15 & 17 & 25 & 19.0 \\\\\n",
       "\t4 & 2 & 4 & 3 & 110 & 15 & 17 & 25 & 19.0 \\\\\n",
       "\t5 & 2 & 4 & 4 & 80 & 20 & 25 & 22 & 22.3333 \\\\\n",
       "\t6 & 2 & 4 & 5 & 140 & 27 & 23 & 21 & 23.6667 \\\\\n",
       "\t7 & 2 & 4 & 6 & 80 & 20 & 25 & 22 & 22.3333 \\\\\n",
       "\t8 & 2 & 5 & 7 & 100 & 30 & 30 & 21 & 27.0 \\\\\n",
       "\t9 & 3 & 0 & 1 & 145 & 23 & 28 & 25 & 25.3333 \\\\\n",
       "\t10 & 3 & 1 & 2 & 105 & 26 & 26 & 29 & 27.0 \\\\\n",
       "\t11 & 3 & 2 & 3 & 80 & 23 & 26 & 25 & 24.6667 \\\\\n",
       "\t12 & 3 & 2 & 4 & 70 & 28 & 31 & 25 & 28.0 \\\\\n",
       "\t13 & 3 & 3 & 5 & 95 & 28 & 25 & 30 & 27.6667 \\\\\n",
       "\t14 & 3 & 4 & 6 & 105 & 34 & 25 & 23 & 27.3333 \\\\\n",
       "\t15 & 3 & 4 & 7 & 80 & 20 & 24 & 24 & 22.6667 \\\\\n",
       "\t16 & 3 & 4 & 8 & 80 & 25 & 30 & 30 & 28.3333 \\\\\n",
       "\t17 & 3 & 5 & 9 & 110 & 15 & 38 & 40 & 31.0 \\\\\n",
       "\t18 & 4 & 1 & 1 & 140 & 20 & 18 & 20 & 19.3333 \\\\\n",
       "\t19 & 4 & 3 & 2 & 130 & 15 & 18 & 20 & 17.6667 \\\\\n",
       "\t20 & 4 & 4 & 3 & 120 & 15 & 28 & 20 & 21.0 \\\\\n",
       "\t21 & 4 & 4 & 4 & 130 & 6 & 18 & 31 & 18.3333 \\\\\n",
       "\t22 & 4 & 4 & 5 & 95 & 18 & 18 & 30 & 22.0 \\\\\n",
       "\t23 & 4 & 5 & 6 & 115 & 30 & 25 & 18 & 24.3333 \\\\\n",
       "\t24 & 4 & 6 & 7 & 120 & 20 & 18 & 15 & 17.6667 \\\\\n",
       "\t25 & 4 & 6 & 8 & 150 & 20 & 18 & 15 & 17.6667 \\\\\n",
       "\t26 & 1 & 1 & 1 & 150 & 50 & 30 & 25 & 35.0 \\\\\n",
       "\t27 & 1 & 2 & 2 & 130 & 50 & 28 & 25 & 34.3333 \\\\\n",
       "\t28 & 1 & 2 & 3 & 145 & 45 & 40 & 30 & 38.3333 \\\\\n",
       "\t29 & 1 & 2 & 4 & 155 & 30 & 28 & 28 & 28.6667 \\\\\n",
       "\t30 & 1 & 3 & 5 & 150 & 30 & 40 & 45 & 38.3333 \\\\\n",
       "\t$\\dots$ & $\\dots$ & $\\dots$ & $\\dots$ & $\\dots$ & $\\dots$ & $\\dots$ & $\\dots$ & $\\dots$ \\\\\n",
       "\\end{tabular}\n"
      ],
      "text/plain": [
       "\u001b[1m45×8 DataFrame\u001b[0m\n",
       "\u001b[1m Row \u001b[0m│\u001b[1m Stream \u001b[0m\u001b[1m StreamPart \u001b[0m\u001b[1m Order \u001b[0m\u001b[1m Width \u001b[0m\u001b[1m Depth1 \u001b[0m\u001b[1m Depth2 \u001b[0m\u001b[1m Depth3 \u001b[0m\u001b[1m Depth_avg \u001b[0m\n",
       "     │\u001b[90m Int64  \u001b[0m\u001b[90m Int64      \u001b[0m\u001b[90m Int64 \u001b[0m\u001b[90m Int64 \u001b[0m\u001b[90m Int64  \u001b[0m\u001b[90m Int64  \u001b[0m\u001b[90m Int64  \u001b[0m\u001b[90m Float64   \u001b[0m\n",
       "─────┼─────────────────────────────────────────────────────────────────────\n",
       "   1 │      2           1      1     70      25      28      28    27.0\n",
       "   2 │      2           2      2    110      20      25      22    22.3333\n",
       "   3 │      2           3      3    110      15      17      25    19.0\n",
       "   4 │      2           4      3    110      15      17      25    19.0\n",
       "   5 │      2           4      4     80      20      25      22    22.3333\n",
       "   6 │      2           4      5    140      27      23      21    23.6667\n",
       "   7 │      2           4      6     80      20      25      22    22.3333\n",
       "   8 │      2           5      7    100      30      30      21    27.0\n",
       "   9 │      3           0      1    145      23      28      25    25.3333\n",
       "  10 │      3           1      2    105      26      26      29    27.0\n",
       "  11 │      3           2      3     80      23      26      25    24.6667\n",
       "  ⋮  │   ⋮         ⋮         ⋮      ⋮      ⋮       ⋮       ⋮         ⋮\n",
       "  36 │      1           6     10    170      50      55      50    51.6667\n",
       "  37 │      5           0      1     70      25      20      22    22.3333\n",
       "  38 │      5           0      2     80      20      22      24    22.0\n",
       "  39 │      5           0      3     99      34      31      30    31.6667\n",
       "  40 │      5           1      4     65      33      40      38    37.0\n",
       "  41 │      5           2      5     55      18      30      28    25.3333\n",
       "  42 │      5           2      6     70      23      28      30    27.0\n",
       "  43 │      5           3      7    105      33      38      40    37.0\n",
       "  44 │      5           4      8     65      25      25      25    25.0\n",
       "  45 │      5           5      9     75      20      30      27    25.6667\n",
       "\u001b[36m                                                            24 rows omitted\u001b[0m"
      ]
     },
     "execution_count": 152,
     "metadata": {},
     "output_type": "execute_result"
    }
   ],
   "source": [
    "StreamSurvey[:, \"Depth_avg\"] = (StreamSurvey[:, \"Depth1\"] + StreamSurvey[:, \"Depth2\"] + StreamSurvey[:, \"Depth3\"])/3\n",
    "StreamSurvey"
   ]
  },
  {
   "cell_type": "code",
   "execution_count": 156,
   "id": "aa736ec8-9e9b-4073-ad80-6aa7797b8a63",
   "metadata": {},
   "outputs": [
    {
     "data": {
      "text/plain": [
       "11-element Vector{Int64}:\n",
       " 150\n",
       " 130\n",
       " 145\n",
       " 155\n",
       " 150\n",
       " 195\n",
       " 195\n",
       " 160\n",
       " 210\n",
       " 210\n",
       " 170"
      ]
     },
     "execution_count": 156,
     "metadata": {},
     "output_type": "execute_result"
    }
   ],
   "source": [
    "#trying to get average values per section, finish next time\n",
    "#for now i only have it per stream!!!\n",
    "StreamSurvey[StreamSurvey[:, \"Stream\"] .== 1, \"Width\"]"
   ]
  },
  {
   "cell_type": "code",
   "execution_count": null,
   "id": "5af802c6-6ef7-4422-b512-033ba21e94e9",
   "metadata": {},
   "outputs": [],
   "source": [
    "for i in 1:5\n",
    "    for j in 1:length(StreamSurvey[:, \"Stream\"])\n",
    "        if StreamSurvey[j, \"Stream\"] == i\n",
    "            \n",
    "            "
   ]
  },
  {
   "cell_type": "code",
   "execution_count": 81,
   "id": "2f6ec300-314d-42b8-846f-690b7ded52a8",
   "metadata": {},
   "outputs": [
    {
     "data": {
      "text/html": [
       "<div><div style = \"float: left;\"><span>10×6 DataFrame</span></div><div style = \"clear: both;\"></div></div><div class = \"data-frame\" style = \"overflow-x: scroll;\"><table class = \"data-frame\" style = \"margin-bottom: 6px;\"><thead><tr class = \"header\"><th class = \"rowNumber\" style = \"font-weight: bold; text-align: right;\">Row</th><th style = \"text-align: left;\">loc</th><th style = \"text-align: left;\">t_inj</th><th style = \"text-align: left;\">Q1</th><th style = \"text-align: left;\">Q2</th><th style = \"text-align: left;\">t1</th><th style = \"text-align: left;\">t2</th></tr><tr class = \"subheader headerLastRow\"><th class = \"rowNumber\" style = \"font-weight: bold; text-align: right;\"></th><th title = \"Int64\" style = \"text-align: left;\">Int64</th><th title = \"Dates.Time\" style = \"text-align: left;\">Time</th><th title = \"Particles{Float64, 2000}\" style = \"text-align: left;\">Particle…</th><th title = \"Particles{Float64, 2000}\" style = \"text-align: left;\">Particle…</th><th title = \"Particles{Float64, 2000}\" style = \"text-align: left;\">Particle…</th><th title = \"Particles{Float64, 2000}\" style = \"text-align: left;\">Particle…</th></tr></thead><tbody><tr><td class = \"rowNumber\" style = \"font-weight: bold; text-align: right;\">1</td><td style = \"text-align: right;\">2</td><td style = \"text-align: left;\">09:32:50</td><td style = \"text-align: right;\">NaN ± NaN</td><td style = \"text-align: right;\">0.084 ± 0.0084</td><td style = \"text-align: right;\">NaN ± NaN</td><td style = \"text-align: right;\">544.0 ± 2.0</td></tr><tr><td class = \"rowNumber\" style = \"font-weight: bold; text-align: right;\">2</td><td style = \"text-align: right;\">3</td><td style = \"text-align: left;\">10:11:00</td><td style = \"text-align: right;\">NaN ± NaN</td><td style = \"text-align: right;\">0.18 ± 0.018</td><td style = \"text-align: right;\">NaN ± NaN</td><td style = \"text-align: right;\">130.0 ± 2.0</td></tr><tr><td class = \"rowNumber\" style = \"font-weight: bold; text-align: right;\">3</td><td style = \"text-align: right;\">4</td><td style = \"text-align: left;\">10:42:30</td><td style = \"text-align: right;\">0.15 ± 0.015</td><td style = \"text-align: right;\">0.21 ± 0.021</td><td style = \"text-align: right;\">15.1 ± 5.0</td><td style = \"text-align: right;\">121.0 ± 2.0</td></tr><tr><td class = \"rowNumber\" style = \"font-weight: bold; text-align: right;\">4</td><td style = \"text-align: right;\">1</td><td style = \"text-align: left;\">11:41:00</td><td style = \"text-align: right;\">0.47 ± 0.047</td><td style = \"text-align: right;\">0.59 ± 0.059</td><td style = \"text-align: right;\">50.0 ± 4.9</td><td style = \"text-align: right;\">104.0 ± 2.1</td></tr><tr><td class = \"rowNumber\" style = \"font-weight: bold; text-align: right;\">5</td><td style = \"text-align: right;\">2</td><td style = \"text-align: left;\">14:15:14</td><td style = \"text-align: right;\">0.14 ± 0.014</td><td style = \"text-align: right;\">0.22 ± 0.022</td><td style = \"text-align: right;\">160.0 ± 5.1</td><td style = \"text-align: right;\">367.0 ± 2.0</td></tr><tr><td class = \"rowNumber\" style = \"font-weight: bold; text-align: right;\">6</td><td style = \"text-align: right;\">3</td><td style = \"text-align: left;\">14:59:25</td><td style = \"text-align: right;\">0.23 ± 0.023</td><td style = \"text-align: right;\">0.29 ± 0.029</td><td style = \"text-align: right;\">39.8 ± 4.9</td><td style = \"text-align: right;\">99.1 ± 2.0</td></tr><tr><td class = \"rowNumber\" style = \"font-weight: bold; text-align: right;\">7</td><td style = \"text-align: right;\">1</td><td style = \"text-align: left;\">16:25:06</td><td style = \"text-align: right;\">0.61 ± 0.061</td><td style = \"text-align: right;\">0.77 ± 0.077</td><td style = \"text-align: right;\">30.2 ± 5.2</td><td style = \"text-align: right;\">88.0 ± 2.0</td></tr><tr><td class = \"rowNumber\" style = \"font-weight: bold; text-align: right;\">8</td><td style = \"text-align: right;\">4</td><td style = \"text-align: left;\">15:40:05</td><td style = \"text-align: right;\">0.22 ± 0.022</td><td style = \"text-align: right;\">0.25 ± 0.025</td><td style = \"text-align: right;\">20.0 ± 5.2</td><td style = \"text-align: right;\">121.0 ± 2.0</td></tr><tr><td class = \"rowNumber\" style = \"font-weight: bold; text-align: right;\">9</td><td style = \"text-align: right;\">1</td><td style = \"text-align: left;\">09:18:35</td><td style = \"text-align: right;\">0.065 ± 0.0065</td><td style = \"text-align: right;\">0.074 ± 0.0074</td><td style = \"text-align: right;\">115.0 ± 5.1</td><td style = \"text-align: right;\">293.0 ± 2.0</td></tr><tr><td class = \"rowNumber\" style = \"font-weight: bold; text-align: right;\">10</td><td style = \"text-align: right;\">5</td><td style = \"text-align: left;\">12:59:00</td><td style = \"text-align: right;\">0.25 ± 0.025</td><td style = \"text-align: right;\">0.34 ± 0.034</td><td style = \"text-align: right;\">35.1 ± 4.9</td><td style = \"text-align: right;\">66.0 ± 2.0</td></tr></tbody></table></div>"
      ],
      "text/latex": [
       "\\begin{tabular}{r|cccccc}\n",
       "\t& loc & t\\_inj & Q1 & Q2 & t1 & t2\\\\\n",
       "\t\\hline\n",
       "\t& Int64 & Time & Particle… & Particle… & Particle… & Particle…\\\\\n",
       "\t\\hline\n",
       "\t1 & 2 & 09:32:50 & NaN ± NaN & 0.084 ± 0.0084 & NaN ± NaN & 544.0 ± 2.0 \\\\\n",
       "\t2 & 3 & 10:11:00 & NaN ± NaN & 0.18 ± 0.018 & NaN ± NaN & 130.0 ± 2.0 \\\\\n",
       "\t3 & 4 & 10:42:30 & 0.15 ± 0.015 & 0.21 ± 0.021 & 15.1 ± 5.0 & 121.0 ± 2.0 \\\\\n",
       "\t4 & 1 & 11:41:00 & 0.47 ± 0.047 & 0.59 ± 0.059 & 50.0 ± 4.9 & 104.0 ± 2.1 \\\\\n",
       "\t5 & 2 & 14:15:14 & 0.14 ± 0.014 & 0.22 ± 0.022 & 160.0 ± 5.1 & 367.0 ± 2.0 \\\\\n",
       "\t6 & 3 & 14:59:25 & 0.23 ± 0.023 & 0.29 ± 0.029 & 39.8 ± 4.9 & 99.1 ± 2.0 \\\\\n",
       "\t7 & 1 & 16:25:06 & 0.61 ± 0.061 & 0.77 ± 0.077 & 30.2 ± 5.2 & 88.0 ± 2.0 \\\\\n",
       "\t8 & 4 & 15:40:05 & 0.22 ± 0.022 & 0.25 ± 0.025 & 20.0 ± 5.2 & 121.0 ± 2.0 \\\\\n",
       "\t9 & 1 & 09:18:35 & 0.065 ± 0.0065 & 0.074 ± 0.0074 & 115.0 ± 5.1 & 293.0 ± 2.0 \\\\\n",
       "\t10 & 5 & 12:59:00 & 0.25 ± 0.025 & 0.34 ± 0.034 & 35.1 ± 4.9 & 66.0 ± 2.0 \\\\\n",
       "\\end{tabular}\n"
      ],
      "text/plain": [
       "\u001b[1m10×6 DataFrame\u001b[0m\n",
       "\u001b[1m Row \u001b[0m│\u001b[1m loc   \u001b[0m\u001b[1m t_inj    \u001b[0m\u001b[1m Q1                     \u001b[0m\u001b[1m Q2             \u001b[0m\u001b[1m t1            \u001b[0m ⋯\n",
       "     │\u001b[90m Int64 \u001b[0m\u001b[90m Time     \u001b[0m\u001b[90m Particle…              \u001b[0m\u001b[90m Particle…      \u001b[0m\u001b[90m Particle…     \u001b[0m ⋯\n",
       "─────┼──────────────────────────────────────────────────────────────────────────\n",
       "   1 │     2  09:32:50  NaN ± NaN               0.084 ± 0.0084  NaN ± NaN      ⋯\n",
       "   2 │     3  10:11:00  NaN ± NaN               0.18 ± 0.018    NaN ± NaN\n",
       "   3 │     4  10:42:30          0.15 ± 0.015    0.21 ± 0.021           15.1 ±\n",
       "   4 │     1  11:41:00          0.47 ± 0.047    0.59 ± 0.059           50.0 ±\n",
       "   5 │     2  14:15:14          0.14 ± 0.014    0.22 ± 0.022          160.0 ±  ⋯\n",
       "   6 │     3  14:59:25          0.23 ± 0.023    0.29 ± 0.029           39.8 ±\n",
       "   7 │     1  16:25:06          0.61 ± 0.061    0.77 ± 0.077           30.2 ±\n",
       "   8 │     4  15:40:05          0.22 ± 0.022    0.25 ± 0.025           20.0 ±\n",
       "   9 │     1  09:18:35          0.065 ± 0.0065  0.074 ± 0.0074        115.0 ±  ⋯\n",
       "  10 │     5  12:59:00          0.25 ± 0.025    0.34 ± 0.034           35.1 ±\n",
       "\u001b[36m                                                               2 columns omitted\u001b[0m"
      ]
     },
     "execution_count": 81,
     "metadata": {},
     "output_type": "execute_result"
    }
   ],
   "source": [
    "# Read output file from traces with discharges und Runtimes\n",
    "traces_full = CSV.read(\"../data/products/2024_Konki/output_Trapez.csv\", DataFrame)\n",
    "traces = traces_full[:, [\"Location\", \"Injection time\", \"Q1\", \"Q2\", \"t1\", \"t2\"]]\n",
    "traces[10, \"Location\"] = \"5\"\n",
    "traces.Location = parse.(Int, traces.Location)\n",
    "rename!(traces, [:loc, :t_inj, :Q1, :Q2, :t1, :t2])\n",
    "traces.t1 = traces.t1 ± 5\n",
    "traces.t2 = traces.t2 ± 2\n",
    "tracesQ1_helper = copy(traces.Q1) #helper vector since the uncertainty cannot be NaN and i am using relative uncertainties -> put those uncertainties to 0 instead of NaN\n",
    "tracesQ1_helper[1:2] = [0.0, 0.0]\n",
    "traces.Q1 = traces.Q1 .± tracesQ1_helper.*0.1\n",
    "traces.Q2 = traces.Q2 .± traces.Q2.*0.1\n",
    "traces"
   ]
  },
  {
   "cell_type": "code",
   "execution_count": 75,
   "id": "67c589fe-04e8-4bc4-8b16-d74fbb3af8ee",
   "metadata": {},
   "outputs": [
    {
     "data": {
      "text/plain": [
       "2-element Vector{Float64}:\n",
       " NaN\n",
       " NaN"
      ]
     },
     "execution_count": 75,
     "metadata": {},
     "output_type": "execute_result"
    }
   ],
   "source": [
    "tracesQ1_helper[1:2]"
   ]
  }
 ],
 "metadata": {
  "kernelspec": {
   "display_name": "Julia 1.10.5",
   "language": "julia",
   "name": "julia-1.10"
  },
  "language_info": {
   "file_extension": ".jl",
   "mimetype": "application/julia",
   "name": "julia",
   "version": "1.10.5"
  }
 },
 "nbformat": 4,
 "nbformat_minor": 5
}
