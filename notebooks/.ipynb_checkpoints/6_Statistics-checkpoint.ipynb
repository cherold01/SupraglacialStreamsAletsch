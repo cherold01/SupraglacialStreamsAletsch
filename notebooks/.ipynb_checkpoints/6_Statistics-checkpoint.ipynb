{
 "cells": [
  {
   "cell_type": "code",
   "execution_count": 120,
   "id": "b69503df-f897-4a98-bda9-59085e36b394",
   "metadata": {},
   "outputs": [
    {
     "data": {
      "text/html": [
       "<div><div style = \"float: left;\"><span>15×17 DataFrame</span></div><div style = \"clear: both;\"></div></div><div class = \"data-frame\" style = \"overflow-x: scroll;\"><table class = \"data-frame\" style = \"margin-bottom: 6px;\"><thead><tr class = \"header\"><th class = \"rowNumber\" style = \"font-weight: bold; text-align: right;\">Row</th><th style = \"text-align: left;\">id</th><th style = \"text-align: left;\">Name</th><th style = \"text-align: left;\">Area</th><th style = \"text-align: left;\">Perimeter</th><th style = \"text-align: left;\">Max.Distanc</th><th style = \"text-align: left;\">FlowLength</th><th style = \"text-align: left;\">Sinuosity</th><th style = \"text-align: left;\">Width_avg</th><th style = \"text-align: left;\">Delta_H_ell</th><th style = \"text-align: left;\">Grad_Flow</th><th style = \"text-align: left;\">Grad_Straight</th><th style = \"text-align: left;\">v1</th><th style = \"text-align: left;\">v2</th><th style = \"text-align: left;\">v3</th><th style = \"text-align: left;\">q1</th><th style = \"text-align: left;\">q2</th><th style = \"text-align: left;\">q3</th></tr><tr class = \"subheader headerLastRow\"><th class = \"rowNumber\" style = \"font-weight: bold; text-align: right;\"></th><th title = \"Float64\" style = \"text-align: left;\">Float64</th><th title = \"String15\" style = \"text-align: left;\">String15</th><th title = \"Float64\" style = \"text-align: left;\">Float64</th><th title = \"Float64\" style = \"text-align: left;\">Float64</th><th title = \"Float64\" style = \"text-align: left;\">Float64</th><th title = \"Float64\" style = \"text-align: left;\">Float64</th><th title = \"Float64\" style = \"text-align: left;\">Float64</th><th title = \"Float64\" style = \"text-align: left;\">Float64</th><th title = \"Float64\" style = \"text-align: left;\">Float64</th><th title = \"Float64\" style = \"text-align: left;\">Float64</th><th title = \"Float64\" style = \"text-align: left;\">Float64</th><th title = \"Float64\" style = \"text-align: left;\">Float64</th><th title = \"Float64\" style = \"text-align: left;\">Float64</th><th title = \"Float64\" style = \"text-align: left;\">Float64</th><th title = \"Float64\" style = \"text-align: left;\">Float64</th><th title = \"Float64\" style = \"text-align: left;\">Float64</th><th title = \"Float64\" style = \"text-align: left;\">Float64</th></tr></thead><tbody><tr><td class = \"rowNumber\" style = \"font-weight: bold; text-align: right;\">1</td><td style = \"text-align: right;\">1.0</td><td style = \"text-align: left;\">01InjCTD</td><td style = \"text-align: right;\">216.642</td><td style = \"text-align: right;\">269.978</td><td style = \"text-align: right;\">123.679</td><td style = \"text-align: right;\">134.554</td><td style = \"text-align: right;\">0.919181</td><td style = \"text-align: right;\">1.61007</td><td style = \"text-align: right;\">3.779</td><td style = \"text-align: right;\">0.0280854</td><td style = \"text-align: right;\">0.0305548</td><td style = \"text-align: right;\">1.29375</td><td style = \"text-align: right;\">1.52898</td><td style = \"text-align: right;\">0.459215</td><td style = \"text-align: right;\">0.47</td><td style = \"text-align: right;\">0.61</td><td style = \"text-align: right;\">0.065</td></tr><tr><td class = \"rowNumber\" style = \"font-weight: bold; text-align: right;\">2</td><td style = \"text-align: right;\">1.1</td><td style = \"text-align: left;\">01InjWTW</td><td style = \"text-align: right;\">92.0273</td><td style = \"text-align: right;\">132.29</td><td style = \"text-align: right;\">63.7152</td><td style = \"text-align: right;\">65.145</td><td style = \"text-align: right;\">0.978</td><td style = \"text-align: right;\">1.41265</td><td style = \"text-align: right;\">1.058</td><td style = \"text-align: right;\">0.0162407</td><td style = \"text-align: right;\">0.0166051</td><td style = \"text-align: right;\">1.303</td><td style = \"text-align: right;\">2.17167</td><td style = \"text-align: right;\">0.566522</td><td style = \"text-align: right;\">NaN</td><td style = \"text-align: right;\">NaN</td><td style = \"text-align: right;\">NaN</td></tr><tr><td class = \"rowNumber\" style = \"font-weight: bold; text-align: right;\">3</td><td style = \"text-align: right;\">1.2</td><td style = \"text-align: left;\">01WTWCTD</td><td style = \"text-align: right;\">124.615</td><td style = \"text-align: right;\">140.818</td><td style = \"text-align: right;\">63.1737</td><td style = \"text-align: right;\">69.409</td><td style = \"text-align: right;\">0.91</td><td style = \"text-align: right;\">1.79537</td><td style = \"text-align: right;\">2.721</td><td style = \"text-align: right;\">0.0392024</td><td style = \"text-align: right;\">0.0430717</td><td style = \"text-align: right;\">1.28519</td><td style = \"text-align: right;\">1.19655</td><td style = \"text-align: right;\">0.389888</td><td style = \"text-align: right;\">NaN</td><td style = \"text-align: right;\">NaN</td><td style = \"text-align: right;\">NaN</td></tr><tr><td class = \"rowNumber\" style = \"font-weight: bold; text-align: right;\">4</td><td style = \"text-align: right;\">2.0</td><td style = \"text-align: left;\">02InjCTD</td><td style = \"text-align: right;\">306.059</td><td style = \"text-align: right;\">649.573</td><td style = \"text-align: right;\">289.085</td><td style = \"text-align: right;\">323.616</td><td style = \"text-align: right;\">0.893296</td><td style = \"text-align: right;\">0.945748</td><td style = \"text-align: right;\">8.949</td><td style = \"text-align: right;\">0.0276531</td><td style = \"text-align: right;\">0.0309563</td><td style = \"text-align: right;\">0.59489</td><td style = \"text-align: right;\">0.881798</td><td style = \"text-align: right;\">NaN</td><td style = \"text-align: right;\">0.084</td><td style = \"text-align: right;\">0.22</td><td style = \"text-align: right;\">NaN</td></tr><tr><td class = \"rowNumber\" style = \"font-weight: bold; text-align: right;\">5</td><td style = \"text-align: right;\">2.1</td><td style = \"text-align: left;\">02InjWTW</td><td style = \"text-align: right;\">192.417</td><td style = \"text-align: right;\">450.904</td><td style = \"text-align: right;\">206.98</td><td style = \"text-align: right;\">224.452</td><td style = \"text-align: right;\">0.922</td><td style = \"text-align: right;\">0.857273</td><td style = \"text-align: right;\">5.629</td><td style = \"text-align: right;\">0.0250789</td><td style = \"text-align: right;\">0.0271959</td><td style = \"text-align: right;\">NaN</td><td style = \"text-align: right;\">1.40281</td><td style = \"text-align: right;\">NaN</td><td style = \"text-align: right;\">NaN</td><td style = \"text-align: right;\">NaN</td><td style = \"text-align: right;\">NaN</td></tr><tr><td class = \"rowNumber\" style = \"font-weight: bold; text-align: right;\">6</td><td style = \"text-align: right;\">2.2</td><td style = \"text-align: left;\">02WTWCTD</td><td style = \"text-align: right;\">113.642</td><td style = \"text-align: right;\">200.328</td><td style = \"text-align: right;\">83.4826</td><td style = \"text-align: right;\">99.164</td><td style = \"text-align: right;\">0.842</td><td style = \"text-align: right;\">1.146</td><td style = \"text-align: right;\">3.32</td><td style = \"text-align: right;\">0.0334799</td><td style = \"text-align: right;\">0.0397688</td><td style = \"text-align: right;\">NaN</td><td style = \"text-align: right;\">0.479082</td><td style = \"text-align: right;\">NaN</td><td style = \"text-align: right;\">NaN</td><td style = \"text-align: right;\">NaN</td><td style = \"text-align: right;\">NaN</td></tr><tr><td class = \"rowNumber\" style = \"font-weight: bold; text-align: right;\">7</td><td style = \"text-align: right;\">3.0</td><td style = \"text-align: left;\">03InjCTD</td><td style = \"text-align: right;\">129.12</td><td style = \"text-align: right;\">255.365</td><td style = \"text-align: right;\">120.142</td><td style = \"text-align: right;\">126.79</td><td style = \"text-align: right;\">0.947567</td><td style = \"text-align: right;\">1.01838</td><td style = \"text-align: right;\">4.012</td><td style = \"text-align: right;\">0.0316429</td><td style = \"text-align: right;\">0.0333938</td><td style = \"text-align: right;\">0.975308</td><td style = \"text-align: right;\">1.28071</td><td style = \"text-align: right;\">NaN</td><td style = \"text-align: right;\">0.18</td><td style = \"text-align: right;\">0.23</td><td style = \"text-align: right;\">NaN</td></tr><tr><td class = \"rowNumber\" style = \"font-weight: bold; text-align: right;\">8</td><td style = \"text-align: right;\">3.1</td><td style = \"text-align: left;\">03InjWTW</td><td style = \"text-align: right;\">57.7855</td><td style = \"text-align: right;\">114.642</td><td style = \"text-align: right;\">52.7038</td><td style = \"text-align: right;\">56.321</td><td style = \"text-align: right;\">0.936</td><td style = \"text-align: right;\">1.026</td><td style = \"text-align: right;\">1.689</td><td style = \"text-align: right;\">0.0299888</td><td style = \"text-align: right;\">0.032047</td><td style = \"text-align: right;\">NaN</td><td style = \"text-align: right;\">1.408</td><td style = \"text-align: right;\">NaN</td><td style = \"text-align: right;\">NaN</td><td style = \"text-align: right;\">NaN</td><td style = \"text-align: right;\">NaN</td></tr><tr><td class = \"rowNumber\" style = \"font-weight: bold; text-align: right;\">9</td><td style = \"text-align: right;\">3.2</td><td style = \"text-align: left;\">03WTWCTD</td><td style = \"text-align: right;\">71.3055</td><td style = \"text-align: right;\">142.939</td><td style = \"text-align: right;\">67.5699</td><td style = \"text-align: right;\">70.469</td><td style = \"text-align: right;\">0.959</td><td style = \"text-align: right;\">1.01187</td><td style = \"text-align: right;\">2.323</td><td style = \"text-align: right;\">0.0329648</td><td style = \"text-align: right;\">0.0343792</td><td style = \"text-align: right;\">NaN</td><td style = \"text-align: right;\">1.19441</td><td style = \"text-align: right;\">NaN</td><td style = \"text-align: right;\">NaN</td><td style = \"text-align: right;\">NaN</td><td style = \"text-align: right;\">NaN</td></tr><tr><td class = \"rowNumber\" style = \"font-weight: bold; text-align: right;\">10</td><td style = \"text-align: right;\">4.0</td><td style = \"text-align: left;\">04InjCTD</td><td style = \"text-align: right;\">140.742</td><td style = \"text-align: right;\">244.13</td><td style = \"text-align: right;\">98.3774</td><td style = \"text-align: right;\">121.108</td><td style = \"text-align: right;\">0.812312</td><td style = \"text-align: right;\">1.16212</td><td style = \"text-align: right;\">3.555</td><td style = \"text-align: right;\">0.029354</td><td style = \"text-align: right;\">0.0361363</td><td style = \"text-align: right;\">1.00091</td><td style = \"text-align: right;\">1.00091</td><td style = \"text-align: right;\">NaN</td><td style = \"text-align: right;\">0.21</td><td style = \"text-align: right;\">0.22</td><td style = \"text-align: right;\">NaN</td></tr><tr><td class = \"rowNumber\" style = \"font-weight: bold; text-align: right;\">11</td><td style = \"text-align: right;\">4.1</td><td style = \"text-align: left;\">04InjWTW</td><td style = \"text-align: right;\">34.37</td><td style = \"text-align: right;\">58.6392</td><td style = \"text-align: right;\">24.5612</td><td style = \"text-align: right;\">28.32</td><td style = \"text-align: right;\">0.867</td><td style = \"text-align: right;\">1.21363</td><td style = \"text-align: right;\">0.826</td><td style = \"text-align: right;\">0.0291667</td><td style = \"text-align: right;\">0.0336303</td><td style = \"text-align: right;\">1.888</td><td style = \"text-align: right;\">1.416</td><td style = \"text-align: right;\">NaN</td><td style = \"text-align: right;\">NaN</td><td style = \"text-align: right;\">NaN</td><td style = \"text-align: right;\">NaN</td></tr><tr><td class = \"rowNumber\" style = \"font-weight: bold; text-align: right;\">12</td><td style = \"text-align: right;\">4.2</td><td style = \"text-align: left;\">04WTWCTD</td><td style = \"text-align: right;\">106.355</td><td style = \"text-align: right;\">187.576</td><td style = \"text-align: right;\">75.049</td><td style = \"text-align: right;\">92.788</td><td style = \"text-align: right;\">0.809</td><td style = \"text-align: right;\">1.14622</td><td style = \"text-align: right;\">2.729</td><td style = \"text-align: right;\">0.0294111</td><td style = \"text-align: right;\">0.0363629</td><td style = \"text-align: right;\">0.875377</td><td style = \"text-align: right;\">0.918713</td><td style = \"text-align: right;\">NaN</td><td style = \"text-align: right;\">NaN</td><td style = \"text-align: right;\">NaN</td><td style = \"text-align: right;\">NaN</td></tr><tr><td class = \"rowNumber\" style = \"font-weight: bold; text-align: right;\">13</td><td style = \"text-align: right;\">5.0</td><td style = \"text-align: left;\">1upperInjCTD</td><td style = \"text-align: right;\">75.8892</td><td style = \"text-align: right;\">170.497</td><td style = \"text-align: right;\">76.3337</td><td style = \"text-align: right;\">84.348</td><td style = \"text-align: right;\">0.904986</td><td style = \"text-align: right;\">0.899716</td><td style = \"text-align: right;\">3.915</td><td style = \"text-align: right;\">0.0464149</td><td style = \"text-align: right;\">0.0512879</td><td style = \"text-align: right;\">1.27803</td><td style = \"text-align: right;\">NaN</td><td style = \"text-align: right;\">NaN</td><td style = \"text-align: right;\">0.34</td><td style = \"text-align: right;\">NaN</td><td style = \"text-align: right;\">NaN</td></tr><tr><td class = \"rowNumber\" style = \"font-weight: bold; text-align: right;\">14</td><td style = \"text-align: right;\">5.1</td><td style = \"text-align: left;\">1upperInjWTW</td><td style = \"text-align: right;\">55.9841</td><td style = \"text-align: right;\">116.507</td><td style = \"text-align: right;\">52.2114</td><td style = \"text-align: right;\">57.253</td><td style = \"text-align: right;\">0.912</td><td style = \"text-align: right;\">0.977838</td><td style = \"text-align: right;\">2.517</td><td style = \"text-align: right;\">0.0439628</td><td style = \"text-align: right;\">0.0482078</td><td style = \"text-align: right;\">1.63571</td><td style = \"text-align: right;\">NaN</td><td style = \"text-align: right;\">NaN</td><td style = \"text-align: right;\">NaN</td><td style = \"text-align: right;\">NaN</td><td style = \"text-align: right;\">NaN</td></tr><tr><td class = \"rowNumber\" style = \"font-weight: bold; text-align: right;\">15</td><td style = \"text-align: right;\">5.2</td><td style = \"text-align: left;\">1upperWTWCTD</td><td style = \"text-align: right;\">19.8828</td><td style = \"text-align: right;\">56.1903</td><td style = \"text-align: right;\">26.8196</td><td style = \"text-align: right;\">27.095</td><td style = \"text-align: right;\">0.99</td><td style = \"text-align: right;\">0.733818</td><td style = \"text-align: right;\">1.398</td><td style = \"text-align: right;\">0.0515962</td><td style = \"text-align: right;\">0.052126</td><td style = \"text-align: right;\">0.874194</td><td style = \"text-align: right;\">NaN</td><td style = \"text-align: right;\">NaN</td><td style = \"text-align: right;\">NaN</td><td style = \"text-align: right;\">NaN</td><td style = \"text-align: right;\">NaN</td></tr></tbody></table></div>"
      ],
      "text/latex": [
       "\\begin{tabular}{r|ccccccccc}\n",
       "\t& id & Name & Area & Perimeter & Max.Distanc & FlowLength & Sinuosity & Width\\_avg & \\\\\n",
       "\t\\hline\n",
       "\t& Float64 & String15 & Float64 & Float64 & Float64 & Float64 & Float64 & Float64 & \\\\\n",
       "\t\\hline\n",
       "\t1 & 1.0 & 01InjCTD & 216.642 & 269.978 & 123.679 & 134.554 & 0.919181 & 1.61007 & $\\dots$ \\\\\n",
       "\t2 & 1.1 & 01InjWTW & 92.0273 & 132.29 & 63.7152 & 65.145 & 0.978 & 1.41265 & $\\dots$ \\\\\n",
       "\t3 & 1.2 & 01WTWCTD & 124.615 & 140.818 & 63.1737 & 69.409 & 0.91 & 1.79537 & $\\dots$ \\\\\n",
       "\t4 & 2.0 & 02InjCTD & 306.059 & 649.573 & 289.085 & 323.616 & 0.893296 & 0.945748 & $\\dots$ \\\\\n",
       "\t5 & 2.1 & 02InjWTW & 192.417 & 450.904 & 206.98 & 224.452 & 0.922 & 0.857273 & $\\dots$ \\\\\n",
       "\t6 & 2.2 & 02WTWCTD & 113.642 & 200.328 & 83.4826 & 99.164 & 0.842 & 1.146 & $\\dots$ \\\\\n",
       "\t7 & 3.0 & 03InjCTD & 129.12 & 255.365 & 120.142 & 126.79 & 0.947567 & 1.01838 & $\\dots$ \\\\\n",
       "\t8 & 3.1 & 03InjWTW & 57.7855 & 114.642 & 52.7038 & 56.321 & 0.936 & 1.026 & $\\dots$ \\\\\n",
       "\t9 & 3.2 & 03WTWCTD & 71.3055 & 142.939 & 67.5699 & 70.469 & 0.959 & 1.01187 & $\\dots$ \\\\\n",
       "\t10 & 4.0 & 04InjCTD & 140.742 & 244.13 & 98.3774 & 121.108 & 0.812312 & 1.16212 & $\\dots$ \\\\\n",
       "\t11 & 4.1 & 04InjWTW & 34.37 & 58.6392 & 24.5612 & 28.32 & 0.867 & 1.21363 & $\\dots$ \\\\\n",
       "\t12 & 4.2 & 04WTWCTD & 106.355 & 187.576 & 75.049 & 92.788 & 0.809 & 1.14622 & $\\dots$ \\\\\n",
       "\t13 & 5.0 & 1upperInjCTD & 75.8892 & 170.497 & 76.3337 & 84.348 & 0.904986 & 0.899716 & $\\dots$ \\\\\n",
       "\t14 & 5.1 & 1upperInjWTW & 55.9841 & 116.507 & 52.2114 & 57.253 & 0.912 & 0.977838 & $\\dots$ \\\\\n",
       "\t15 & 5.2 & 1upperWTWCTD & 19.8828 & 56.1903 & 26.8196 & 27.095 & 0.99 & 0.733818 & $\\dots$ \\\\\n",
       "\\end{tabular}\n"
      ],
      "text/plain": [
       "\u001b[1m15×17 DataFrame\u001b[0m\n",
       "\u001b[1m Row \u001b[0m│\u001b[1m id      \u001b[0m\u001b[1m Name         \u001b[0m\u001b[1m Area     \u001b[0m\u001b[1m Perimeter \u001b[0m\u001b[1m Max.Distanc \u001b[0m\u001b[1m FlowLength \u001b[0m\u001b[1m Si\u001b[0m ⋯\n",
       "     │\u001b[90m Float64 \u001b[0m\u001b[90m String15     \u001b[0m\u001b[90m Float64  \u001b[0m\u001b[90m Float64   \u001b[0m\u001b[90m Float64     \u001b[0m\u001b[90m Float64    \u001b[0m\u001b[90m Fl\u001b[0m ⋯\n",
       "─────┼──────────────────────────────────────────────────────────────────────────\n",
       "   1 │     1.0  01InjCTD      216.642    269.978      123.679      134.554   0 ⋯\n",
       "   2 │     1.1  01InjWTW       92.0273   132.29        63.7152      65.145   0\n",
       "   3 │     1.2  01WTWCTD      124.615    140.818       63.1737      69.409   0\n",
       "   4 │     2.0  02InjCTD      306.059    649.573      289.085      323.616   0\n",
       "   5 │     2.1  02InjWTW      192.417    450.904      206.98       224.452   0 ⋯\n",
       "   6 │     2.2  02WTWCTD      113.642    200.328       83.4826      99.164   0\n",
       "   7 │     3.0  03InjCTD      129.12     255.365      120.142      126.79    0\n",
       "   8 │     3.1  03InjWTW       57.7855   114.642       52.7038      56.321   0\n",
       "   9 │     3.2  03WTWCTD       71.3055   142.939       67.5699      70.469   0 ⋯\n",
       "  10 │     4.0  04InjCTD      140.742    244.13        98.3774     121.108   0\n",
       "  11 │     4.1  04InjWTW       34.37      58.6392      24.5612      28.32    0\n",
       "  12 │     4.2  04WTWCTD      106.355    187.576       75.049       92.788   0\n",
       "  13 │     5.0  1upperInjCTD   75.8892   170.497       76.3337      84.348   0 ⋯\n",
       "  14 │     5.1  1upperInjWTW   55.9841   116.507       52.2114      57.253   0\n",
       "  15 │     5.2  1upperWTWCTD   19.8828    56.1903      26.8196      27.095   0\n",
       "\u001b[36m                                                              11 columns omitted\u001b[0m"
      ]
     },
     "execution_count": 120,
     "metadata": {},
     "output_type": "execute_result"
    }
   ],
   "source": [
    "using CSV\n",
    "using DataFrames\n",
    "GISData = CSV.read(\"../data/raw/GISData.csv\", DataFrame)"
   ]
  },
  {
   "cell_type": "code",
   "execution_count": 140,
   "id": "5925053e-1b25-40ae-811a-40bddc2b8bd7",
   "metadata": {},
   "outputs": [
    {
     "name": "stderr",
     "output_type": "stream",
     "text": [
      "\u001b[33m\u001b[1m┌ \u001b[22m\u001b[39m\u001b[33m\u001b[1mWarning: \u001b[22m\u001b[39mFound `resolution` in the theme when creating a `Scene`. The `resolution` keyword for `Scene`s and `Figure`s has been deprecated. Use `Figure(; size = ...` or `Scene(; size = ...)` instead, which better reflects that this is a unitless size and not a pixel resolution. The key could also come from `set_theme!` calls or related theming functions.\n",
      "\u001b[33m\u001b[1m└ \u001b[22m\u001b[39m\u001b[90m@ Makie C:\\Users\\herol\\.julia\\packages\\Makie\\8h0bl\\src\\scenes.jl:227\u001b[39m\n"
     ]
    },
    {
     "data": {
      "text/plain": [
       "GLMakie.Screen(...)"
      ]
     },
     "execution_count": 140,
     "metadata": {},
     "output_type": "execute_result"
    }
   ],
   "source": [
    "#plot Sinuosity, Width_avg, Grad_Flow and Grad_straight against each other\n",
    "\n",
    "GISData_temp = GISData[:, [7, 8, 10, 11]]\n",
    "\n",
    "Makie.inline!(false)\n",
    "# Get column names\n",
    "columns = names(GISData_temp)\n",
    "\n",
    "# Create a figure with subplots\n",
    "n = length(columns)\n",
    "fig = Figure(resolution = (600, 600))\n",
    "\n",
    "# Loop through pairs of columns to create scatter plots\n",
    "for i in 1:n\n",
    "    for j in 1:n\n",
    "        ax = Axis(fig[i, j])\n",
    "        scatter!(ax, GISData_temp[:, columns[i]], GISData_temp[:, columns[j]])\n",
    "        \n",
    "        # Set x and y labels for the last row and first column respectively\n",
    "        if i == n\n",
    "            ax.xlabel = columns[j]  # Set x label\n",
    "        end\n",
    "        if j == 1\n",
    "            ax.ylabel = columns[i]  # Set y label\n",
    "        end\n",
    "    end\n",
    "end\n",
    "\n",
    "# Display the figure\n",
    "display(fig)"
   ]
  },
  {
   "cell_type": "code",
   "execution_count": 151,
   "id": "53898554-8c32-42cc-9bd5-74e2a4c1e922",
   "metadata": {},
   "outputs": [
    {
     "data": {
      "text/html": [
       "<div><div style = \"float: left;\"><span>45×7 DataFrame</span></div><div style = \"float: right;\"><span style = \"font-style: italic;\">20 rows omitted</span></div><div style = \"clear: both;\"></div></div><div class = \"data-frame\" style = \"overflow-x: scroll;\"><table class = \"data-frame\" style = \"margin-bottom: 6px;\"><thead><tr class = \"header\"><th class = \"rowNumber\" style = \"font-weight: bold; text-align: right;\">Row</th><th style = \"text-align: left;\">Stream</th><th style = \"text-align: left;\">StreamPart</th><th style = \"text-align: left;\">Order</th><th style = \"text-align: left;\">Width</th><th style = \"text-align: left;\">Depth1</th><th style = \"text-align: left;\">Depth2</th><th style = \"text-align: left;\">Depth3</th></tr><tr class = \"subheader headerLastRow\"><th class = \"rowNumber\" style = \"font-weight: bold; text-align: right;\"></th><th title = \"Int64\" style = \"text-align: left;\">Int64</th><th title = \"Int64\" style = \"text-align: left;\">Int64</th><th title = \"Int64\" style = \"text-align: left;\">Int64</th><th title = \"Int64\" style = \"text-align: left;\">Int64</th><th title = \"Int64\" style = \"text-align: left;\">Int64</th><th title = \"Int64\" style = \"text-align: left;\">Int64</th><th title = \"Int64\" style = \"text-align: left;\">Int64</th></tr></thead><tbody><tr><td class = \"rowNumber\" style = \"font-weight: bold; text-align: right;\">1</td><td style = \"text-align: right;\">2</td><td style = \"text-align: right;\">1</td><td style = \"text-align: right;\">1</td><td style = \"text-align: right;\">70</td><td style = \"text-align: right;\">25</td><td style = \"text-align: right;\">28</td><td style = \"text-align: right;\">28</td></tr><tr><td class = \"rowNumber\" style = \"font-weight: bold; text-align: right;\">2</td><td style = \"text-align: right;\">2</td><td style = \"text-align: right;\">2</td><td style = \"text-align: right;\">2</td><td style = \"text-align: right;\">110</td><td style = \"text-align: right;\">20</td><td style = \"text-align: right;\">25</td><td style = \"text-align: right;\">22</td></tr><tr><td class = \"rowNumber\" style = \"font-weight: bold; text-align: right;\">3</td><td style = \"text-align: right;\">2</td><td style = \"text-align: right;\">3</td><td style = \"text-align: right;\">3</td><td style = \"text-align: right;\">110</td><td style = \"text-align: right;\">15</td><td style = \"text-align: right;\">17</td><td style = \"text-align: right;\">25</td></tr><tr><td class = \"rowNumber\" style = \"font-weight: bold; text-align: right;\">4</td><td style = \"text-align: right;\">2</td><td style = \"text-align: right;\">4</td><td style = \"text-align: right;\">3</td><td style = \"text-align: right;\">110</td><td style = \"text-align: right;\">15</td><td style = \"text-align: right;\">17</td><td style = \"text-align: right;\">25</td></tr><tr><td class = \"rowNumber\" style = \"font-weight: bold; text-align: right;\">5</td><td style = \"text-align: right;\">2</td><td style = \"text-align: right;\">4</td><td style = \"text-align: right;\">4</td><td style = \"text-align: right;\">80</td><td style = \"text-align: right;\">20</td><td style = \"text-align: right;\">25</td><td style = \"text-align: right;\">22</td></tr><tr><td class = \"rowNumber\" style = \"font-weight: bold; text-align: right;\">6</td><td style = \"text-align: right;\">2</td><td style = \"text-align: right;\">4</td><td style = \"text-align: right;\">5</td><td style = \"text-align: right;\">140</td><td style = \"text-align: right;\">27</td><td style = \"text-align: right;\">23</td><td style = \"text-align: right;\">21</td></tr><tr><td class = \"rowNumber\" style = \"font-weight: bold; text-align: right;\">7</td><td style = \"text-align: right;\">2</td><td style = \"text-align: right;\">4</td><td style = \"text-align: right;\">6</td><td style = \"text-align: right;\">80</td><td style = \"text-align: right;\">20</td><td style = \"text-align: right;\">25</td><td style = \"text-align: right;\">22</td></tr><tr><td class = \"rowNumber\" style = \"font-weight: bold; text-align: right;\">8</td><td style = \"text-align: right;\">2</td><td style = \"text-align: right;\">5</td><td style = \"text-align: right;\">7</td><td style = \"text-align: right;\">100</td><td style = \"text-align: right;\">30</td><td style = \"text-align: right;\">30</td><td style = \"text-align: right;\">21</td></tr><tr><td class = \"rowNumber\" style = \"font-weight: bold; text-align: right;\">9</td><td style = \"text-align: right;\">3</td><td style = \"text-align: right;\">0</td><td style = \"text-align: right;\">1</td><td style = \"text-align: right;\">145</td><td style = \"text-align: right;\">23</td><td style = \"text-align: right;\">28</td><td style = \"text-align: right;\">25</td></tr><tr><td class = \"rowNumber\" style = \"font-weight: bold; text-align: right;\">10</td><td style = \"text-align: right;\">3</td><td style = \"text-align: right;\">1</td><td style = \"text-align: right;\">2</td><td style = \"text-align: right;\">105</td><td style = \"text-align: right;\">26</td><td style = \"text-align: right;\">26</td><td style = \"text-align: right;\">29</td></tr><tr><td class = \"rowNumber\" style = \"font-weight: bold; text-align: right;\">11</td><td style = \"text-align: right;\">3</td><td style = \"text-align: right;\">2</td><td style = \"text-align: right;\">3</td><td style = \"text-align: right;\">80</td><td style = \"text-align: right;\">23</td><td style = \"text-align: right;\">26</td><td style = \"text-align: right;\">25</td></tr><tr><td class = \"rowNumber\" style = \"font-weight: bold; text-align: right;\">12</td><td style = \"text-align: right;\">3</td><td style = \"text-align: right;\">2</td><td style = \"text-align: right;\">4</td><td style = \"text-align: right;\">70</td><td style = \"text-align: right;\">28</td><td style = \"text-align: right;\">31</td><td style = \"text-align: right;\">25</td></tr><tr><td class = \"rowNumber\" style = \"font-weight: bold; text-align: right;\">13</td><td style = \"text-align: right;\">3</td><td style = \"text-align: right;\">3</td><td style = \"text-align: right;\">5</td><td style = \"text-align: right;\">95</td><td style = \"text-align: right;\">28</td><td style = \"text-align: right;\">25</td><td style = \"text-align: right;\">30</td></tr><tr><td style = \"text-align: right;\">&vellip;</td><td style = \"text-align: right;\">&vellip;</td><td style = \"text-align: right;\">&vellip;</td><td style = \"text-align: right;\">&vellip;</td><td style = \"text-align: right;\">&vellip;</td><td style = \"text-align: right;\">&vellip;</td><td style = \"text-align: right;\">&vellip;</td><td style = \"text-align: right;\">&vellip;</td></tr><tr><td class = \"rowNumber\" style = \"font-weight: bold; text-align: right;\">34</td><td style = \"text-align: right;\">1</td><td style = \"text-align: right;\">4</td><td style = \"text-align: right;\">8</td><td style = \"text-align: right;\">210</td><td style = \"text-align: right;\">30</td><td style = \"text-align: right;\">33</td><td style = \"text-align: right;\">33</td></tr><tr><td class = \"rowNumber\" style = \"font-weight: bold; text-align: right;\">35</td><td style = \"text-align: right;\">1</td><td style = \"text-align: right;\">5</td><td style = \"text-align: right;\">9</td><td style = \"text-align: right;\">210</td><td style = \"text-align: right;\">25</td><td style = \"text-align: right;\">33</td><td style = \"text-align: right;\">38</td></tr><tr><td class = \"rowNumber\" style = \"font-weight: bold; text-align: right;\">36</td><td style = \"text-align: right;\">1</td><td style = \"text-align: right;\">6</td><td style = \"text-align: right;\">10</td><td style = \"text-align: right;\">170</td><td style = \"text-align: right;\">50</td><td style = \"text-align: right;\">55</td><td style = \"text-align: right;\">50</td></tr><tr><td class = \"rowNumber\" style = \"font-weight: bold; text-align: right;\">37</td><td style = \"text-align: right;\">5</td><td style = \"text-align: right;\">0</td><td style = \"text-align: right;\">1</td><td style = \"text-align: right;\">70</td><td style = \"text-align: right;\">25</td><td style = \"text-align: right;\">20</td><td style = \"text-align: right;\">22</td></tr><tr><td class = \"rowNumber\" style = \"font-weight: bold; text-align: right;\">38</td><td style = \"text-align: right;\">5</td><td style = \"text-align: right;\">0</td><td style = \"text-align: right;\">2</td><td style = \"text-align: right;\">80</td><td style = \"text-align: right;\">20</td><td style = \"text-align: right;\">22</td><td style = \"text-align: right;\">24</td></tr><tr><td class = \"rowNumber\" style = \"font-weight: bold; text-align: right;\">39</td><td style = \"text-align: right;\">5</td><td style = \"text-align: right;\">0</td><td style = \"text-align: right;\">3</td><td style = \"text-align: right;\">99</td><td style = \"text-align: right;\">34</td><td style = \"text-align: right;\">31</td><td style = \"text-align: right;\">30</td></tr><tr><td class = \"rowNumber\" style = \"font-weight: bold; text-align: right;\">40</td><td style = \"text-align: right;\">5</td><td style = \"text-align: right;\">1</td><td style = \"text-align: right;\">4</td><td style = \"text-align: right;\">65</td><td style = \"text-align: right;\">33</td><td style = \"text-align: right;\">40</td><td style = \"text-align: right;\">38</td></tr><tr><td class = \"rowNumber\" style = \"font-weight: bold; text-align: right;\">41</td><td style = \"text-align: right;\">5</td><td style = \"text-align: right;\">2</td><td style = \"text-align: right;\">5</td><td style = \"text-align: right;\">55</td><td style = \"text-align: right;\">18</td><td style = \"text-align: right;\">30</td><td style = \"text-align: right;\">28</td></tr><tr><td class = \"rowNumber\" style = \"font-weight: bold; text-align: right;\">42</td><td style = \"text-align: right;\">5</td><td style = \"text-align: right;\">2</td><td style = \"text-align: right;\">6</td><td style = \"text-align: right;\">70</td><td style = \"text-align: right;\">23</td><td style = \"text-align: right;\">28</td><td style = \"text-align: right;\">30</td></tr><tr><td class = \"rowNumber\" style = \"font-weight: bold; text-align: right;\">43</td><td style = \"text-align: right;\">5</td><td style = \"text-align: right;\">3</td><td style = \"text-align: right;\">7</td><td style = \"text-align: right;\">105</td><td style = \"text-align: right;\">33</td><td style = \"text-align: right;\">38</td><td style = \"text-align: right;\">40</td></tr><tr><td class = \"rowNumber\" style = \"font-weight: bold; text-align: right;\">44</td><td style = \"text-align: right;\">5</td><td style = \"text-align: right;\">4</td><td style = \"text-align: right;\">8</td><td style = \"text-align: right;\">65</td><td style = \"text-align: right;\">25</td><td style = \"text-align: right;\">25</td><td style = \"text-align: right;\">25</td></tr><tr><td class = \"rowNumber\" style = \"font-weight: bold; text-align: right;\">45</td><td style = \"text-align: right;\">5</td><td style = \"text-align: right;\">5</td><td style = \"text-align: right;\">9</td><td style = \"text-align: right;\">75</td><td style = \"text-align: right;\">20</td><td style = \"text-align: right;\">30</td><td style = \"text-align: right;\">27</td></tr></tbody></table></div>"
      ],
      "text/latex": [
       "\\begin{tabular}{r|ccccccc}\n",
       "\t& Stream & StreamPart & Order & Width & Depth1 & Depth2 & Depth3\\\\\n",
       "\t\\hline\n",
       "\t& Int64 & Int64 & Int64 & Int64 & Int64 & Int64 & Int64\\\\\n",
       "\t\\hline\n",
       "\t1 & 2 & 1 & 1 & 70 & 25 & 28 & 28 \\\\\n",
       "\t2 & 2 & 2 & 2 & 110 & 20 & 25 & 22 \\\\\n",
       "\t3 & 2 & 3 & 3 & 110 & 15 & 17 & 25 \\\\\n",
       "\t4 & 2 & 4 & 3 & 110 & 15 & 17 & 25 \\\\\n",
       "\t5 & 2 & 4 & 4 & 80 & 20 & 25 & 22 \\\\\n",
       "\t6 & 2 & 4 & 5 & 140 & 27 & 23 & 21 \\\\\n",
       "\t7 & 2 & 4 & 6 & 80 & 20 & 25 & 22 \\\\\n",
       "\t8 & 2 & 5 & 7 & 100 & 30 & 30 & 21 \\\\\n",
       "\t9 & 3 & 0 & 1 & 145 & 23 & 28 & 25 \\\\\n",
       "\t10 & 3 & 1 & 2 & 105 & 26 & 26 & 29 \\\\\n",
       "\t11 & 3 & 2 & 3 & 80 & 23 & 26 & 25 \\\\\n",
       "\t12 & 3 & 2 & 4 & 70 & 28 & 31 & 25 \\\\\n",
       "\t13 & 3 & 3 & 5 & 95 & 28 & 25 & 30 \\\\\n",
       "\t14 & 3 & 4 & 6 & 105 & 34 & 25 & 23 \\\\\n",
       "\t15 & 3 & 4 & 7 & 80 & 20 & 24 & 24 \\\\\n",
       "\t16 & 3 & 4 & 8 & 80 & 25 & 30 & 30 \\\\\n",
       "\t17 & 3 & 5 & 9 & 110 & 15 & 38 & 40 \\\\\n",
       "\t18 & 4 & 1 & 1 & 140 & 20 & 18 & 20 \\\\\n",
       "\t19 & 4 & 3 & 2 & 130 & 15 & 18 & 20 \\\\\n",
       "\t20 & 4 & 4 & 3 & 120 & 15 & 28 & 20 \\\\\n",
       "\t21 & 4 & 4 & 4 & 130 & 6 & 18 & 31 \\\\\n",
       "\t22 & 4 & 4 & 5 & 95 & 18 & 18 & 30 \\\\\n",
       "\t23 & 4 & 5 & 6 & 115 & 30 & 25 & 18 \\\\\n",
       "\t24 & 4 & 6 & 7 & 120 & 20 & 18 & 15 \\\\\n",
       "\t25 & 4 & 6 & 8 & 150 & 20 & 18 & 15 \\\\\n",
       "\t26 & 1 & 1 & 1 & 150 & 50 & 30 & 25 \\\\\n",
       "\t27 & 1 & 2 & 2 & 130 & 50 & 28 & 25 \\\\\n",
       "\t28 & 1 & 2 & 3 & 145 & 45 & 40 & 30 \\\\\n",
       "\t29 & 1 & 2 & 4 & 155 & 30 & 28 & 28 \\\\\n",
       "\t30 & 1 & 3 & 5 & 150 & 30 & 40 & 45 \\\\\n",
       "\t$\\dots$ & $\\dots$ & $\\dots$ & $\\dots$ & $\\dots$ & $\\dots$ & $\\dots$ & $\\dots$ \\\\\n",
       "\\end{tabular}\n"
      ],
      "text/plain": [
       "\u001b[1m45×7 DataFrame\u001b[0m\n",
       "\u001b[1m Row \u001b[0m│\u001b[1m Stream \u001b[0m\u001b[1m StreamPart \u001b[0m\u001b[1m Order \u001b[0m\u001b[1m Width \u001b[0m\u001b[1m Depth1 \u001b[0m\u001b[1m Depth2 \u001b[0m\u001b[1m Depth3 \u001b[0m\n",
       "     │\u001b[90m Int64  \u001b[0m\u001b[90m Int64      \u001b[0m\u001b[90m Int64 \u001b[0m\u001b[90m Int64 \u001b[0m\u001b[90m Int64  \u001b[0m\u001b[90m Int64  \u001b[0m\u001b[90m Int64  \u001b[0m\n",
       "─────┼──────────────────────────────────────────────────────────\n",
       "   1 │      2           1      1     70      25      28      28\n",
       "   2 │      2           2      2    110      20      25      22\n",
       "   3 │      2           3      3    110      15      17      25\n",
       "   4 │      2           4      3    110      15      17      25\n",
       "   5 │      2           4      4     80      20      25      22\n",
       "   6 │      2           4      5    140      27      23      21\n",
       "   7 │      2           4      6     80      20      25      22\n",
       "   8 │      2           5      7    100      30      30      21\n",
       "   9 │      3           0      1    145      23      28      25\n",
       "  10 │      3           1      2    105      26      26      29\n",
       "  11 │      3           2      3     80      23      26      25\n",
       "  ⋮  │   ⋮         ⋮         ⋮      ⋮      ⋮       ⋮       ⋮\n",
       "  36 │      1           6     10    170      50      55      50\n",
       "  37 │      5           0      1     70      25      20      22\n",
       "  38 │      5           0      2     80      20      22      24\n",
       "  39 │      5           0      3     99      34      31      30\n",
       "  40 │      5           1      4     65      33      40      38\n",
       "  41 │      5           2      5     55      18      30      28\n",
       "  42 │      5           2      6     70      23      28      30\n",
       "  43 │      5           3      7    105      33      38      40\n",
       "  44 │      5           4      8     65      25      25      25\n",
       "  45 │      5           5      9     75      20      30      27\n",
       "\u001b[36m                                                 24 rows omitted\u001b[0m"
      ]
     },
     "execution_count": 151,
     "metadata": {},
     "output_type": "execute_result"
    }
   ],
   "source": [
    "StreamSurvey_full = CSV.read(\"../data/raw/streams_corr.csv\", DataFrame)\n",
    "StreamSurvey = StreamSurvey_full[:, [\"Stream\", \"StreamPart\", \"Order\", \"Width\", \"Depth1\", \"Depth2\", \"Depth3\"]]"
   ]
  },
  {
   "cell_type": "code",
   "execution_count": 152,
   "id": "68b67789-45c5-4b4b-9ae9-15cd244984bd",
   "metadata": {},
   "outputs": [
    {
     "data": {
      "text/html": [
       "<div><div style = \"float: left;\"><span>45×8 DataFrame</span></div><div style = \"float: right;\"><span style = \"font-style: italic;\">20 rows omitted</span></div><div style = \"clear: both;\"></div></div><div class = \"data-frame\" style = \"overflow-x: scroll;\"><table class = \"data-frame\" style = \"margin-bottom: 6px;\"><thead><tr class = \"header\"><th class = \"rowNumber\" style = \"font-weight: bold; text-align: right;\">Row</th><th style = \"text-align: left;\">Stream</th><th style = \"text-align: left;\">StreamPart</th><th style = \"text-align: left;\">Order</th><th style = \"text-align: left;\">Width</th><th style = \"text-align: left;\">Depth1</th><th style = \"text-align: left;\">Depth2</th><th style = \"text-align: left;\">Depth3</th><th style = \"text-align: left;\">Depth_avg</th></tr><tr class = \"subheader headerLastRow\"><th class = \"rowNumber\" style = \"font-weight: bold; text-align: right;\"></th><th title = \"Int64\" style = \"text-align: left;\">Int64</th><th title = \"Int64\" style = \"text-align: left;\">Int64</th><th title = \"Int64\" style = \"text-align: left;\">Int64</th><th title = \"Int64\" style = \"text-align: left;\">Int64</th><th title = \"Int64\" style = \"text-align: left;\">Int64</th><th title = \"Int64\" style = \"text-align: left;\">Int64</th><th title = \"Int64\" style = \"text-align: left;\">Int64</th><th title = \"Float64\" style = \"text-align: left;\">Float64</th></tr></thead><tbody><tr><td class = \"rowNumber\" style = \"font-weight: bold; text-align: right;\">1</td><td style = \"text-align: right;\">2</td><td style = \"text-align: right;\">1</td><td style = \"text-align: right;\">1</td><td style = \"text-align: right;\">70</td><td style = \"text-align: right;\">25</td><td style = \"text-align: right;\">28</td><td style = \"text-align: right;\">28</td><td style = \"text-align: right;\">27.0</td></tr><tr><td class = \"rowNumber\" style = \"font-weight: bold; text-align: right;\">2</td><td style = \"text-align: right;\">2</td><td style = \"text-align: right;\">2</td><td style = \"text-align: right;\">2</td><td style = \"text-align: right;\">110</td><td style = \"text-align: right;\">20</td><td style = \"text-align: right;\">25</td><td style = \"text-align: right;\">22</td><td style = \"text-align: right;\">22.3333</td></tr><tr><td class = \"rowNumber\" style = \"font-weight: bold; text-align: right;\">3</td><td style = \"text-align: right;\">2</td><td style = \"text-align: right;\">3</td><td style = \"text-align: right;\">3</td><td style = \"text-align: right;\">110</td><td style = \"text-align: right;\">15</td><td style = \"text-align: right;\">17</td><td style = \"text-align: right;\">25</td><td style = \"text-align: right;\">19.0</td></tr><tr><td class = \"rowNumber\" style = \"font-weight: bold; text-align: right;\">4</td><td style = \"text-align: right;\">2</td><td style = \"text-align: right;\">4</td><td style = \"text-align: right;\">3</td><td style = \"text-align: right;\">110</td><td style = \"text-align: right;\">15</td><td style = \"text-align: right;\">17</td><td style = \"text-align: right;\">25</td><td style = \"text-align: right;\">19.0</td></tr><tr><td class = \"rowNumber\" style = \"font-weight: bold; text-align: right;\">5</td><td style = \"text-align: right;\">2</td><td style = \"text-align: right;\">4</td><td style = \"text-align: right;\">4</td><td style = \"text-align: right;\">80</td><td style = \"text-align: right;\">20</td><td style = \"text-align: right;\">25</td><td style = \"text-align: right;\">22</td><td style = \"text-align: right;\">22.3333</td></tr><tr><td class = \"rowNumber\" style = \"font-weight: bold; text-align: right;\">6</td><td style = \"text-align: right;\">2</td><td style = \"text-align: right;\">4</td><td style = \"text-align: right;\">5</td><td style = \"text-align: right;\">140</td><td style = \"text-align: right;\">27</td><td style = \"text-align: right;\">23</td><td style = \"text-align: right;\">21</td><td style = \"text-align: right;\">23.6667</td></tr><tr><td class = \"rowNumber\" style = \"font-weight: bold; text-align: right;\">7</td><td style = \"text-align: right;\">2</td><td style = \"text-align: right;\">4</td><td style = \"text-align: right;\">6</td><td style = \"text-align: right;\">80</td><td style = \"text-align: right;\">20</td><td style = \"text-align: right;\">25</td><td style = \"text-align: right;\">22</td><td style = \"text-align: right;\">22.3333</td></tr><tr><td class = \"rowNumber\" style = \"font-weight: bold; text-align: right;\">8</td><td style = \"text-align: right;\">2</td><td style = \"text-align: right;\">5</td><td style = \"text-align: right;\">7</td><td style = \"text-align: right;\">100</td><td style = \"text-align: right;\">30</td><td style = \"text-align: right;\">30</td><td style = \"text-align: right;\">21</td><td style = \"text-align: right;\">27.0</td></tr><tr><td class = \"rowNumber\" style = \"font-weight: bold; text-align: right;\">9</td><td style = \"text-align: right;\">3</td><td style = \"text-align: right;\">0</td><td style = \"text-align: right;\">1</td><td style = \"text-align: right;\">145</td><td style = \"text-align: right;\">23</td><td style = \"text-align: right;\">28</td><td style = \"text-align: right;\">25</td><td style = \"text-align: right;\">25.3333</td></tr><tr><td class = \"rowNumber\" style = \"font-weight: bold; text-align: right;\">10</td><td style = \"text-align: right;\">3</td><td style = \"text-align: right;\">1</td><td style = \"text-align: right;\">2</td><td style = \"text-align: right;\">105</td><td style = \"text-align: right;\">26</td><td style = \"text-align: right;\">26</td><td style = \"text-align: right;\">29</td><td style = \"text-align: right;\">27.0</td></tr><tr><td class = \"rowNumber\" style = \"font-weight: bold; text-align: right;\">11</td><td style = \"text-align: right;\">3</td><td style = \"text-align: right;\">2</td><td style = \"text-align: right;\">3</td><td style = \"text-align: right;\">80</td><td style = \"text-align: right;\">23</td><td style = \"text-align: right;\">26</td><td style = \"text-align: right;\">25</td><td style = \"text-align: right;\">24.6667</td></tr><tr><td class = \"rowNumber\" style = \"font-weight: bold; text-align: right;\">12</td><td style = \"text-align: right;\">3</td><td style = \"text-align: right;\">2</td><td style = \"text-align: right;\">4</td><td style = \"text-align: right;\">70</td><td style = \"text-align: right;\">28</td><td style = \"text-align: right;\">31</td><td style = \"text-align: right;\">25</td><td style = \"text-align: right;\">28.0</td></tr><tr><td class = \"rowNumber\" style = \"font-weight: bold; text-align: right;\">13</td><td style = \"text-align: right;\">3</td><td style = \"text-align: right;\">3</td><td style = \"text-align: right;\">5</td><td style = \"text-align: right;\">95</td><td style = \"text-align: right;\">28</td><td style = \"text-align: right;\">25</td><td style = \"text-align: right;\">30</td><td style = \"text-align: right;\">27.6667</td></tr><tr><td style = \"text-align: right;\">&vellip;</td><td style = \"text-align: right;\">&vellip;</td><td style = \"text-align: right;\">&vellip;</td><td style = \"text-align: right;\">&vellip;</td><td style = \"text-align: right;\">&vellip;</td><td style = \"text-align: right;\">&vellip;</td><td style = \"text-align: right;\">&vellip;</td><td style = \"text-align: right;\">&vellip;</td><td style = \"text-align: right;\">&vellip;</td></tr><tr><td class = \"rowNumber\" style = \"font-weight: bold; text-align: right;\">34</td><td style = \"text-align: right;\">1</td><td style = \"text-align: right;\">4</td><td style = \"text-align: right;\">8</td><td style = \"text-align: right;\">210</td><td style = \"text-align: right;\">30</td><td style = \"text-align: right;\">33</td><td style = \"text-align: right;\">33</td><td style = \"text-align: right;\">32.0</td></tr><tr><td class = \"rowNumber\" style = \"font-weight: bold; text-align: right;\">35</td><td style = \"text-align: right;\">1</td><td style = \"text-align: right;\">5</td><td style = \"text-align: right;\">9</td><td style = \"text-align: right;\">210</td><td style = \"text-align: right;\">25</td><td style = \"text-align: right;\">33</td><td style = \"text-align: right;\">38</td><td style = \"text-align: right;\">32.0</td></tr><tr><td class = \"rowNumber\" style = \"font-weight: bold; text-align: right;\">36</td><td style = \"text-align: right;\">1</td><td style = \"text-align: right;\">6</td><td style = \"text-align: right;\">10</td><td style = \"text-align: right;\">170</td><td style = \"text-align: right;\">50</td><td style = \"text-align: right;\">55</td><td style = \"text-align: right;\">50</td><td style = \"text-align: right;\">51.6667</td></tr><tr><td class = \"rowNumber\" style = \"font-weight: bold; text-align: right;\">37</td><td style = \"text-align: right;\">5</td><td style = \"text-align: right;\">0</td><td style = \"text-align: right;\">1</td><td style = \"text-align: right;\">70</td><td style = \"text-align: right;\">25</td><td style = \"text-align: right;\">20</td><td style = \"text-align: right;\">22</td><td style = \"text-align: right;\">22.3333</td></tr><tr><td class = \"rowNumber\" style = \"font-weight: bold; text-align: right;\">38</td><td style = \"text-align: right;\">5</td><td style = \"text-align: right;\">0</td><td style = \"text-align: right;\">2</td><td style = \"text-align: right;\">80</td><td style = \"text-align: right;\">20</td><td style = \"text-align: right;\">22</td><td style = \"text-align: right;\">24</td><td style = \"text-align: right;\">22.0</td></tr><tr><td class = \"rowNumber\" style = \"font-weight: bold; text-align: right;\">39</td><td style = \"text-align: right;\">5</td><td style = \"text-align: right;\">0</td><td style = \"text-align: right;\">3</td><td style = \"text-align: right;\">99</td><td style = \"text-align: right;\">34</td><td style = \"text-align: right;\">31</td><td style = \"text-align: right;\">30</td><td style = \"text-align: right;\">31.6667</td></tr><tr><td class = \"rowNumber\" style = \"font-weight: bold; text-align: right;\">40</td><td style = \"text-align: right;\">5</td><td style = \"text-align: right;\">1</td><td style = \"text-align: right;\">4</td><td style = \"text-align: right;\">65</td><td style = \"text-align: right;\">33</td><td style = \"text-align: right;\">40</td><td style = \"text-align: right;\">38</td><td style = \"text-align: right;\">37.0</td></tr><tr><td class = \"rowNumber\" style = \"font-weight: bold; text-align: right;\">41</td><td style = \"text-align: right;\">5</td><td style = \"text-align: right;\">2</td><td style = \"text-align: right;\">5</td><td style = \"text-align: right;\">55</td><td style = \"text-align: right;\">18</td><td style = \"text-align: right;\">30</td><td style = \"text-align: right;\">28</td><td style = \"text-align: right;\">25.3333</td></tr><tr><td class = \"rowNumber\" style = \"font-weight: bold; text-align: right;\">42</td><td style = \"text-align: right;\">5</td><td style = \"text-align: right;\">2</td><td style = \"text-align: right;\">6</td><td style = \"text-align: right;\">70</td><td style = \"text-align: right;\">23</td><td style = \"text-align: right;\">28</td><td style = \"text-align: right;\">30</td><td style = \"text-align: right;\">27.0</td></tr><tr><td class = \"rowNumber\" style = \"font-weight: bold; text-align: right;\">43</td><td style = \"text-align: right;\">5</td><td style = \"text-align: right;\">3</td><td style = \"text-align: right;\">7</td><td style = \"text-align: right;\">105</td><td style = \"text-align: right;\">33</td><td style = \"text-align: right;\">38</td><td style = \"text-align: right;\">40</td><td style = \"text-align: right;\">37.0</td></tr><tr><td class = \"rowNumber\" style = \"font-weight: bold; text-align: right;\">44</td><td style = \"text-align: right;\">5</td><td style = \"text-align: right;\">4</td><td style = \"text-align: right;\">8</td><td style = \"text-align: right;\">65</td><td style = \"text-align: right;\">25</td><td style = \"text-align: right;\">25</td><td style = \"text-align: right;\">25</td><td style = \"text-align: right;\">25.0</td></tr><tr><td class = \"rowNumber\" style = \"font-weight: bold; text-align: right;\">45</td><td style = \"text-align: right;\">5</td><td style = \"text-align: right;\">5</td><td style = \"text-align: right;\">9</td><td style = \"text-align: right;\">75</td><td style = \"text-align: right;\">20</td><td style = \"text-align: right;\">30</td><td style = \"text-align: right;\">27</td><td style = \"text-align: right;\">25.6667</td></tr></tbody></table></div>"
      ],
      "text/latex": [
       "\\begin{tabular}{r|cccccccc}\n",
       "\t& Stream & StreamPart & Order & Width & Depth1 & Depth2 & Depth3 & Depth\\_avg\\\\\n",
       "\t\\hline\n",
       "\t& Int64 & Int64 & Int64 & Int64 & Int64 & Int64 & Int64 & Float64\\\\\n",
       "\t\\hline\n",
       "\t1 & 2 & 1 & 1 & 70 & 25 & 28 & 28 & 27.0 \\\\\n",
       "\t2 & 2 & 2 & 2 & 110 & 20 & 25 & 22 & 22.3333 \\\\\n",
       "\t3 & 2 & 3 & 3 & 110 & 15 & 17 & 25 & 19.0 \\\\\n",
       "\t4 & 2 & 4 & 3 & 110 & 15 & 17 & 25 & 19.0 \\\\\n",
       "\t5 & 2 & 4 & 4 & 80 & 20 & 25 & 22 & 22.3333 \\\\\n",
       "\t6 & 2 & 4 & 5 & 140 & 27 & 23 & 21 & 23.6667 \\\\\n",
       "\t7 & 2 & 4 & 6 & 80 & 20 & 25 & 22 & 22.3333 \\\\\n",
       "\t8 & 2 & 5 & 7 & 100 & 30 & 30 & 21 & 27.0 \\\\\n",
       "\t9 & 3 & 0 & 1 & 145 & 23 & 28 & 25 & 25.3333 \\\\\n",
       "\t10 & 3 & 1 & 2 & 105 & 26 & 26 & 29 & 27.0 \\\\\n",
       "\t11 & 3 & 2 & 3 & 80 & 23 & 26 & 25 & 24.6667 \\\\\n",
       "\t12 & 3 & 2 & 4 & 70 & 28 & 31 & 25 & 28.0 \\\\\n",
       "\t13 & 3 & 3 & 5 & 95 & 28 & 25 & 30 & 27.6667 \\\\\n",
       "\t14 & 3 & 4 & 6 & 105 & 34 & 25 & 23 & 27.3333 \\\\\n",
       "\t15 & 3 & 4 & 7 & 80 & 20 & 24 & 24 & 22.6667 \\\\\n",
       "\t16 & 3 & 4 & 8 & 80 & 25 & 30 & 30 & 28.3333 \\\\\n",
       "\t17 & 3 & 5 & 9 & 110 & 15 & 38 & 40 & 31.0 \\\\\n",
       "\t18 & 4 & 1 & 1 & 140 & 20 & 18 & 20 & 19.3333 \\\\\n",
       "\t19 & 4 & 3 & 2 & 130 & 15 & 18 & 20 & 17.6667 \\\\\n",
       "\t20 & 4 & 4 & 3 & 120 & 15 & 28 & 20 & 21.0 \\\\\n",
       "\t21 & 4 & 4 & 4 & 130 & 6 & 18 & 31 & 18.3333 \\\\\n",
       "\t22 & 4 & 4 & 5 & 95 & 18 & 18 & 30 & 22.0 \\\\\n",
       "\t23 & 4 & 5 & 6 & 115 & 30 & 25 & 18 & 24.3333 \\\\\n",
       "\t24 & 4 & 6 & 7 & 120 & 20 & 18 & 15 & 17.6667 \\\\\n",
       "\t25 & 4 & 6 & 8 & 150 & 20 & 18 & 15 & 17.6667 \\\\\n",
       "\t26 & 1 & 1 & 1 & 150 & 50 & 30 & 25 & 35.0 \\\\\n",
       "\t27 & 1 & 2 & 2 & 130 & 50 & 28 & 25 & 34.3333 \\\\\n",
       "\t28 & 1 & 2 & 3 & 145 & 45 & 40 & 30 & 38.3333 \\\\\n",
       "\t29 & 1 & 2 & 4 & 155 & 30 & 28 & 28 & 28.6667 \\\\\n",
       "\t30 & 1 & 3 & 5 & 150 & 30 & 40 & 45 & 38.3333 \\\\\n",
       "\t$\\dots$ & $\\dots$ & $\\dots$ & $\\dots$ & $\\dots$ & $\\dots$ & $\\dots$ & $\\dots$ & $\\dots$ \\\\\n",
       "\\end{tabular}\n"
      ],
      "text/plain": [
       "\u001b[1m45×8 DataFrame\u001b[0m\n",
       "\u001b[1m Row \u001b[0m│\u001b[1m Stream \u001b[0m\u001b[1m StreamPart \u001b[0m\u001b[1m Order \u001b[0m\u001b[1m Width \u001b[0m\u001b[1m Depth1 \u001b[0m\u001b[1m Depth2 \u001b[0m\u001b[1m Depth3 \u001b[0m\u001b[1m Depth_avg \u001b[0m\n",
       "     │\u001b[90m Int64  \u001b[0m\u001b[90m Int64      \u001b[0m\u001b[90m Int64 \u001b[0m\u001b[90m Int64 \u001b[0m\u001b[90m Int64  \u001b[0m\u001b[90m Int64  \u001b[0m\u001b[90m Int64  \u001b[0m\u001b[90m Float64   \u001b[0m\n",
       "─────┼─────────────────────────────────────────────────────────────────────\n",
       "   1 │      2           1      1     70      25      28      28    27.0\n",
       "   2 │      2           2      2    110      20      25      22    22.3333\n",
       "   3 │      2           3      3    110      15      17      25    19.0\n",
       "   4 │      2           4      3    110      15      17      25    19.0\n",
       "   5 │      2           4      4     80      20      25      22    22.3333\n",
       "   6 │      2           4      5    140      27      23      21    23.6667\n",
       "   7 │      2           4      6     80      20      25      22    22.3333\n",
       "   8 │      2           5      7    100      30      30      21    27.0\n",
       "   9 │      3           0      1    145      23      28      25    25.3333\n",
       "  10 │      3           1      2    105      26      26      29    27.0\n",
       "  11 │      3           2      3     80      23      26      25    24.6667\n",
       "  ⋮  │   ⋮         ⋮         ⋮      ⋮      ⋮       ⋮       ⋮         ⋮\n",
       "  36 │      1           6     10    170      50      55      50    51.6667\n",
       "  37 │      5           0      1     70      25      20      22    22.3333\n",
       "  38 │      5           0      2     80      20      22      24    22.0\n",
       "  39 │      5           0      3     99      34      31      30    31.6667\n",
       "  40 │      5           1      4     65      33      40      38    37.0\n",
       "  41 │      5           2      5     55      18      30      28    25.3333\n",
       "  42 │      5           2      6     70      23      28      30    27.0\n",
       "  43 │      5           3      7    105      33      38      40    37.0\n",
       "  44 │      5           4      8     65      25      25      25    25.0\n",
       "  45 │      5           5      9     75      20      30      27    25.6667\n",
       "\u001b[36m                                                            24 rows omitted\u001b[0m"
      ]
     },
     "execution_count": 152,
     "metadata": {},
     "output_type": "execute_result"
    }
   ],
   "source": [
    "StreamSurvey[:, \"Depth_avg\"] = (StreamSurvey[:, \"Depth1\"] + StreamSurvey[:, \"Depth2\"] + StreamSurvey[:, \"Depth3\"])/3\n",
    "StreamSurvey"
   ]
  },
  {
   "cell_type": "code",
   "execution_count": 156,
   "id": "aa736ec8-9e9b-4073-ad80-6aa7797b8a63",
   "metadata": {},
   "outputs": [
    {
     "data": {
      "text/plain": [
       "11-element Vector{Int64}:\n",
       " 150\n",
       " 130\n",
       " 145\n",
       " 155\n",
       " 150\n",
       " 195\n",
       " 195\n",
       " 160\n",
       " 210\n",
       " 210\n",
       " 170"
      ]
     },
     "execution_count": 156,
     "metadata": {},
     "output_type": "execute_result"
    }
   ],
   "source": [
    "#trying to get average values per section, finish next time\n",
    "#for now i only have it per stream!!!\n",
    "StreamSurvey[StreamSurvey[:, \"Stream\"] .== 1, \"Width\"]"
   ]
  },
  {
   "cell_type": "code",
   "execution_count": null,
   "id": "5af802c6-6ef7-4422-b512-033ba21e94e9",
   "metadata": {},
   "outputs": [],
   "source": [
    "for i in 1:5\n",
    "    for j in 1:length(StreamSurvey[:, \"Stream\"])\n",
    "        if StreamSurvey[j, \"Stream\"] == i\n",
    "            \n",
    "            "
   ]
  }
 ],
 "metadata": {
  "kernelspec": {
   "display_name": "Julia 1.10.5",
   "language": "julia",
   "name": "julia-1.10"
  },
  "language_info": {
   "file_extension": ".jl",
   "mimetype": "application/julia",
   "name": "julia",
   "version": "1.10.5"
  }
 },
 "nbformat": 4,
 "nbformat_minor": 5
}
