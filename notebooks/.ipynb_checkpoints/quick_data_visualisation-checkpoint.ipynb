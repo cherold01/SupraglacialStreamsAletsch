{
 "cells": [
  {
   "cell_type": "markdown",
   "metadata": {},
   "source": [
    "# Visual inspection of sensor data\n",
    "\n",
    "Here a few functions to visually inspect your data.\n",
    "See `1_intro.jl`/`1_intro.ipynb` for an intro to Julia/Jupyter."
   ]
  },
  {
   "cell_type": "markdown",
   "metadata": {},
   "source": [
    "Load helper_functions.jl and plotting package (`PyPlot`)"
   ]
  },
  {
   "cell_type": "code",
   "execution_count": 1,
   "metadata": {},
   "outputs": [
    {
     "data": {
      "text/plain": [
       "false"
      ]
     },
     "execution_count": 1,
     "metadata": {},
     "output_type": "execute_result"
    }
   ],
   "source": [
    "using NBInclude\n",
    "@nbinclude(\"helper_functions.ipynb\")\n",
    "using GLMakie\n",
    "Makie.inline!(false) # set to false for notebook inline plots"
   ]
  },
  {
   "cell_type": "markdown",
   "metadata": {},
   "source": [
    "Function which does the plotting"
   ]
  },
  {
   "cell_type": "code",
   "execution_count": 2,
   "metadata": {},
   "outputs": [
    {
     "data": {
      "text/plain": [
       "plotit"
      ]
     },
     "execution_count": 2,
     "metadata": {},
     "output_type": "execute_result"
    }
   ],
   "source": [
    "\"\"\"\n",
    "   plotit(filename, sensor, variable=:cond)\n",
    "\n",
    "Plots the results from one file.  By default into the current axis\n",
    "\"\"\"\n",
    "function plotit(filename, sensor, variable=:cond)\n",
    "    # load\n",
    "    d = if sensor==:CTD\n",
    "        read_Keller_DCX22_CTD(filename)\n",
    "    elseif sensor==:DC22\n",
    "        read_Keller_DC22(filename)\n",
    "    elseif sensor==:DCX22\n",
    "        read_Keller_DCX22(filename)\n",
    "    elseif sensor==:WTW\n",
    "        read_WTW(filename)\n",
    "    else\n",
    "        error(\"Don't know how to read data from sensor: $sensor\")\n",
    "    end\n",
    "    # plot\n",
    "    \n",
    "    display(lines(d[:t], d[variable]))\n",
    "\n",
    "  \n",
    "    #title(\"$filename, sensor=$sensor, variable=$variable\")\n",
    "end"
   ]
  },
  {
   "cell_type": "markdown",
   "metadata": {},
   "source": [
    "Call above function to do the plotting.  Example plotting the pressure:"
   ]
  },
  {
   "cell_type": "code",
   "execution_count": 65,
   "metadata": {},
   "outputs": [
    {
     "data": {
      "text/plain": [
       "GLMakie.Screen(...)"
      ]
     },
     "execution_count": 65,
     "metadata": {},
     "output_type": "execute_result"
    }
   ],
   "source": [
    "plotit(\"../data/raw/2024_Konki_Pressure/Stage_17_09_2023-23_14_00-206554.CSV\", :CTD, :press)\n",
    "#plotit(\"../data/raw/2024_Konki_WTW/AD514631.CSV\", :WTW, :cond)"
   ]
  },
  {
   "cell_type": "code",
   "execution_count": 61,
   "metadata": {},
   "outputs": [
    {
     "data": {
      "text/plain": [
       "GLMakie.Screen(...)"
      ]
     },
     "execution_count": 61,
     "metadata": {},
     "output_type": "execute_result"
    }
   ],
   "source": [
    "d_sd = read_Keller(\"../data/raw/2024_Konki_Pressure/Stage_17_09_2023-23_14_00-206554.CSV\", presshead=\"P2\")\n",
    "display(lines(d_sd[:t], d_sd[:press]))"
   ]
  },
  {
   "cell_type": "code",
   "execution_count": 62,
   "metadata": {},
   "outputs": [
    {
     "data": {
      "text/plain": [
       "Dict{Symbol, Any} with 3 entries:\n",
       "  :temp  => [29.23, 29.07, 22.87, 22.87, 22.87, 22.87, 22.87, 22.87, 22.85, 22.…\n",
       "  :t     => [DateTime(\"2023-09-09T19:57:00\"), DateTime(\"2023-09-09T19:58:00\"), …\n",
       "  :press => [9.83593, 9.83624, 9.69796, 9.69828, 9.69828, 9.69796, 9.69796, 9.6…"
      ]
     },
     "execution_count": 62,
     "metadata": {},
     "output_type": "execute_result"
    }
   ],
   "source": [
    "d_sd"
   ]
  },
  {
   "cell_type": "markdown",
   "metadata": {},
   "source": [
    "---\n",
    "\n",
    "*This notebook was generated using [Literate.jl](https://github.com/fredrikekre/Literate.jl).*"
   ]
  }
 ],
 "metadata": {
  "kernelspec": {
   "display_name": "Julia 1.10.5",
   "language": "julia",
   "name": "julia-1.10"
  },
  "language_info": {
   "file_extension": ".jl",
   "mimetype": "application/julia",
   "name": "julia",
   "version": "1.10.5"
  }
 },
 "nbformat": 4,
 "nbformat_minor": 4
}
