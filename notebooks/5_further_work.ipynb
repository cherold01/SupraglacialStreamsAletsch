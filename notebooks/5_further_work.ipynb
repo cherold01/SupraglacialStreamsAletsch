{
 "cells": [
  {
   "cell_type": "markdown",
   "source": [
    "# What next?\n",
    "\n",
    "You now have the discharges and time between the detection sites.  What to do next?"
   ],
   "metadata": {}
  },
  {
   "outputs": [
    {
     "name": "stdout",
     "output_type": "stream",
     "text": [
      "Estimated linear fit: f(delta_cond) = a*conc with\n",
      " a = 0.00101±6.89e-5\n",
      "\n",
      "Estimated linear fit: f(delta_cond) = a*conc with\n",
      " a = 0.000812±9.9e-5\n",
      "\n",
      "Estimated linear fit: f(delta_cond) = a*conc with\n",
      " a = 0.000769±2.59e-15\n",
      "\n"
     ]
    }
   ],
   "cell_type": "code",
   "source": [
    "using NBInclude\n",
    "@nbinclude(\"4_process_traces.ipynb\") # load previous work"
   ],
   "metadata": {},
   "execution_count": 1
  },
  {
   "cell_type": "markdown",
   "source": [
    "## Stage-discharge relation and continuous Q"
   ],
   "metadata": {}
  },
  {
   "cell_type": "markdown",
   "source": [
    "## Hydraulic friction Factor"
   ],
   "metadata": {}
  },
  {
   "cell_type": "markdown",
   "source": [
    "## Other\n",
    "\n",
    "- Make a map of the mapped moulin locations.  Superimpose it on an orthophoto\n",
    "- Compare lake discharge to discharge of Gletsch https://www.hydrodaten.admin.ch/de/2268.html\n",
    "- Try to infer the glacier-discharge from the lake discharge with `Q_in - Q_out = A * dh/dt`\n",
    "- Compare discharge errors from different sensors / different detection locations\n",
    "- If you mapped a catchment for the supraglacial streams, compare it to the melt-rates inferred\n",
    "  by the mass-balance group.  Maybe even in a time-resolved manner..."
   ],
   "metadata": {}
  },
  {
   "cell_type": "markdown",
   "source": [
    "---\n",
    "\n",
    "*This notebook was generated using [Literate.jl](https://github.com/fredrikekre/Literate.jl).*"
   ],
   "metadata": {}
  }
 ],
 "nbformat_minor": 3,
 "metadata": {
  "language_info": {
   "file_extension": ".jl",
   "mimetype": "application/julia",
   "name": "julia",
   "version": "1.10.4"
  },
  "kernelspec": {
   "name": "julia-1.10",
   "display_name": "Julia 1.10.4",
   "language": "julia"
  }
 },
 "nbformat": 4
}
