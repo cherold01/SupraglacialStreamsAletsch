{
 "cells": [
  {
   "cell_type": "markdown",
   "metadata": {},
   "source": [
    "# Visual inspection of data\n",
    "\n",
    "Here a few functions to visually inspect your data.\n",
    "\n",
    "See [http://localhost:8889/notebooks/Salt-dilution.ipynb](http://localhost:8889/notebooks/Salt-dilution.ipynb) for an intro to Jupyter and Julia."
   ]
  },
  {
   "cell_type": "code",
   "execution_count": 30,
   "metadata": {},
   "outputs": [
    {
     "data": {
      "text/plain": [
       "true"
      ]
     },
     "execution_count": 30,
     "metadata": {},
     "output_type": "execute_result"
    }
   ],
   "source": [
    "using NBInclude\n",
    "@nbinclude(\"Salt-dilution-helper-functions.ipynb\");\n",
    "\n",
    "using PyPlot\n",
    "\n",
    "\"\"\"\n",
    "   plotit(filename, sensor, variable)\n",
    "\n",
    "Plots the results from one file. \n",
    "\"\"\"\n",
    "function plotit(filename, sensor, variable=:cond)\n",
    "    # load\n",
    "    if sensor==:WTW\n",
    "        d = read_WTW(filename)\n",
    "    elseif sensor==:CTD\n",
    "        d = read_Keller_DCX22_CTD(filename)\n",
    "    elseif sensor==:DC22\n",
    "        d = read_Keller_DC22(filename)\n",
    "    elseif sensor==:DCX22\n",
    "        d = read_Keller_DCX22(filename)\n",
    "    end\n",
    "    # plot\n",
    "    figure()\n",
    "    plot(d[:t], d[variable])\n",
    "    title(\"$filename, sensor=$sensor, variable=$variable\")\n",
    "end\n",
    "\n",
    "pygui(true) # to get an interactive, zoomable plot\n",
    "# pygui(false) # to get in-line plots"
   ]
  },
  {
   "cell_type": "code",
   "execution_count": 31,
   "metadata": {},
   "outputs": [
    {
     "data": {
      "text/plain": [
       "PyObject Text(0.5, 1, '../data/example_raw/205144-10mH2O_12_08_2019-08_00_00.CSV, sensor=CTD, variable=press')"
      ]
     },
     "execution_count": 31,
     "metadata": {},
     "output_type": "execute_result"
    }
   ],
   "source": [
    "# examples\n",
    "plotit(\"../data/example_raw/AD281106_example.CSV\", :WTW, :cond)\n",
    "plotit(\"../data/example_raw/DC_22627.TXT\", :DC22, :press)\n",
    "plotit(\"../data/example_raw/205144-10mH2O_12_08_2019-08_00_00.CSV\", :CTD, :press)"
   ]
  },
  {
   "cell_type": "code",
   "execution_count": null,
   "metadata": {},
   "outputs": [],
   "source": []
  }
 ],
 "metadata": {
  "kernelspec": {
   "display_name": "Julia 1.2.0",
   "language": "julia",
   "name": "julia-1.2"
  },
  "language_info": {
   "file_extension": ".jl",
   "mimetype": "application/julia",
   "name": "julia",
   "version": "1.2.0"
  }
 },
 "nbformat": 4,
 "nbformat_minor": 2
}
