{
 "cells": [
  {
   "cell_type": "code",
   "execution_count": 1,
   "id": "b69503df-f897-4a98-bda9-59085e36b394",
   "metadata": {},
   "outputs": [],
   "source": [
    "using CSV, DataFrames\n",
    "using GLMakie\n",
    "using MonteCarloMeasurements, Distributions"
   ]
  },
  {
   "cell_type": "code",
   "execution_count": 2,
   "id": "e7c66d5f-ede3-474b-8070-0a2a49bc0695",
   "metadata": {},
   "outputs": [
    {
     "data": {
      "text/plain": [
       "15-element Vector{Particles{Float64, 2000}}:\n",
       " 124.0 ± 0.49\n",
       "  63.7 ± 0.49\n",
       "  63.2 ± 0.49\n",
       " 289.0 ± 0.5\n",
       " 207.0 ± 0.5\n",
       "  83.5 ± 0.5\n",
       " 120.0 ± 0.5\n",
       "  52.7 ± 0.5\n",
       "  67.6 ± 0.5\n",
       "  98.4 ± 0.5\n",
       "  24.6 ± 0.5\n",
       "  75.1 ± 0.49\n",
       "  76.3 ± 0.5\n",
       "  52.2 ± 0.49\n",
       "  26.8 ± 0.5"
      ]
     },
     "execution_count": 2,
     "metadata": {},
     "output_type": "execute_result"
    }
   ],
   "source": [
    "poly = CSV.read(\"../data/raw/GISData_raw.csv\", DataFrame)\n",
    "poly.Area = poly.Area ± 0.1.*poly.Area\n",
    "poly.Perimeter = poly.Perimeter ± 0.02.*poly.Perimeter\n",
    "poly.MaxDist = poly.MaxDist ± 0.5"
   ]
  },
  {
   "cell_type": "code",
   "execution_count": 3,
   "id": "5925053e-1b25-40ae-811a-40bddc2b8bd7",
   "metadata": {},
   "outputs": [
    {
     "data": {
      "text/plain": [
       "\"GISData_temp = GISData[:, [7, 8, 10, 11]]\\n\\nMakie.inline!(false)\\n# Get column names\\ncolumns = names(GISData_temp)\\n\\n# Create a figure with subplots\\nn = length(columns)\\nfig = Figure(resolution = (600, 600))\\n\\n# Loop through pairs of columns to create scatter plots\\nfor i in 1\"\u001b[93m\u001b[1m ⋯ 150 bytes ⋯ \u001b[22m\u001b[39m\" x and y labels for the last row and first column respectively\\n        if i == n\\n            ax.xlabel = columns[j]  # Set x label\\n        end\\n        if j == 1\\n            ax.ylabel = columns[i]  # Set y label\\n        end\\n    end\\nend\\n\\n# Display the figure\\ndisplay(fig)\\n\""
      ]
     },
     "execution_count": 3,
     "metadata": {},
     "output_type": "execute_result"
    }
   ],
   "source": [
    "#plot Sinuosity, Width_avg, Grad_Flow and Grad_straight against each other\n",
    "\"\"\"\n",
    "GISData_temp = GISData[:, [7, 8, 10, 11]]\n",
    "\n",
    "Makie.inline!(false)\n",
    "# Get column names\n",
    "columns = names(GISData_temp)\n",
    "\n",
    "# Create a figure with subplots\n",
    "n = length(columns)\n",
    "fig = Figure(resolution = (600, 600))\n",
    "\n",
    "# Loop through pairs of columns to create scatter plots\n",
    "for i in 1:n\n",
    "    for j in 1:n\n",
    "        ax = Axis(fig[i, j])\n",
    "        scatter!(ax, GISData_temp[:, columns[i]], GISData_temp[:, columns[j]])\n",
    "        \n",
    "        # Set x and y labels for the last row and first column respectively\n",
    "        if i == n\n",
    "            ax.xlabel = columns[j]  # Set x label\n",
    "        end\n",
    "        if j == 1\n",
    "            ax.ylabel = columns[i]  # Set y label\n",
    "        end\n",
    "    end\n",
    "end\n",
    "\n",
    "# Display the figure\n",
    "display(fig)\n",
    "\"\"\""
   ]
  },
  {
   "cell_type": "code",
   "execution_count": 4,
   "id": "53898554-8c32-42cc-9bd5-74e2a4c1e922",
   "metadata": {},
   "outputs": [
    {
     "data": {
      "text/html": [
       "<div><div style = \"float: left;\"><span>45×8 DataFrame</span></div><div style = \"float: right;\"><span style = \"font-style: italic;\">20 rows omitted</span></div><div style = \"clear: both;\"></div></div><div class = \"data-frame\" style = \"overflow-x: scroll;\"><table class = \"data-frame\" style = \"margin-bottom: 6px;\"><thead><tr class = \"header\"><th class = \"rowNumber\" style = \"font-weight: bold; text-align: right;\">Row</th><th style = \"text-align: left;\">Stream</th><th style = \"text-align: left;\">StreamSection</th><th style = \"text-align: left;\">Order</th><th style = \"text-align: left;\">Ellh_corr</th><th style = \"text-align: left;\">Width</th><th style = \"text-align: left;\">Depth1</th><th style = \"text-align: left;\">Depth2</th><th style = \"text-align: left;\">Depth3</th></tr><tr class = \"subheader headerLastRow\"><th class = \"rowNumber\" style = \"font-weight: bold; text-align: right;\"></th><th title = \"Int64\" style = \"text-align: left;\">Int64</th><th title = \"Int64\" style = \"text-align: left;\">Int64</th><th title = \"Int64\" style = \"text-align: left;\">Int64</th><th title = \"Particles{Float64, 2000}\" style = \"text-align: left;\">Particle…</th><th title = \"Particles{Float64, 2000}\" style = \"text-align: left;\">Particle…</th><th title = \"Particles{Float64, 2000}\" style = \"text-align: left;\">Particle…</th><th title = \"Particles{Float64, 2000}\" style = \"text-align: left;\">Particle…</th><th title = \"Particles{Float64, 2000}\" style = \"text-align: left;\">Particle…</th></tr></thead><tbody><tr><td class = \"rowNumber\" style = \"font-weight: bold; text-align: right;\">1</td><td style = \"text-align: right;\">2</td><td style = \"text-align: right;\">1</td><td style = \"text-align: right;\">1</td><td style = \"text-align: right;\">2710.0 ± 0.015</td><td style = \"text-align: right;\">70.0 ± 0.05</td><td style = \"text-align: right;\">25.0 ± 0.021</td><td style = \"text-align: right;\">28.0 ± 0.02</td><td style = \"text-align: right;\">28.0 ± 0.02</td></tr><tr><td class = \"rowNumber\" style = \"font-weight: bold; text-align: right;\">2</td><td style = \"text-align: right;\">2</td><td style = \"text-align: right;\">2</td><td style = \"text-align: right;\">2</td><td style = \"text-align: right;\">2710.0 ± 0.012</td><td style = \"text-align: right;\">110.0 ± 0.051</td><td style = \"text-align: right;\">20.0 ± 0.02</td><td style = \"text-align: right;\">25.0 ± 0.02</td><td style = \"text-align: right;\">22.0 ± 0.02</td></tr><tr><td class = \"rowNumber\" style = \"font-weight: bold; text-align: right;\">3</td><td style = \"text-align: right;\">2</td><td style = \"text-align: right;\">3</td><td style = \"text-align: right;\">3</td><td style = \"text-align: right;\">2710.0 ± 0.019</td><td style = \"text-align: right;\">110.0 ± 0.049</td><td style = \"text-align: right;\">15.0 ± 0.02</td><td style = \"text-align: right;\">17.0 ± 0.02</td><td style = \"text-align: right;\">25.0 ± 0.02</td></tr><tr><td class = \"rowNumber\" style = \"font-weight: bold; text-align: right;\">4</td><td style = \"text-align: right;\">2</td><td style = \"text-align: right;\">4</td><td style = \"text-align: right;\">3</td><td style = \"text-align: right;\">2710.0 ± 0.01</td><td style = \"text-align: right;\">110.0 ± 0.05</td><td style = \"text-align: right;\">15.0 ± 0.02</td><td style = \"text-align: right;\">17.0 ± 0.021</td><td style = \"text-align: right;\">25.0 ± 0.02</td></tr><tr><td class = \"rowNumber\" style = \"font-weight: bold; text-align: right;\">5</td><td style = \"text-align: right;\">2</td><td style = \"text-align: right;\">4</td><td style = \"text-align: right;\">4</td><td style = \"text-align: right;\">2710.0 ± 0.012</td><td style = \"text-align: right;\">80.0 ± 0.05</td><td style = \"text-align: right;\">20.0 ± 0.02</td><td style = \"text-align: right;\">25.0 ± 0.02</td><td style = \"text-align: right;\">22.0 ± 0.021</td></tr><tr><td class = \"rowNumber\" style = \"font-weight: bold; text-align: right;\">6</td><td style = \"text-align: right;\">2</td><td style = \"text-align: right;\">4</td><td style = \"text-align: right;\">5</td><td style = \"text-align: right;\">2710.0 ± 0.015</td><td style = \"text-align: right;\">140.0 ± 0.05</td><td style = \"text-align: right;\">27.0 ± 0.02</td><td style = \"text-align: right;\">23.0 ± 0.02</td><td style = \"text-align: right;\">21.0 ± 0.019</td></tr><tr><td class = \"rowNumber\" style = \"font-weight: bold; text-align: right;\">7</td><td style = \"text-align: right;\">2</td><td style = \"text-align: right;\">4</td><td style = \"text-align: right;\">6</td><td style = \"text-align: right;\">2710.0 ± 0.014</td><td style = \"text-align: right;\">80.0 ± 0.05</td><td style = \"text-align: right;\">20.0 ± 0.02</td><td style = \"text-align: right;\">25.0 ± 0.02</td><td style = \"text-align: right;\">22.0 ± 0.02</td></tr><tr><td class = \"rowNumber\" style = \"font-weight: bold; text-align: right;\">8</td><td style = \"text-align: right;\">2</td><td style = \"text-align: right;\">5</td><td style = \"text-align: right;\">7</td><td style = \"text-align: right;\">2710.0 ± 0.019</td><td style = \"text-align: right;\">100.0 ± 0.05</td><td style = \"text-align: right;\">30.0 ± 0.02</td><td style = \"text-align: right;\">30.0 ± 0.02</td><td style = \"text-align: right;\">21.0 ± 0.02</td></tr><tr><td class = \"rowNumber\" style = \"font-weight: bold; text-align: right;\">9</td><td style = \"text-align: right;\">3</td><td style = \"text-align: right;\">0</td><td style = \"text-align: right;\">1</td><td style = \"text-align: right;\">2710.0 ± 0.023</td><td style = \"text-align: right;\">145.0 ± 0.05</td><td style = \"text-align: right;\">23.0 ± 0.02</td><td style = \"text-align: right;\">28.0 ± 0.02</td><td style = \"text-align: right;\">25.0 ± 0.019</td></tr><tr><td class = \"rowNumber\" style = \"font-weight: bold; text-align: right;\">10</td><td style = \"text-align: right;\">3</td><td style = \"text-align: right;\">1</td><td style = \"text-align: right;\">2</td><td style = \"text-align: right;\">2710.0 ± 0.022</td><td style = \"text-align: right;\">105.0 ± 0.051</td><td style = \"text-align: right;\">26.0 ± 0.02</td><td style = \"text-align: right;\">26.0 ± 0.02</td><td style = \"text-align: right;\">29.0 ± 0.021</td></tr><tr><td class = \"rowNumber\" style = \"font-weight: bold; text-align: right;\">11</td><td style = \"text-align: right;\">3</td><td style = \"text-align: right;\">2</td><td style = \"text-align: right;\">3</td><td style = \"text-align: right;\">2710.0 ± 0.016</td><td style = \"text-align: right;\">80.0 ± 0.05</td><td style = \"text-align: right;\">23.0 ± 0.02</td><td style = \"text-align: right;\">26.0 ± 0.021</td><td style = \"text-align: right;\">25.0 ± 0.02</td></tr><tr><td class = \"rowNumber\" style = \"font-weight: bold; text-align: right;\">12</td><td style = \"text-align: right;\">3</td><td style = \"text-align: right;\">2</td><td style = \"text-align: right;\">4</td><td style = \"text-align: right;\">2710.0 ± 0.014</td><td style = \"text-align: right;\">70.0 ± 0.049</td><td style = \"text-align: right;\">28.0 ± 0.02</td><td style = \"text-align: right;\">31.0 ± 0.02</td><td style = \"text-align: right;\">25.0 ± 0.02</td></tr><tr><td class = \"rowNumber\" style = \"font-weight: bold; text-align: right;\">13</td><td style = \"text-align: right;\">3</td><td style = \"text-align: right;\">3</td><td style = \"text-align: right;\">5</td><td style = \"text-align: right;\">2710.0 ± 0.013</td><td style = \"text-align: right;\">95.0 ± 0.052</td><td style = \"text-align: right;\">28.0 ± 0.02</td><td style = \"text-align: right;\">25.0 ± 0.019</td><td style = \"text-align: right;\">30.0 ± 0.021</td></tr><tr><td style = \"text-align: right;\">&vellip;</td><td style = \"text-align: right;\">&vellip;</td><td style = \"text-align: right;\">&vellip;</td><td style = \"text-align: right;\">&vellip;</td><td style = \"text-align: right;\">&vellip;</td><td style = \"text-align: right;\">&vellip;</td><td style = \"text-align: right;\">&vellip;</td><td style = \"text-align: right;\">&vellip;</td><td style = \"text-align: right;\">&vellip;</td></tr><tr><td class = \"rowNumber\" style = \"font-weight: bold; text-align: right;\">34</td><td style = \"text-align: right;\">1</td><td style = \"text-align: right;\">4</td><td style = \"text-align: right;\">8</td><td style = \"text-align: right;\">2700.0 ± 0.021</td><td style = \"text-align: right;\">210.0 ± 0.049</td><td style = \"text-align: right;\">30.0 ± 0.02</td><td style = \"text-align: right;\">33.0 ± 0.02</td><td style = \"text-align: right;\">33.0 ± 0.02</td></tr><tr><td class = \"rowNumber\" style = \"font-weight: bold; text-align: right;\">35</td><td style = \"text-align: right;\">1</td><td style = \"text-align: right;\">5</td><td style = \"text-align: right;\">9</td><td style = \"text-align: right;\">2700.0 ± 0.014</td><td style = \"text-align: right;\">210.0 ± 0.05</td><td style = \"text-align: right;\">25.0 ± 0.02</td><td style = \"text-align: right;\">33.0 ± 0.02</td><td style = \"text-align: right;\">38.0 ± 0.02</td></tr><tr><td class = \"rowNumber\" style = \"font-weight: bold; text-align: right;\">36</td><td style = \"text-align: right;\">1</td><td style = \"text-align: right;\">6</td><td style = \"text-align: right;\">10</td><td style = \"text-align: right;\">2700.0 ± 0.017</td><td style = \"text-align: right;\">170.0 ± 0.051</td><td style = \"text-align: right;\">50.0 ± 0.02</td><td style = \"text-align: right;\">55.0 ± 0.02</td><td style = \"text-align: right;\">50.0 ± 0.02</td></tr><tr><td class = \"rowNumber\" style = \"font-weight: bold; text-align: right;\">37</td><td style = \"text-align: right;\">5</td><td style = \"text-align: right;\">0</td><td style = \"text-align: right;\">1</td><td style = \"text-align: right;\">2720.0 ± 0.017</td><td style = \"text-align: right;\">70.0 ± 0.049</td><td style = \"text-align: right;\">25.0 ± 0.019</td><td style = \"text-align: right;\">20.0 ± 0.02</td><td style = \"text-align: right;\">22.0 ± 0.02</td></tr><tr><td class = \"rowNumber\" style = \"font-weight: bold; text-align: right;\">38</td><td style = \"text-align: right;\">5</td><td style = \"text-align: right;\">0</td><td style = \"text-align: right;\">2</td><td style = \"text-align: right;\">2720.0 ± 0.02</td><td style = \"text-align: right;\">80.0 ± 0.049</td><td style = \"text-align: right;\">20.0 ± 0.02</td><td style = \"text-align: right;\">22.0 ± 0.02</td><td style = \"text-align: right;\">24.0 ± 0.02</td></tr><tr><td class = \"rowNumber\" style = \"font-weight: bold; text-align: right;\">39</td><td style = \"text-align: right;\">5</td><td style = \"text-align: right;\">0</td><td style = \"text-align: right;\">3</td><td style = \"text-align: right;\">2720.0 ± 0.019</td><td style = \"text-align: right;\">99.0 ± 0.051</td><td style = \"text-align: right;\">34.0 ± 0.02</td><td style = \"text-align: right;\">31.0 ± 0.021</td><td style = \"text-align: right;\">30.0 ± 0.02</td></tr><tr><td class = \"rowNumber\" style = \"font-weight: bold; text-align: right;\">40</td><td style = \"text-align: right;\">5</td><td style = \"text-align: right;\">1</td><td style = \"text-align: right;\">4</td><td style = \"text-align: right;\">2720.0 ± 0.017</td><td style = \"text-align: right;\">65.0 ± 0.05</td><td style = \"text-align: right;\">33.0 ± 0.02</td><td style = \"text-align: right;\">40.0 ± 0.02</td><td style = \"text-align: right;\">38.0 ± 0.02</td></tr><tr><td class = \"rowNumber\" style = \"font-weight: bold; text-align: right;\">41</td><td style = \"text-align: right;\">5</td><td style = \"text-align: right;\">2</td><td style = \"text-align: right;\">5</td><td style = \"text-align: right;\">2710.0 ± 0.014</td><td style = \"text-align: right;\">55.0 ± 0.05</td><td style = \"text-align: right;\">18.0 ± 0.02</td><td style = \"text-align: right;\">30.0 ± 0.02</td><td style = \"text-align: right;\">28.0 ± 0.02</td></tr><tr><td class = \"rowNumber\" style = \"font-weight: bold; text-align: right;\">42</td><td style = \"text-align: right;\">5</td><td style = \"text-align: right;\">2</td><td style = \"text-align: right;\">6</td><td style = \"text-align: right;\">2710.0 ± 0.014</td><td style = \"text-align: right;\">70.0 ± 0.05</td><td style = \"text-align: right;\">23.0 ± 0.02</td><td style = \"text-align: right;\">28.0 ± 0.02</td><td style = \"text-align: right;\">30.0 ± 0.02</td></tr><tr><td class = \"rowNumber\" style = \"font-weight: bold; text-align: right;\">43</td><td style = \"text-align: right;\">5</td><td style = \"text-align: right;\">3</td><td style = \"text-align: right;\">7</td><td style = \"text-align: right;\">2710.0 ± 0.019</td><td style = \"text-align: right;\">105.0 ± 0.05</td><td style = \"text-align: right;\">33.0 ± 0.02</td><td style = \"text-align: right;\">38.0 ± 0.02</td><td style = \"text-align: right;\">40.0 ± 0.02</td></tr><tr><td class = \"rowNumber\" style = \"font-weight: bold; text-align: right;\">44</td><td style = \"text-align: right;\">5</td><td style = \"text-align: right;\">4</td><td style = \"text-align: right;\">8</td><td style = \"text-align: right;\">2710.0 ± 0.012</td><td style = \"text-align: right;\">65.0 ± 0.051</td><td style = \"text-align: right;\">25.0 ± 0.02</td><td style = \"text-align: right;\">25.0 ± 0.02</td><td style = \"text-align: right;\">25.0 ± 0.019</td></tr><tr><td class = \"rowNumber\" style = \"font-weight: bold; text-align: right;\">45</td><td style = \"text-align: right;\">5</td><td style = \"text-align: right;\">5</td><td style = \"text-align: right;\">9</td><td style = \"text-align: right;\">2710.0 ± 0.013</td><td style = \"text-align: right;\">75.0 ± 0.05</td><td style = \"text-align: right;\">20.0 ± 0.02</td><td style = \"text-align: right;\">30.0 ± 0.02</td><td style = \"text-align: right;\">27.0 ± 0.02</td></tr></tbody></table></div>"
      ],
      "text/latex": [
       "\\begin{tabular}{r|cccccccc}\n",
       "\t& Stream & StreamSection & Order & Ellh\\_corr & Width & Depth1 & Depth2 & \\\\\n",
       "\t\\hline\n",
       "\t& Int64 & Int64 & Int64 & Particle… & Particle… & Particle… & Particle… & \\\\\n",
       "\t\\hline\n",
       "\t1 & 2 & 1 & 1 & 2710.0 ± 0.015 & 70.0 ± 0.05 & 25.0 ± 0.021 & 28.0 ± 0.02 & $\\dots$ \\\\\n",
       "\t2 & 2 & 2 & 2 & 2710.0 ± 0.012 & 110.0 ± 0.051 & 20.0 ± 0.02 & 25.0 ± 0.02 & $\\dots$ \\\\\n",
       "\t3 & 2 & 3 & 3 & 2710.0 ± 0.019 & 110.0 ± 0.049 & 15.0 ± 0.02 & 17.0 ± 0.02 & $\\dots$ \\\\\n",
       "\t4 & 2 & 4 & 3 & 2710.0 ± 0.01 & 110.0 ± 0.05 & 15.0 ± 0.02 & 17.0 ± 0.021 & $\\dots$ \\\\\n",
       "\t5 & 2 & 4 & 4 & 2710.0 ± 0.012 & 80.0 ± 0.05 & 20.0 ± 0.02 & 25.0 ± 0.02 & $\\dots$ \\\\\n",
       "\t6 & 2 & 4 & 5 & 2710.0 ± 0.015 & 140.0 ± 0.05 & 27.0 ± 0.02 & 23.0 ± 0.02 & $\\dots$ \\\\\n",
       "\t7 & 2 & 4 & 6 & 2710.0 ± 0.014 & 80.0 ± 0.05 & 20.0 ± 0.02 & 25.0 ± 0.02 & $\\dots$ \\\\\n",
       "\t8 & 2 & 5 & 7 & 2710.0 ± 0.019 & 100.0 ± 0.05 & 30.0 ± 0.02 & 30.0 ± 0.02 & $\\dots$ \\\\\n",
       "\t9 & 3 & 0 & 1 & 2710.0 ± 0.023 & 145.0 ± 0.05 & 23.0 ± 0.02 & 28.0 ± 0.02 & $\\dots$ \\\\\n",
       "\t10 & 3 & 1 & 2 & 2710.0 ± 0.022 & 105.0 ± 0.051 & 26.0 ± 0.02 & 26.0 ± 0.02 & $\\dots$ \\\\\n",
       "\t11 & 3 & 2 & 3 & 2710.0 ± 0.016 & 80.0 ± 0.05 & 23.0 ± 0.02 & 26.0 ± 0.021 & $\\dots$ \\\\\n",
       "\t12 & 3 & 2 & 4 & 2710.0 ± 0.014 & 70.0 ± 0.049 & 28.0 ± 0.02 & 31.0 ± 0.02 & $\\dots$ \\\\\n",
       "\t13 & 3 & 3 & 5 & 2710.0 ± 0.013 & 95.0 ± 0.052 & 28.0 ± 0.02 & 25.0 ± 0.019 & $\\dots$ \\\\\n",
       "\t14 & 3 & 4 & 6 & 2710.0 ± 0.013 & 105.0 ± 0.051 & 34.0 ± 0.02 & 25.0 ± 0.02 & $\\dots$ \\\\\n",
       "\t15 & 3 & 4 & 7 & 2710.0 ± 0.014 & 80.0 ± 0.051 & 20.0 ± 0.02 & 24.0 ± 0.02 & $\\dots$ \\\\\n",
       "\t16 & 3 & 4 & 8 & 2710.0 ± 0.014 & 80.0 ± 0.05 & 25.0 ± 0.02 & 30.0 ± 0.02 & $\\dots$ \\\\\n",
       "\t17 & 3 & 5 & 9 & 2710.0 ± 0.016 & 110.0 ± 0.049 & 15.0 ± 0.02 & 38.0 ± 0.019 & $\\dots$ \\\\\n",
       "\t18 & 4 & 1 & 1 & 2710.0 ± 0.014 & 140.0 ± 0.051 & 20.0 ± 0.02 & 18.0 ± 0.02 & $\\dots$ \\\\\n",
       "\t19 & 4 & 3 & 2 & 2710.0 ± 0.021 & 130.0 ± 0.05 & 15.0 ± 0.02 & 18.0 ± 0.02 & $\\dots$ \\\\\n",
       "\t20 & 4 & 4 & 3 & 2710.0 ± 0.016 & 120.0 ± 0.05 & 15.0 ± 0.02 & 28.0 ± 0.02 & $\\dots$ \\\\\n",
       "\t21 & 4 & 4 & 4 & 2710.0 ± 0.015 & 130.0 ± 0.05 & 6.0 ± 0.02 & 18.0 ± 0.02 & $\\dots$ \\\\\n",
       "\t22 & 4 & 4 & 5 & 2710.0 ± 0.013 & 95.0 ± 0.05 & 18.0 ± 0.019 & 18.0 ± 0.02 & $\\dots$ \\\\\n",
       "\t23 & 4 & 5 & 6 & 2710.0 ± 0.014 & 115.0 ± 0.049 & 30.0 ± 0.02 & 25.0 ± 0.02 & $\\dots$ \\\\\n",
       "\t24 & 4 & 6 & 7 & 2710.0 ± 0.016 & 120.0 ± 0.049 & 20.0 ± 0.02 & 18.0 ± 0.02 & $\\dots$ \\\\\n",
       "\t25 & 4 & 6 & 8 & 2710.0 ± 0.014 & 150.0 ± 0.049 & 20.0 ± 0.02 & 18.0 ± 0.02 & $\\dots$ \\\\\n",
       "\t26 & 1 & 1 & 1 & 2710.0 ± 0.016 & 150.0 ± 0.048 & 50.0 ± 0.02 & 30.0 ± 0.02 & $\\dots$ \\\\\n",
       "\t27 & 1 & 2 & 2 & 2710.0 ± 0.014 & 130.0 ± 0.05 & 50.0 ± 0.02 & 28.0 ± 0.02 & $\\dots$ \\\\\n",
       "\t28 & 1 & 2 & 3 & 2710.0 ± 0.021 & 145.0 ± 0.05 & 45.0 ± 0.02 & 40.0 ± 0.019 & $\\dots$ \\\\\n",
       "\t29 & 1 & 2 & 4 & 2710.0 ± 0.013 & 155.0 ± 0.05 & 30.0 ± 0.02 & 28.0 ± 0.019 & $\\dots$ \\\\\n",
       "\t30 & 1 & 3 & 5 & 2710.0 ± 0.017 & 150.0 ± 0.049 & 30.0 ± 0.02 & 40.0 ± 0.02 & $\\dots$ \\\\\n",
       "\t$\\dots$ & $\\dots$ & $\\dots$ & $\\dots$ & $\\dots$ & $\\dots$ & $\\dots$ & $\\dots$ &  \\\\\n",
       "\\end{tabular}\n"
      ],
      "text/plain": [
       "\u001b[1m45×8 DataFrame\u001b[0m\n",
       "\u001b[1m Row \u001b[0m│\u001b[1m Stream \u001b[0m\u001b[1m StreamSection \u001b[0m\u001b[1m Order \u001b[0m\u001b[1m Ellh_corr      \u001b[0m\u001b[1m Width         \u001b[0m\u001b[1m Depth1    \u001b[0m ⋯\n",
       "     │\u001b[90m Int64  \u001b[0m\u001b[90m Int64         \u001b[0m\u001b[90m Int64 \u001b[0m\u001b[90m Particle…      \u001b[0m\u001b[90m Particle…     \u001b[0m\u001b[90m Particle… \u001b[0m ⋯\n",
       "─────┼──────────────────────────────────────────────────────────────────────────\n",
       "   1 │      2              1      1  2710.0 ± 0.015   70.0 ± 0.05   25.0 ± 0.0 ⋯\n",
       "   2 │      2              2      2  2710.0 ± 0.012  110.0 ± 0.051  20.0 ± 0.0\n",
       "   3 │      2              3      3  2710.0 ± 0.019  110.0 ± 0.049  15.0 ± 0.0\n",
       "   4 │      2              4      3  2710.0 ± 0.01   110.0 ± 0.05   15.0 ± 0.0\n",
       "   5 │      2              4      4  2710.0 ± 0.012   80.0 ± 0.05   20.0 ± 0.0 ⋯\n",
       "   6 │      2              4      5  2710.0 ± 0.015  140.0 ± 0.05   27.0 ± 0.0\n",
       "   7 │      2              4      6  2710.0 ± 0.014   80.0 ± 0.05   20.0 ± 0.0\n",
       "   8 │      2              5      7  2710.0 ± 0.019  100.0 ± 0.05   30.0 ± 0.0\n",
       "   9 │      3              0      1  2710.0 ± 0.023  145.0 ± 0.05   23.0 ± 0.0 ⋯\n",
       "  10 │      3              1      2  2710.0 ± 0.022  105.0 ± 0.051  26.0 ± 0.0\n",
       "  11 │      3              2      3  2710.0 ± 0.016   80.0 ± 0.05   23.0 ± 0.0\n",
       "  ⋮  │   ⋮           ⋮          ⋮          ⋮               ⋮             ⋮     ⋱\n",
       "  36 │      1              6     10  2700.0 ± 0.017  170.0 ± 0.051  50.0 ± 0.0\n",
       "  37 │      5              0      1  2720.0 ± 0.017   70.0 ± 0.049  25.0 ± 0.0 ⋯\n",
       "  38 │      5              0      2  2720.0 ± 0.02    80.0 ± 0.049  20.0 ± 0.0\n",
       "  39 │      5              0      3  2720.0 ± 0.019   99.0 ± 0.051  34.0 ± 0.0\n",
       "  40 │      5              1      4  2720.0 ± 0.017   65.0 ± 0.05   33.0 ± 0.0\n",
       "  41 │      5              2      5  2710.0 ± 0.014   55.0 ± 0.05   18.0 ± 0.0 ⋯\n",
       "  42 │      5              2      6  2710.0 ± 0.014   70.0 ± 0.05   23.0 ± 0.0\n",
       "  43 │      5              3      7  2710.0 ± 0.019  105.0 ± 0.05   33.0 ± 0.0\n",
       "  44 │      5              4      8  2710.0 ± 0.012   65.0 ± 0.051  25.0 ± 0.0\n",
       "  45 │      5              5      9  2710.0 ± 0.013   75.0 ± 0.05   20.0 ± 0.0 ⋯\n",
       "\u001b[36m                                                   3 columns and 24 rows omitted\u001b[0m"
      ]
     },
     "execution_count": 4,
     "metadata": {},
     "output_type": "execute_result"
    }
   ],
   "source": [
    "StreamSurvey_full = CSV.read(\"../data/raw/streams_corr.csv\", DataFrame)\n",
    "StreamSurvey = StreamSurvey_full[:, [\"Stream\", \"StreamSection\", \"Order\", \"Ellh_corr\", \"Width\", \"Depth1\", \"Depth2\", \"Depth3\"]]\n",
    "StreamSurvey_full.\"Elevation RMS\"\n",
    "StreamSurvey.Ellh_corr = StreamSurvey.Ellh_corr ± StreamSurvey_full.\"Elevation RMS\"\n",
    "StreamSurvey.Width = StreamSurvey.Width ± 0.05 \n",
    "StreamSurvey.Depth1 = StreamSurvey.Depth1 ± 0.02\n",
    "StreamSurvey.Depth2 = StreamSurvey.Depth2 ± 0.02\n",
    "StreamSurvey.Depth3 = StreamSurvey.Depth3 ± 0.02\n",
    "StreamSurvey"
   ]
  },
  {
   "cell_type": "code",
   "execution_count": 5,
   "id": "68b67789-45c5-4b4b-9ae9-15cd244984bd",
   "metadata": {},
   "outputs": [
    {
     "data": {
      "text/html": [
       "<div><div style = \"float: left;\"><span>45×9 DataFrame</span></div><div style = \"float: right;\"><span style = \"font-style: italic;\">20 rows omitted</span></div><div style = \"clear: both;\"></div></div><div class = \"data-frame\" style = \"overflow-x: scroll;\"><table class = \"data-frame\" style = \"margin-bottom: 6px;\"><thead><tr class = \"header\"><th class = \"rowNumber\" style = \"font-weight: bold; text-align: right;\">Row</th><th style = \"text-align: left;\">Stream</th><th style = \"text-align: left;\">StreamSection</th><th style = \"text-align: left;\">Order</th><th style = \"text-align: left;\">Ellh_corr</th><th style = \"text-align: left;\">Width</th><th style = \"text-align: left;\">Depth1</th><th style = \"text-align: left;\">Depth2</th><th style = \"text-align: left;\">Depth3</th><th style = \"text-align: left;\">Depth_avg</th></tr><tr class = \"subheader headerLastRow\"><th class = \"rowNumber\" style = \"font-weight: bold; text-align: right;\"></th><th title = \"Int64\" style = \"text-align: left;\">Int64</th><th title = \"Int64\" style = \"text-align: left;\">Int64</th><th title = \"Int64\" style = \"text-align: left;\">Int64</th><th title = \"Particles{Float64, 2000}\" style = \"text-align: left;\">Particle…</th><th title = \"Particles{Float64, 2000}\" style = \"text-align: left;\">Particle…</th><th title = \"Particles{Float64, 2000}\" style = \"text-align: left;\">Particle…</th><th title = \"Particles{Float64, 2000}\" style = \"text-align: left;\">Particle…</th><th title = \"Particles{Float64, 2000}\" style = \"text-align: left;\">Particle…</th><th title = \"Particles{Float64, 2000}\" style = \"text-align: left;\">Particle…</th></tr></thead><tbody><tr><td class = \"rowNumber\" style = \"font-weight: bold; text-align: right;\">1</td><td style = \"text-align: right;\">2</td><td style = \"text-align: right;\">1</td><td style = \"text-align: right;\">1</td><td style = \"text-align: right;\">2710.0 ± 0.015</td><td style = \"text-align: right;\">70.0 ± 0.05</td><td style = \"text-align: right;\">25.0 ± 0.021</td><td style = \"text-align: right;\">28.0 ± 0.02</td><td style = \"text-align: right;\">28.0 ± 0.02</td><td style = \"text-align: right;\">27.0 ± 0.012</td></tr><tr><td class = \"rowNumber\" style = \"font-weight: bold; text-align: right;\">2</td><td style = \"text-align: right;\">2</td><td style = \"text-align: right;\">2</td><td style = \"text-align: right;\">2</td><td style = \"text-align: right;\">2710.0 ± 0.012</td><td style = \"text-align: right;\">110.0 ± 0.051</td><td style = \"text-align: right;\">20.0 ± 0.02</td><td style = \"text-align: right;\">25.0 ± 0.02</td><td style = \"text-align: right;\">22.0 ± 0.02</td><td style = \"text-align: right;\">22.3 ± 0.012</td></tr><tr><td class = \"rowNumber\" style = \"font-weight: bold; text-align: right;\">3</td><td style = \"text-align: right;\">2</td><td style = \"text-align: right;\">3</td><td style = \"text-align: right;\">3</td><td style = \"text-align: right;\">2710.0 ± 0.019</td><td style = \"text-align: right;\">110.0 ± 0.049</td><td style = \"text-align: right;\">15.0 ± 0.02</td><td style = \"text-align: right;\">17.0 ± 0.02</td><td style = \"text-align: right;\">25.0 ± 0.02</td><td style = \"text-align: right;\">19.0 ± 0.011</td></tr><tr><td class = \"rowNumber\" style = \"font-weight: bold; text-align: right;\">4</td><td style = \"text-align: right;\">2</td><td style = \"text-align: right;\">4</td><td style = \"text-align: right;\">3</td><td style = \"text-align: right;\">2710.0 ± 0.01</td><td style = \"text-align: right;\">110.0 ± 0.05</td><td style = \"text-align: right;\">15.0 ± 0.02</td><td style = \"text-align: right;\">17.0 ± 0.021</td><td style = \"text-align: right;\">25.0 ± 0.02</td><td style = \"text-align: right;\">19.0 ± 0.012</td></tr><tr><td class = \"rowNumber\" style = \"font-weight: bold; text-align: right;\">5</td><td style = \"text-align: right;\">2</td><td style = \"text-align: right;\">4</td><td style = \"text-align: right;\">4</td><td style = \"text-align: right;\">2710.0 ± 0.012</td><td style = \"text-align: right;\">80.0 ± 0.05</td><td style = \"text-align: right;\">20.0 ± 0.02</td><td style = \"text-align: right;\">25.0 ± 0.02</td><td style = \"text-align: right;\">22.0 ± 0.021</td><td style = \"text-align: right;\">22.3 ± 0.012</td></tr><tr><td class = \"rowNumber\" style = \"font-weight: bold; text-align: right;\">6</td><td style = \"text-align: right;\">2</td><td style = \"text-align: right;\">4</td><td style = \"text-align: right;\">5</td><td style = \"text-align: right;\">2710.0 ± 0.015</td><td style = \"text-align: right;\">140.0 ± 0.05</td><td style = \"text-align: right;\">27.0 ± 0.02</td><td style = \"text-align: right;\">23.0 ± 0.02</td><td style = \"text-align: right;\">21.0 ± 0.019</td><td style = \"text-align: right;\">23.7 ± 0.011</td></tr><tr><td class = \"rowNumber\" style = \"font-weight: bold; text-align: right;\">7</td><td style = \"text-align: right;\">2</td><td style = \"text-align: right;\">4</td><td style = \"text-align: right;\">6</td><td style = \"text-align: right;\">2710.0 ± 0.014</td><td style = \"text-align: right;\">80.0 ± 0.05</td><td style = \"text-align: right;\">20.0 ± 0.02</td><td style = \"text-align: right;\">25.0 ± 0.02</td><td style = \"text-align: right;\">22.0 ± 0.02</td><td style = \"text-align: right;\">22.3 ± 0.011</td></tr><tr><td class = \"rowNumber\" style = \"font-weight: bold; text-align: right;\">8</td><td style = \"text-align: right;\">2</td><td style = \"text-align: right;\">5</td><td style = \"text-align: right;\">7</td><td style = \"text-align: right;\">2710.0 ± 0.019</td><td style = \"text-align: right;\">100.0 ± 0.05</td><td style = \"text-align: right;\">30.0 ± 0.02</td><td style = \"text-align: right;\">30.0 ± 0.02</td><td style = \"text-align: right;\">21.0 ± 0.02</td><td style = \"text-align: right;\">27.0 ± 0.012</td></tr><tr><td class = \"rowNumber\" style = \"font-weight: bold; text-align: right;\">9</td><td style = \"text-align: right;\">3</td><td style = \"text-align: right;\">0</td><td style = \"text-align: right;\">1</td><td style = \"text-align: right;\">2710.0 ± 0.023</td><td style = \"text-align: right;\">145.0 ± 0.05</td><td style = \"text-align: right;\">23.0 ± 0.02</td><td style = \"text-align: right;\">28.0 ± 0.02</td><td style = \"text-align: right;\">25.0 ± 0.019</td><td style = \"text-align: right;\">25.3 ± 0.012</td></tr><tr><td class = \"rowNumber\" style = \"font-weight: bold; text-align: right;\">10</td><td style = \"text-align: right;\">3</td><td style = \"text-align: right;\">1</td><td style = \"text-align: right;\">2</td><td style = \"text-align: right;\">2710.0 ± 0.022</td><td style = \"text-align: right;\">105.0 ± 0.051</td><td style = \"text-align: right;\">26.0 ± 0.02</td><td style = \"text-align: right;\">26.0 ± 0.02</td><td style = \"text-align: right;\">29.0 ± 0.021</td><td style = \"text-align: right;\">27.0 ± 0.012</td></tr><tr><td class = \"rowNumber\" style = \"font-weight: bold; text-align: right;\">11</td><td style = \"text-align: right;\">3</td><td style = \"text-align: right;\">2</td><td style = \"text-align: right;\">3</td><td style = \"text-align: right;\">2710.0 ± 0.016</td><td style = \"text-align: right;\">80.0 ± 0.05</td><td style = \"text-align: right;\">23.0 ± 0.02</td><td style = \"text-align: right;\">26.0 ± 0.021</td><td style = \"text-align: right;\">25.0 ± 0.02</td><td style = \"text-align: right;\">24.7 ± 0.012</td></tr><tr><td class = \"rowNumber\" style = \"font-weight: bold; text-align: right;\">12</td><td style = \"text-align: right;\">3</td><td style = \"text-align: right;\">2</td><td style = \"text-align: right;\">4</td><td style = \"text-align: right;\">2710.0 ± 0.014</td><td style = \"text-align: right;\">70.0 ± 0.049</td><td style = \"text-align: right;\">28.0 ± 0.02</td><td style = \"text-align: right;\">31.0 ± 0.02</td><td style = \"text-align: right;\">25.0 ± 0.02</td><td style = \"text-align: right;\">28.0 ± 0.012</td></tr><tr><td class = \"rowNumber\" style = \"font-weight: bold; text-align: right;\">13</td><td style = \"text-align: right;\">3</td><td style = \"text-align: right;\">3</td><td style = \"text-align: right;\">5</td><td style = \"text-align: right;\">2710.0 ± 0.013</td><td style = \"text-align: right;\">95.0 ± 0.052</td><td style = \"text-align: right;\">28.0 ± 0.02</td><td style = \"text-align: right;\">25.0 ± 0.019</td><td style = \"text-align: right;\">30.0 ± 0.021</td><td style = \"text-align: right;\">27.7 ± 0.011</td></tr><tr><td style = \"text-align: right;\">&vellip;</td><td style = \"text-align: right;\">&vellip;</td><td style = \"text-align: right;\">&vellip;</td><td style = \"text-align: right;\">&vellip;</td><td style = \"text-align: right;\">&vellip;</td><td style = \"text-align: right;\">&vellip;</td><td style = \"text-align: right;\">&vellip;</td><td style = \"text-align: right;\">&vellip;</td><td style = \"text-align: right;\">&vellip;</td><td style = \"text-align: right;\">&vellip;</td></tr><tr><td class = \"rowNumber\" style = \"font-weight: bold; text-align: right;\">34</td><td style = \"text-align: right;\">1</td><td style = \"text-align: right;\">4</td><td style = \"text-align: right;\">8</td><td style = \"text-align: right;\">2700.0 ± 0.021</td><td style = \"text-align: right;\">210.0 ± 0.049</td><td style = \"text-align: right;\">30.0 ± 0.02</td><td style = \"text-align: right;\">33.0 ± 0.02</td><td style = \"text-align: right;\">33.0 ± 0.02</td><td style = \"text-align: right;\">32.0 ± 0.011</td></tr><tr><td class = \"rowNumber\" style = \"font-weight: bold; text-align: right;\">35</td><td style = \"text-align: right;\">1</td><td style = \"text-align: right;\">5</td><td style = \"text-align: right;\">9</td><td style = \"text-align: right;\">2700.0 ± 0.014</td><td style = \"text-align: right;\">210.0 ± 0.05</td><td style = \"text-align: right;\">25.0 ± 0.02</td><td style = \"text-align: right;\">33.0 ± 0.02</td><td style = \"text-align: right;\">38.0 ± 0.02</td><td style = \"text-align: right;\">32.0 ± 0.011</td></tr><tr><td class = \"rowNumber\" style = \"font-weight: bold; text-align: right;\">36</td><td style = \"text-align: right;\">1</td><td style = \"text-align: right;\">6</td><td style = \"text-align: right;\">10</td><td style = \"text-align: right;\">2700.0 ± 0.017</td><td style = \"text-align: right;\">170.0 ± 0.051</td><td style = \"text-align: right;\">50.0 ± 0.02</td><td style = \"text-align: right;\">55.0 ± 0.02</td><td style = \"text-align: right;\">50.0 ± 0.02</td><td style = \"text-align: right;\">51.7 ± 0.012</td></tr><tr><td class = \"rowNumber\" style = \"font-weight: bold; text-align: right;\">37</td><td style = \"text-align: right;\">5</td><td style = \"text-align: right;\">0</td><td style = \"text-align: right;\">1</td><td style = \"text-align: right;\">2720.0 ± 0.017</td><td style = \"text-align: right;\">70.0 ± 0.049</td><td style = \"text-align: right;\">25.0 ± 0.019</td><td style = \"text-align: right;\">20.0 ± 0.02</td><td style = \"text-align: right;\">22.0 ± 0.02</td><td style = \"text-align: right;\">22.3 ± 0.012</td></tr><tr><td class = \"rowNumber\" style = \"font-weight: bold; text-align: right;\">38</td><td style = \"text-align: right;\">5</td><td style = \"text-align: right;\">0</td><td style = \"text-align: right;\">2</td><td style = \"text-align: right;\">2720.0 ± 0.02</td><td style = \"text-align: right;\">80.0 ± 0.049</td><td style = \"text-align: right;\">20.0 ± 0.02</td><td style = \"text-align: right;\">22.0 ± 0.02</td><td style = \"text-align: right;\">24.0 ± 0.02</td><td style = \"text-align: right;\">22.0 ± 0.012</td></tr><tr><td class = \"rowNumber\" style = \"font-weight: bold; text-align: right;\">39</td><td style = \"text-align: right;\">5</td><td style = \"text-align: right;\">0</td><td style = \"text-align: right;\">3</td><td style = \"text-align: right;\">2720.0 ± 0.019</td><td style = \"text-align: right;\">99.0 ± 0.051</td><td style = \"text-align: right;\">34.0 ± 0.02</td><td style = \"text-align: right;\">31.0 ± 0.021</td><td style = \"text-align: right;\">30.0 ± 0.02</td><td style = \"text-align: right;\">31.7 ± 0.011</td></tr><tr><td class = \"rowNumber\" style = \"font-weight: bold; text-align: right;\">40</td><td style = \"text-align: right;\">5</td><td style = \"text-align: right;\">1</td><td style = \"text-align: right;\">4</td><td style = \"text-align: right;\">2720.0 ± 0.017</td><td style = \"text-align: right;\">65.0 ± 0.05</td><td style = \"text-align: right;\">33.0 ± 0.02</td><td style = \"text-align: right;\">40.0 ± 0.02</td><td style = \"text-align: right;\">38.0 ± 0.02</td><td style = \"text-align: right;\">37.0 ± 0.012</td></tr><tr><td class = \"rowNumber\" style = \"font-weight: bold; text-align: right;\">41</td><td style = \"text-align: right;\">5</td><td style = \"text-align: right;\">2</td><td style = \"text-align: right;\">5</td><td style = \"text-align: right;\">2710.0 ± 0.014</td><td style = \"text-align: right;\">55.0 ± 0.05</td><td style = \"text-align: right;\">18.0 ± 0.02</td><td style = \"text-align: right;\">30.0 ± 0.02</td><td style = \"text-align: right;\">28.0 ± 0.02</td><td style = \"text-align: right;\">25.3 ± 0.012</td></tr><tr><td class = \"rowNumber\" style = \"font-weight: bold; text-align: right;\">42</td><td style = \"text-align: right;\">5</td><td style = \"text-align: right;\">2</td><td style = \"text-align: right;\">6</td><td style = \"text-align: right;\">2710.0 ± 0.014</td><td style = \"text-align: right;\">70.0 ± 0.05</td><td style = \"text-align: right;\">23.0 ± 0.02</td><td style = \"text-align: right;\">28.0 ± 0.02</td><td style = \"text-align: right;\">30.0 ± 0.02</td><td style = \"text-align: right;\">27.0 ± 0.012</td></tr><tr><td class = \"rowNumber\" style = \"font-weight: bold; text-align: right;\">43</td><td style = \"text-align: right;\">5</td><td style = \"text-align: right;\">3</td><td style = \"text-align: right;\">7</td><td style = \"text-align: right;\">2710.0 ± 0.019</td><td style = \"text-align: right;\">105.0 ± 0.05</td><td style = \"text-align: right;\">33.0 ± 0.02</td><td style = \"text-align: right;\">38.0 ± 0.02</td><td style = \"text-align: right;\">40.0 ± 0.02</td><td style = \"text-align: right;\">37.0 ± 0.011</td></tr><tr><td class = \"rowNumber\" style = \"font-weight: bold; text-align: right;\">44</td><td style = \"text-align: right;\">5</td><td style = \"text-align: right;\">4</td><td style = \"text-align: right;\">8</td><td style = \"text-align: right;\">2710.0 ± 0.012</td><td style = \"text-align: right;\">65.0 ± 0.051</td><td style = \"text-align: right;\">25.0 ± 0.02</td><td style = \"text-align: right;\">25.0 ± 0.02</td><td style = \"text-align: right;\">25.0 ± 0.019</td><td style = \"text-align: right;\">25.0 ± 0.012</td></tr><tr><td class = \"rowNumber\" style = \"font-weight: bold; text-align: right;\">45</td><td style = \"text-align: right;\">5</td><td style = \"text-align: right;\">5</td><td style = \"text-align: right;\">9</td><td style = \"text-align: right;\">2710.0 ± 0.013</td><td style = \"text-align: right;\">75.0 ± 0.05</td><td style = \"text-align: right;\">20.0 ± 0.02</td><td style = \"text-align: right;\">30.0 ± 0.02</td><td style = \"text-align: right;\">27.0 ± 0.02</td><td style = \"text-align: right;\">25.7 ± 0.011</td></tr></tbody></table></div>"
      ],
      "text/latex": [
       "\\begin{tabular}{r|cccccccc}\n",
       "\t& Stream & StreamSection & Order & Ellh\\_corr & Width & Depth1 & Depth2 & \\\\\n",
       "\t\\hline\n",
       "\t& Int64 & Int64 & Int64 & Particle… & Particle… & Particle… & Particle… & \\\\\n",
       "\t\\hline\n",
       "\t1 & 2 & 1 & 1 & 2710.0 ± 0.015 & 70.0 ± 0.05 & 25.0 ± 0.021 & 28.0 ± 0.02 & $\\dots$ \\\\\n",
       "\t2 & 2 & 2 & 2 & 2710.0 ± 0.012 & 110.0 ± 0.051 & 20.0 ± 0.02 & 25.0 ± 0.02 & $\\dots$ \\\\\n",
       "\t3 & 2 & 3 & 3 & 2710.0 ± 0.019 & 110.0 ± 0.049 & 15.0 ± 0.02 & 17.0 ± 0.02 & $\\dots$ \\\\\n",
       "\t4 & 2 & 4 & 3 & 2710.0 ± 0.01 & 110.0 ± 0.05 & 15.0 ± 0.02 & 17.0 ± 0.021 & $\\dots$ \\\\\n",
       "\t5 & 2 & 4 & 4 & 2710.0 ± 0.012 & 80.0 ± 0.05 & 20.0 ± 0.02 & 25.0 ± 0.02 & $\\dots$ \\\\\n",
       "\t6 & 2 & 4 & 5 & 2710.0 ± 0.015 & 140.0 ± 0.05 & 27.0 ± 0.02 & 23.0 ± 0.02 & $\\dots$ \\\\\n",
       "\t7 & 2 & 4 & 6 & 2710.0 ± 0.014 & 80.0 ± 0.05 & 20.0 ± 0.02 & 25.0 ± 0.02 & $\\dots$ \\\\\n",
       "\t8 & 2 & 5 & 7 & 2710.0 ± 0.019 & 100.0 ± 0.05 & 30.0 ± 0.02 & 30.0 ± 0.02 & $\\dots$ \\\\\n",
       "\t9 & 3 & 0 & 1 & 2710.0 ± 0.023 & 145.0 ± 0.05 & 23.0 ± 0.02 & 28.0 ± 0.02 & $\\dots$ \\\\\n",
       "\t10 & 3 & 1 & 2 & 2710.0 ± 0.022 & 105.0 ± 0.051 & 26.0 ± 0.02 & 26.0 ± 0.02 & $\\dots$ \\\\\n",
       "\t11 & 3 & 2 & 3 & 2710.0 ± 0.016 & 80.0 ± 0.05 & 23.0 ± 0.02 & 26.0 ± 0.021 & $\\dots$ \\\\\n",
       "\t12 & 3 & 2 & 4 & 2710.0 ± 0.014 & 70.0 ± 0.049 & 28.0 ± 0.02 & 31.0 ± 0.02 & $\\dots$ \\\\\n",
       "\t13 & 3 & 3 & 5 & 2710.0 ± 0.013 & 95.0 ± 0.052 & 28.0 ± 0.02 & 25.0 ± 0.019 & $\\dots$ \\\\\n",
       "\t14 & 3 & 4 & 6 & 2710.0 ± 0.013 & 105.0 ± 0.051 & 34.0 ± 0.02 & 25.0 ± 0.02 & $\\dots$ \\\\\n",
       "\t15 & 3 & 4 & 7 & 2710.0 ± 0.014 & 80.0 ± 0.051 & 20.0 ± 0.02 & 24.0 ± 0.02 & $\\dots$ \\\\\n",
       "\t16 & 3 & 4 & 8 & 2710.0 ± 0.014 & 80.0 ± 0.05 & 25.0 ± 0.02 & 30.0 ± 0.02 & $\\dots$ \\\\\n",
       "\t17 & 3 & 5 & 9 & 2710.0 ± 0.016 & 110.0 ± 0.049 & 15.0 ± 0.02 & 38.0 ± 0.019 & $\\dots$ \\\\\n",
       "\t18 & 4 & 1 & 1 & 2710.0 ± 0.014 & 140.0 ± 0.051 & 20.0 ± 0.02 & 18.0 ± 0.02 & $\\dots$ \\\\\n",
       "\t19 & 4 & 3 & 2 & 2710.0 ± 0.021 & 130.0 ± 0.05 & 15.0 ± 0.02 & 18.0 ± 0.02 & $\\dots$ \\\\\n",
       "\t20 & 4 & 4 & 3 & 2710.0 ± 0.016 & 120.0 ± 0.05 & 15.0 ± 0.02 & 28.0 ± 0.02 & $\\dots$ \\\\\n",
       "\t21 & 4 & 4 & 4 & 2710.0 ± 0.015 & 130.0 ± 0.05 & 6.0 ± 0.02 & 18.0 ± 0.02 & $\\dots$ \\\\\n",
       "\t22 & 4 & 4 & 5 & 2710.0 ± 0.013 & 95.0 ± 0.05 & 18.0 ± 0.019 & 18.0 ± 0.02 & $\\dots$ \\\\\n",
       "\t23 & 4 & 5 & 6 & 2710.0 ± 0.014 & 115.0 ± 0.049 & 30.0 ± 0.02 & 25.0 ± 0.02 & $\\dots$ \\\\\n",
       "\t24 & 4 & 6 & 7 & 2710.0 ± 0.016 & 120.0 ± 0.049 & 20.0 ± 0.02 & 18.0 ± 0.02 & $\\dots$ \\\\\n",
       "\t25 & 4 & 6 & 8 & 2710.0 ± 0.014 & 150.0 ± 0.049 & 20.0 ± 0.02 & 18.0 ± 0.02 & $\\dots$ \\\\\n",
       "\t26 & 1 & 1 & 1 & 2710.0 ± 0.016 & 150.0 ± 0.048 & 50.0 ± 0.02 & 30.0 ± 0.02 & $\\dots$ \\\\\n",
       "\t27 & 1 & 2 & 2 & 2710.0 ± 0.014 & 130.0 ± 0.05 & 50.0 ± 0.02 & 28.0 ± 0.02 & $\\dots$ \\\\\n",
       "\t28 & 1 & 2 & 3 & 2710.0 ± 0.021 & 145.0 ± 0.05 & 45.0 ± 0.02 & 40.0 ± 0.019 & $\\dots$ \\\\\n",
       "\t29 & 1 & 2 & 4 & 2710.0 ± 0.013 & 155.0 ± 0.05 & 30.0 ± 0.02 & 28.0 ± 0.019 & $\\dots$ \\\\\n",
       "\t30 & 1 & 3 & 5 & 2710.0 ± 0.017 & 150.0 ± 0.049 & 30.0 ± 0.02 & 40.0 ± 0.02 & $\\dots$ \\\\\n",
       "\t$\\dots$ & $\\dots$ & $\\dots$ & $\\dots$ & $\\dots$ & $\\dots$ & $\\dots$ & $\\dots$ &  \\\\\n",
       "\\end{tabular}\n"
      ],
      "text/plain": [
       "\u001b[1m45×9 DataFrame\u001b[0m\n",
       "\u001b[1m Row \u001b[0m│\u001b[1m Stream \u001b[0m\u001b[1m StreamSection \u001b[0m\u001b[1m Order \u001b[0m\u001b[1m Ellh_corr      \u001b[0m\u001b[1m Width         \u001b[0m\u001b[1m Depth1    \u001b[0m ⋯\n",
       "     │\u001b[90m Int64  \u001b[0m\u001b[90m Int64         \u001b[0m\u001b[90m Int64 \u001b[0m\u001b[90m Particle…      \u001b[0m\u001b[90m Particle…     \u001b[0m\u001b[90m Particle… \u001b[0m ⋯\n",
       "─────┼──────────────────────────────────────────────────────────────────────────\n",
       "   1 │      2              1      1  2710.0 ± 0.015   70.0 ± 0.05   25.0 ± 0.0 ⋯\n",
       "   2 │      2              2      2  2710.0 ± 0.012  110.0 ± 0.051  20.0 ± 0.0\n",
       "   3 │      2              3      3  2710.0 ± 0.019  110.0 ± 0.049  15.0 ± 0.0\n",
       "   4 │      2              4      3  2710.0 ± 0.01   110.0 ± 0.05   15.0 ± 0.0\n",
       "   5 │      2              4      4  2710.0 ± 0.012   80.0 ± 0.05   20.0 ± 0.0 ⋯\n",
       "   6 │      2              4      5  2710.0 ± 0.015  140.0 ± 0.05   27.0 ± 0.0\n",
       "   7 │      2              4      6  2710.0 ± 0.014   80.0 ± 0.05   20.0 ± 0.0\n",
       "   8 │      2              5      7  2710.0 ± 0.019  100.0 ± 0.05   30.0 ± 0.0\n",
       "   9 │      3              0      1  2710.0 ± 0.023  145.0 ± 0.05   23.0 ± 0.0 ⋯\n",
       "  10 │      3              1      2  2710.0 ± 0.022  105.0 ± 0.051  26.0 ± 0.0\n",
       "  11 │      3              2      3  2710.0 ± 0.016   80.0 ± 0.05   23.0 ± 0.0\n",
       "  ⋮  │   ⋮           ⋮          ⋮          ⋮               ⋮             ⋮     ⋱\n",
       "  36 │      1              6     10  2700.0 ± 0.017  170.0 ± 0.051  50.0 ± 0.0\n",
       "  37 │      5              0      1  2720.0 ± 0.017   70.0 ± 0.049  25.0 ± 0.0 ⋯\n",
       "  38 │      5              0      2  2720.0 ± 0.02    80.0 ± 0.049  20.0 ± 0.0\n",
       "  39 │      5              0      3  2720.0 ± 0.019   99.0 ± 0.051  34.0 ± 0.0\n",
       "  40 │      5              1      4  2720.0 ± 0.017   65.0 ± 0.05   33.0 ± 0.0\n",
       "  41 │      5              2      5  2710.0 ± 0.014   55.0 ± 0.05   18.0 ± 0.0 ⋯\n",
       "  42 │      5              2      6  2710.0 ± 0.014   70.0 ± 0.05   23.0 ± 0.0\n",
       "  43 │      5              3      7  2710.0 ± 0.019  105.0 ± 0.05   33.0 ± 0.0\n",
       "  44 │      5              4      8  2710.0 ± 0.012   65.0 ± 0.051  25.0 ± 0.0\n",
       "  45 │      5              5      9  2710.0 ± 0.013   75.0 ± 0.05   20.0 ± 0.0 ⋯\n",
       "\u001b[36m                                                   4 columns and 24 rows omitted\u001b[0m"
      ]
     },
     "execution_count": 5,
     "metadata": {},
     "output_type": "execute_result"
    }
   ],
   "source": [
    "StreamSurvey[:, \"Depth_avg\"] = (StreamSurvey[:, \"Depth1\"] + StreamSurvey[:, \"Depth2\"] + StreamSurvey[:, \"Depth3\"])/3\n",
    "StreamSurvey"
   ]
  },
  {
   "cell_type": "code",
   "execution_count": 6,
   "id": "aa736ec8-9e9b-4073-ad80-6aa7797b8a63",
   "metadata": {},
   "outputs": [
    {
     "data": {
      "text/plain": [
       "11-element Vector{Particles{Float64, 2000}}:\n",
       " 150.0 ± 0.048\n",
       " 130.0 ± 0.05\n",
       " 145.0 ± 0.05\n",
       " 155.0 ± 0.05\n",
       " 150.0 ± 0.049\n",
       " 195.0 ± 0.051\n",
       " 195.0 ± 0.049\n",
       " 160.0 ± 0.05\n",
       " 210.0 ± 0.049\n",
       " 210.0 ± 0.05\n",
       " 170.0 ± 0.051"
      ]
     },
     "execution_count": 6,
     "metadata": {},
     "output_type": "execute_result"
    }
   ],
   "source": [
    "#trying to get average values per section, finish next time\n",
    "#for now i only have it per stream!!!\n",
    "StreamSurvey[StreamSurvey[:, \"Stream\"] .== 1, \"Width\"]"
   ]
  },
  {
   "cell_type": "code",
   "execution_count": 7,
   "id": "5af802c6-6ef7-4422-b512-033ba21e94e9",
   "metadata": {},
   "outputs": [
    {
     "ename": "LoadError",
     "evalue": "ParseError:\n\u001b[90m# Error @ \u001b[0;0m\u001b]8;;file://C:/Users/herol/julia/GlacierHydroFieldcourse.jl/notebooks/In[7]#5:13\u001b\\\u001b[90mIn[7]:5:13\u001b[0;0m\u001b]8;;\u001b\\\n            \n            \u001b[48;2;120;70;70m\u001b[0;0m\n\u001b[90m#           └ ── \u001b[0;0m\u001b[91mpremature end of input\u001b[0;0m",
     "output_type": "error",
     "traceback": [
      "ParseError:\n\u001b[90m# Error @ \u001b[0;0m\u001b]8;;file://C:/Users/herol/julia/GlacierHydroFieldcourse.jl/notebooks/In[7]#5:13\u001b\\\u001b[90mIn[7]:5:13\u001b[0;0m\u001b]8;;\u001b\\\n            \n            \u001b[48;2;120;70;70m\u001b[0;0m\n\u001b[90m#           └ ── \u001b[0;0m\u001b[91mpremature end of input\u001b[0;0m",
      "",
      "Stacktrace:",
      " [1] top-level scope",
      "   @ In[7]:5"
     ]
    }
   ],
   "source": [
    "\"\"\"\n",
    "for i in 1:5\n",
    "    for j in 1:length(StreamSurvey[:, \"Stream\"])\n",
    "        if StreamSurvey[j, \"Stream\"] == i\n",
    "\"\"\"          "
   ]
  },
  {
   "cell_type": "code",
   "execution_count": 8,
   "id": "2f6ec300-314d-42b8-846f-690b7ded52a8",
   "metadata": {},
   "outputs": [
    {
     "data": {
      "text/html": [
       "<div><div style = \"float: left;\"><span>10×6 DataFrame</span></div><div style = \"clear: both;\"></div></div><div class = \"data-frame\" style = \"overflow-x: scroll;\"><table class = \"data-frame\" style = \"margin-bottom: 6px;\"><thead><tr class = \"header\"><th class = \"rowNumber\" style = \"font-weight: bold; text-align: right;\">Row</th><th style = \"text-align: left;\">loc</th><th style = \"text-align: left;\">t_inj</th><th style = \"text-align: left;\">Q1</th><th style = \"text-align: left;\">Q2</th><th style = \"text-align: left;\">t1</th><th style = \"text-align: left;\">t2</th></tr><tr class = \"subheader headerLastRow\"><th class = \"rowNumber\" style = \"font-weight: bold; text-align: right;\"></th><th title = \"Int64\" style = \"text-align: left;\">Int64</th><th title = \"Dates.Time\" style = \"text-align: left;\">Time</th><th title = \"Particles{Float64, 2000}\" style = \"text-align: left;\">Particle…</th><th title = \"Particles{Float64, 2000}\" style = \"text-align: left;\">Particle…</th><th title = \"Particles{Float64, 2000}\" style = \"text-align: left;\">Particle…</th><th title = \"Particles{Float64, 2000}\" style = \"text-align: left;\">Particle…</th></tr></thead><tbody><tr><td class = \"rowNumber\" style = \"font-weight: bold; text-align: right;\">1</td><td style = \"text-align: right;\">2</td><td style = \"text-align: left;\">09:32:50</td><td style = \"text-align: right;\">NaN ± NaN</td><td style = \"text-align: right;\">0.084 ± 0.0084</td><td style = \"text-align: right;\">NaN ± NaN</td><td style = \"text-align: right;\">544.0 ± 2.0</td></tr><tr><td class = \"rowNumber\" style = \"font-weight: bold; text-align: right;\">2</td><td style = \"text-align: right;\">3</td><td style = \"text-align: left;\">10:11:00</td><td style = \"text-align: right;\">NaN ± NaN</td><td style = \"text-align: right;\">0.18 ± 0.018</td><td style = \"text-align: right;\">NaN ± NaN</td><td style = \"text-align: right;\">130.0 ± 2.1</td></tr><tr><td class = \"rowNumber\" style = \"font-weight: bold; text-align: right;\">3</td><td style = \"text-align: right;\">4</td><td style = \"text-align: left;\">10:42:30</td><td style = \"text-align: right;\">0.15 ± 0.015</td><td style = \"text-align: right;\">0.21 ± 0.021</td><td style = \"text-align: right;\">15.0 ± 4.8</td><td style = \"text-align: right;\">121.0 ± 2.0</td></tr><tr><td class = \"rowNumber\" style = \"font-weight: bold; text-align: right;\">4</td><td style = \"text-align: right;\">1</td><td style = \"text-align: left;\">11:41:00</td><td style = \"text-align: right;\">0.47 ± 0.047</td><td style = \"text-align: right;\">0.59 ± 0.059</td><td style = \"text-align: right;\">50.0 ± 5.1</td><td style = \"text-align: right;\">104.0 ± 2.0</td></tr><tr><td class = \"rowNumber\" style = \"font-weight: bold; text-align: right;\">5</td><td style = \"text-align: right;\">2</td><td style = \"text-align: left;\">14:15:14</td><td style = \"text-align: right;\">0.14 ± 0.014</td><td style = \"text-align: right;\">0.22 ± 0.022</td><td style = \"text-align: right;\">160.0 ± 4.9</td><td style = \"text-align: right;\">367.0 ± 2.0</td></tr><tr><td class = \"rowNumber\" style = \"font-weight: bold; text-align: right;\">6</td><td style = \"text-align: right;\">3</td><td style = \"text-align: left;\">14:59:25</td><td style = \"text-align: right;\">0.23 ± 0.023</td><td style = \"text-align: right;\">0.29 ± 0.029</td><td style = \"text-align: right;\">39.8 ± 5.1</td><td style = \"text-align: right;\">98.9 ± 2.0</td></tr><tr><td class = \"rowNumber\" style = \"font-weight: bold; text-align: right;\">7</td><td style = \"text-align: right;\">1</td><td style = \"text-align: left;\">16:25:06</td><td style = \"text-align: right;\">0.61 ± 0.061</td><td style = \"text-align: right;\">0.77 ± 0.077</td><td style = \"text-align: right;\">29.9 ± 4.9</td><td style = \"text-align: right;\">88.0 ± 2.0</td></tr><tr><td class = \"rowNumber\" style = \"font-weight: bold; text-align: right;\">8</td><td style = \"text-align: right;\">4</td><td style = \"text-align: left;\">15:40:05</td><td style = \"text-align: right;\">0.22 ± 0.022</td><td style = \"text-align: right;\">0.25 ± 0.025</td><td style = \"text-align: right;\">20.1 ± 5.0</td><td style = \"text-align: right;\">121.0 ± 2.0</td></tr><tr><td class = \"rowNumber\" style = \"font-weight: bold; text-align: right;\">9</td><td style = \"text-align: right;\">1</td><td style = \"text-align: left;\">09:18:35</td><td style = \"text-align: right;\">0.065 ± 0.0065</td><td style = \"text-align: right;\">0.074 ± 0.0074</td><td style = \"text-align: right;\">115.0 ± 5.1</td><td style = \"text-align: right;\">293.0 ± 2.0</td></tr><tr><td class = \"rowNumber\" style = \"font-weight: bold; text-align: right;\">10</td><td style = \"text-align: right;\">5</td><td style = \"text-align: left;\">12:59:00</td><td style = \"text-align: right;\">0.25 ± 0.025</td><td style = \"text-align: right;\">0.34 ± 0.034</td><td style = \"text-align: right;\">35.0 ± 4.9</td><td style = \"text-align: right;\">66.0 ± 2.0</td></tr></tbody></table></div>"
      ],
      "text/latex": [
       "\\begin{tabular}{r|cccccc}\n",
       "\t& loc & t\\_inj & Q1 & Q2 & t1 & t2\\\\\n",
       "\t\\hline\n",
       "\t& Int64 & Time & Particle… & Particle… & Particle… & Particle…\\\\\n",
       "\t\\hline\n",
       "\t1 & 2 & 09:32:50 & NaN ± NaN & 0.084 ± 0.0084 & NaN ± NaN & 544.0 ± 2.0 \\\\\n",
       "\t2 & 3 & 10:11:00 & NaN ± NaN & 0.18 ± 0.018 & NaN ± NaN & 130.0 ± 2.1 \\\\\n",
       "\t3 & 4 & 10:42:30 & 0.15 ± 0.015 & 0.21 ± 0.021 & 15.0 ± 4.8 & 121.0 ± 2.0 \\\\\n",
       "\t4 & 1 & 11:41:00 & 0.47 ± 0.047 & 0.59 ± 0.059 & 50.0 ± 5.1 & 104.0 ± 2.0 \\\\\n",
       "\t5 & 2 & 14:15:14 & 0.14 ± 0.014 & 0.22 ± 0.022 & 160.0 ± 4.9 & 367.0 ± 2.0 \\\\\n",
       "\t6 & 3 & 14:59:25 & 0.23 ± 0.023 & 0.29 ± 0.029 & 39.8 ± 5.1 & 98.9 ± 2.0 \\\\\n",
       "\t7 & 1 & 16:25:06 & 0.61 ± 0.061 & 0.77 ± 0.077 & 29.9 ± 4.9 & 88.0 ± 2.0 \\\\\n",
       "\t8 & 4 & 15:40:05 & 0.22 ± 0.022 & 0.25 ± 0.025 & 20.1 ± 5.0 & 121.0 ± 2.0 \\\\\n",
       "\t9 & 1 & 09:18:35 & 0.065 ± 0.0065 & 0.074 ± 0.0074 & 115.0 ± 5.1 & 293.0 ± 2.0 \\\\\n",
       "\t10 & 5 & 12:59:00 & 0.25 ± 0.025 & 0.34 ± 0.034 & 35.0 ± 4.9 & 66.0 ± 2.0 \\\\\n",
       "\\end{tabular}\n"
      ],
      "text/plain": [
       "\u001b[1m10×6 DataFrame\u001b[0m\n",
       "\u001b[1m Row \u001b[0m│\u001b[1m loc   \u001b[0m\u001b[1m t_inj    \u001b[0m\u001b[1m Q1                     \u001b[0m\u001b[1m Q2             \u001b[0m\u001b[1m t1            \u001b[0m ⋯\n",
       "     │\u001b[90m Int64 \u001b[0m\u001b[90m Time     \u001b[0m\u001b[90m Particle…              \u001b[0m\u001b[90m Particle…      \u001b[0m\u001b[90m Particle…     \u001b[0m ⋯\n",
       "─────┼──────────────────────────────────────────────────────────────────────────\n",
       "   1 │     2  09:32:50  NaN ± NaN               0.084 ± 0.0084  NaN ± NaN      ⋯\n",
       "   2 │     3  10:11:00  NaN ± NaN               0.18 ± 0.018    NaN ± NaN\n",
       "   3 │     4  10:42:30          0.15 ± 0.015    0.21 ± 0.021           15.0 ±\n",
       "   4 │     1  11:41:00          0.47 ± 0.047    0.59 ± 0.059           50.0 ±\n",
       "   5 │     2  14:15:14          0.14 ± 0.014    0.22 ± 0.022          160.0 ±  ⋯\n",
       "   6 │     3  14:59:25          0.23 ± 0.023    0.29 ± 0.029           39.8 ±\n",
       "   7 │     1  16:25:06          0.61 ± 0.061    0.77 ± 0.077           29.9 ±\n",
       "   8 │     4  15:40:05          0.22 ± 0.022    0.25 ± 0.025           20.1 ±\n",
       "   9 │     1  09:18:35          0.065 ± 0.0065  0.074 ± 0.0074        115.0 ±  ⋯\n",
       "  10 │     5  12:59:00          0.25 ± 0.025    0.34 ± 0.034           35.0 ±\n",
       "\u001b[36m                                                               2 columns omitted\u001b[0m"
      ]
     },
     "execution_count": 8,
     "metadata": {},
     "output_type": "execute_result"
    }
   ],
   "source": [
    "#traces from 5_...uncertainties\n",
    "traces"
   ]
  }
 ],
 "metadata": {
  "kernelspec": {
   "display_name": "Julia 1.10.5",
   "language": "julia",
   "name": "julia-1.10"
  },
  "language_info": {
   "file_extension": ".jl",
   "mimetype": "application/julia",
   "name": "julia",
   "version": "1.10.5"
  }
 },
 "nbformat": 4,
 "nbformat_minor": 5
}
