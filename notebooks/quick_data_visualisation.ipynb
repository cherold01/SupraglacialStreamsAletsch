{
 "cells": [
  {
   "cell_type": "markdown",
   "source": [
    "# Visual inspection of sensor data\n",
    "\n",
    "Here a few functions to visually inspect your data.\n",
    "See `1_intro.jl`/`1_intro.ipynb` for an intro to Julia/Jupyter."
   ],
   "metadata": {}
  },
  {
   "cell_type": "markdown",
   "source": [
    "Load helper_functions.jl and plotting package (`PyPlot`)"
   ],
   "metadata": {}
  },
  {
   "outputs": [
    {
     "output_type": "execute_result",
     "data": {
      "text/plain": "true"
     },
     "metadata": {},
     "execution_count": 1
    }
   ],
   "cell_type": "code",
   "source": [
    "using NBInclude\n",
    "@nbinclude(\"helper_functions.ipynb\")\n",
    "using PyPlot\n",
    "pygui(true) # to get an interactive, zoomable plot\n",
    "            # (does not work when running a notebook on a server, only locally)\n",
    "# pygui(false) # to get in-line plots"
   ],
   "metadata": {},
   "execution_count": 1
  },
  {
   "cell_type": "markdown",
   "source": [
    "Function which does the plotting"
   ],
   "metadata": {}
  },
  {
   "outputs": [
    {
     "output_type": "execute_result",
     "data": {
      "text/plain": "Main.var\"##302\".plotit"
     },
     "metadata": {},
     "execution_count": 2
    }
   ],
   "cell_type": "code",
   "source": [
    "\"\"\"\n",
    "   plotit(filename, sensor, variable=:cond, ax=gca())\n",
    "\n",
    "Plots the results from one file.  By default into the current axis\n",
    "\"\"\"\n",
    "function plotit(filename, sensor, variable=:cond, ax=gca())\n",
    "    # load\n",
    "    if sensor==:CTD\n",
    "        d = read_Keller_DCX22_CTD(filename)\n",
    "    elseif sensor==:DC22\n",
    "        d = read_Keller_DC22(filename)\n",
    "    elseif sensor==:DCX22\n",
    "        d = read_Keller_DCX22(filename)\n",
    "    else\n",
    "        error(\"Don't know how to read data from sensor: $sensor\")\n",
    "    end\n",
    "    # plot\n",
    "    plot(d[:t], d[variable])\n",
    "    title(\"$filename, sensor=$sensor, variable=$variable\")\n",
    "end"
   ],
   "metadata": {},
   "execution_count": 2
  },
  {
   "cell_type": "markdown",
   "source": [
    "Call above function to do the plotting.  Example plotting the pressure:"
   ],
   "metadata": {}
  },
  {
   "outputs": [
    {
     "output_type": "execute_result",
     "data": {
      "text/plain": "PyObject Text(0.5, 1.0, '../data/raw/example/205145-10mH2O_25_08_2021-09_00_00.CSV, sensor=CTD, variable=press')"
     },
     "metadata": {},
     "execution_count": 3
    }
   ],
   "cell_type": "code",
   "source": [
    "plotit(\"../data/raw/example/205145-10mH2O_25_08_2021-09_00_00.CSV\", :CTD, :press)"
   ],
   "metadata": {},
   "execution_count": 3
  },
  {
   "cell_type": "markdown",
   "source": [
    "---\n",
    "\n",
    "*This notebook was generated using [Literate.jl](https://github.com/fredrikekre/Literate.jl).*"
   ],
   "metadata": {}
  }
 ],
 "nbformat_minor": 3,
 "metadata": {
  "language_info": {
   "file_extension": ".jl",
   "mimetype": "application/julia",
   "name": "julia",
   "version": "1.9.2"
  },
  "kernelspec": {
   "name": "julia-1.9",
   "display_name": "Julia 1.9.2",
   "language": "julia"
  }
 },
 "nbformat": 4
}
