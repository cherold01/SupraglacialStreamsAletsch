{
 "cells": [
  {
   "cell_type": "markdown",
   "metadata": {},
   "source": [
    "# Visual inspection of sensor data\n",
    "\n",
    "Here a few functions to visually inspect your data.\n",
    "See `1_intro.jl`/`1_intro.ipynb` for an intro to Julia/Jupyter."
   ]
  },
  {
   "cell_type": "markdown",
   "metadata": {},
   "source": [
    "Load helper_functions.jl and plotting package (`PyPlot`)"
   ]
  },
  {
   "cell_type": "code",
   "execution_count": 1,
   "metadata": {},
   "outputs": [
    {
     "data": {
      "text/plain": [
       "true"
      ]
     },
     "execution_count": 1,
     "metadata": {},
     "output_type": "execute_result"
    }
   ],
   "source": [
    "using NBInclude\n",
    "@nbinclude(\"helper_functions.ipynb\")\n",
    "using PyPlot\n",
    "pygui(true) # to get an interactive, zoomable plot\n",
    "            # (does not work when running a notebook on a server, only locally)\n",
    "# pygui(false) # to get in-line plots"
   ]
  },
  {
   "cell_type": "markdown",
   "metadata": {},
   "source": [
    "Function which does the plotting"
   ]
  },
  {
   "cell_type": "code",
   "execution_count": 2,
   "metadata": {},
   "outputs": [
    {
     "data": {
      "text/plain": [
       "plotit"
      ]
     },
     "execution_count": 2,
     "metadata": {},
     "output_type": "execute_result"
    }
   ],
   "source": [
    "\"\"\"\n",
    "   plotit(filename, sensor, variable=:cond, ax=gca())\n",
    "\n",
    "Plots the results from one file.  By default into the current axis\n",
    "\"\"\"\n",
    "function plotit(filename, sensor, variable=:cond, ax=gca())\n",
    "    # load\n",
    "    d = if sensor==:CTD\n",
    "        read_Keller_DCX22_CTD(filename)\n",
    "    elseif sensor==:DC22\n",
    "        read_Keller_DC22(filename)\n",
    "    elseif sensor==:DCX22\n",
    "        read_Keller_DCX22(filename)\n",
    "    elseif sensor==:WTW\n",
    "        read_WTW(filename)\n",
    "    else\n",
    "        error(\"Don't know how to read data from sensor: $sensor\")\n",
    "    end\n",
    "    # plot\n",
    "    plot(d[:t], d[variable])\n",
    "    title(\"$filename, sensor=$sensor, variable=$variable\")\n",
    "end"
   ]
  },
  {
   "cell_type": "markdown",
   "metadata": {},
   "source": [
    "Call above function to do the plotting.  Example plotting the pressure:"
   ]
  },
  {
   "cell_type": "code",
   "execution_count": 4,
   "metadata": {},
   "outputs": [
    {
     "data": {
      "text/plain": [
       "PyObject Text(0.5, 1.0, '../data/raw/example/205145-10mH2O_25_08_2021-09_00_00.CSV, sensor=CTD, variable=press')"
      ]
     },
     "execution_count": 4,
     "metadata": {},
     "output_type": "execute_result"
    }
   ],
   "source": [
    "plotit(\"../data/raw/example/205145-10mH2O_25_08_2021-09_00_00.CSV\", :CTD, :press)\n",
    "#plotit(\"../data/raw/example-WTW/AD422041.CSV\", :WTW, :cond)"
   ]
  },
  {
   "cell_type": "markdown",
   "metadata": {},
   "source": [
    "---\n",
    "\n",
    "*This notebook was generated using [Literate.jl](https://github.com/fredrikekre/Literate.jl).*"
   ]
  }
 ],
 "metadata": {
  "kernelspec": {
   "display_name": "Julia 1.10.5",
   "language": "julia",
   "name": "julia-1.10"
  },
  "language_info": {
   "file_extension": ".jl",
   "mimetype": "application/julia",
   "name": "julia",
   "version": "1.10.5"
  }
 },
 "nbformat": 4,
 "nbformat_minor": 4
}
